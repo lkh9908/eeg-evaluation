{
 "cells": [
  {
   "cell_type": "code",
   "execution_count": 1,
   "metadata": {},
   "outputs": [],
   "source": [
    "import pyedflib\n",
    "import numpy as np\n",
    "import xmltodict\n",
    "import json\n",
    "import mne\n",
    "import matplotlib\n",
    "import math\n",
    "import pathlib\n",
    "from mne_extras import write_mne_edf"
   ]
  },
  {
   "cell_type": "code",
   "execution_count": 2,
   "metadata": {},
   "outputs": [],
   "source": [
    "matplotlib.use('Qt5Agg')"
   ]
  },
  {
   "cell_type": "code",
   "execution_count": 30,
   "metadata": {},
   "outputs": [],
   "source": [
    "#setting up paths for inputs and outputs\n",
    "file_name = '2021-07-12_111459_RawData'\n",
    "\n",
    "input_path = './input_txt/mzk_20210629/'\n",
    "output_path_edf = './output_edf/'\n",
    "output_path_fif = './output_fif/'\n",
    "\n",
    "# ch_one = file_name + '_Ch1.txt'\n",
    "# ch_two = file_name + '_Ch2.txt'\n",
    "ch_one = '2021-07-12_111459_Filter_Data' + '_Ch1.txt'\n",
    "ch_two = '2021-07-12_111459_Filter_Data' + '_Ch2.txt'\n",
    "\n",
    "ch_three = file_name + '_Ch3.txt'\n",
    "ch_four = file_name + '_Ch4.txt'\n",
    "\n",
    "xml = '2021-07-12_111459.xml'\n",
    "\n",
    "out_file_name = '2021-07-12_111459_Filter_Data_me_thinking'\n",
    "out_name_edf = out_file_name + '.edf'\n",
    "out_name_fif = out_file_name + '.fif'\n",
    "out_name_final = 'final_' + out_file_name + '.edf'\n",
    "\n",
    "ch_one_path = input_path + ch_one\n",
    "ch_two_path = input_path + ch_two\n",
    "ch_three_path = input_path + ch_three\n",
    "ch_four_path = input_path + ch_four\n",
    "xml_path = input_path + xml\n",
    "out_file_path_edf = output_path_edf + out_name_edf\n",
    "out_file_path_fif = output_path_fif + out_name_fif\n",
    "out_final_edf = output_path_edf + out_name_final"
   ]
  },
  {
   "cell_type": "code",
   "execution_count": 31,
   "metadata": {},
   "outputs": [],
   "source": [
    "#read from .txt and convert data into numpy array\n",
    "#each dataset is composed of two channels (.txt) and one information doc (.xml)\n",
    "raw_one = np.loadtxt(ch_one_path)\n",
    "raw_two = np.loadtxt(ch_two_path)\n",
    "raw_three = np.loadtxt(ch_three_path)\n",
    "raw_four = np.loadtxt(ch_four_path)\n",
    "signal = [np.array(raw_one, dtype=np.float32), np.array(raw_two, dtype=np.float32), np.array(raw_three, dtype=np.float32), np.array(raw_four, dtype=np.float32)]"
   ]
  },
  {
   "cell_type": "code",
   "execution_count": 32,
   "metadata": {},
   "outputs": [],
   "source": [
    "#read .xml doc and extract needed info\n",
    "fileptr = open(xml_path, \"r\")\n",
    "\n",
    "xml_content = fileptr.read()\n",
    "\n",
    "my_ordered_dict = xmltodict.parse(xml_content)\n",
    "dict = json.loads(json.dumps(my_ordered_dict))\n",
    "\n",
    "sample_rate = eval(dict['RECORD_INFO']['Record']['SamplesFreq'])"
   ]
  },
  {
   "cell_type": "code",
   "execution_count": 33,
   "metadata": {},
   "outputs": [
    {
     "name": "stdout",
     "output_type": "stream",
     "text": [
      "./output_edf/2021-07-12_111459_Filter_Data_me_thinking.edf\n",
      "True\n"
     ]
    }
   ],
   "source": [
    "#setting up info needed for .edf generation and write .edf file\n",
    "headers = [{'label':'ch1', \n",
    "            'dimension': 'uV',\n",
    "            'sample_rate': sample_rate,\n",
    "            'physical_max': 5000,\n",
    "            \"physical_min\": -5000,\n",
    "            'digital_max': 5000,\n",
    "            'digital_min': -5000,\n",
    "            'transducer': 'None',\n",
    "            'prefilter': 'None'},\n",
    "            {'label':'ch2', \n",
    "            'dimension': 'uV',\n",
    "            'sample_rate': sample_rate,\n",
    "            'physical_max': 5000,\n",
    "            \"physical_min\": -5000,\n",
    "            'digital_max': 5000,\n",
    "            'digital_min': -5000,\n",
    "            'transducer': 'None',\n",
    "            'prefilter': 'None'},\n",
    "          {'label':'ch3', \n",
    "            'dimension': 'uV',\n",
    "            'sample_rate': sample_rate,\n",
    "            'physical_max': 5000,\n",
    "            \"physical_min\": -5000,\n",
    "            'digital_max': 5000,\n",
    "            'digital_min': -5000,\n",
    "            'transducer': 'None',\n",
    "            'prefilter': 'None'},\n",
    "          {'label':'ch4', \n",
    "            'dimension': 'uV',\n",
    "            'sample_rate': sample_rate,\n",
    "            'physical_max': 5000,\n",
    "            \"physical_min\": -5000,\n",
    "            'digital_max': 5000,\n",
    "            'digital_min': -5000,\n",
    "            'transducer': 'None',\n",
    "            'prefilter': 'None'}]\n",
    "with open(out_file_path_edf, 'w') as output:\n",
    "    print(out_file_path_edf)\n",
    "    flag = pyedflib.highlevel.write_edf(output.name, signal, headers, header=None, digital=False, file_type=-1, block_size=1)\n",
    "    print(flag)"
   ]
  },
  {
   "cell_type": "code",
   "execution_count": 34,
   "metadata": {},
   "outputs": [
    {
     "name": "stdout",
     "output_type": "stream",
     "text": [
      "Extracting EDF parameters from C:\\Users\\admin\\Desktop\\work\\my_evaluator\\output_edf\\2021-07-12_111459_Filter_Data_me_thinking.edf...\n",
      "EDF file detected\n",
      "Setting channel info structure...\n",
      "Creating raw.info structure...\n"
     ]
    }
   ],
   "source": [
    "#read the newly created .edf using mne\n",
    "raw=mne.io.read_raw_edf(out_file_path_edf,preload=False)"
   ]
  },
  {
   "cell_type": "code",
   "execution_count": 35,
   "metadata": {},
   "outputs": [
    {
     "data": {
      "text/html": [
       "\n",
       "\n",
       "<table class=\"table table-hover\">\n",
       "    <tr>\n",
       "        <th>Measurement date</th>\n",
       "        <td>July 12, 2021  13:50:02 GMT</td>\n",
       "        \n",
       "    </tr>\n",
       "    <tr>\n",
       "        <th>Experimenter</th>\n",
       "<td>Unknown</td>\n",
       "    </tr>\n",
       "        <th>Participant</th>\n",
       "<td>Unknown</td>\n",
       "    </tr>\n",
       "    <tr>\n",
       "        <th>Digitized points</th>\n",
       "        <td>Not available</td>\n",
       "    </tr>\n",
       "    <tr>\n",
       "        <th>Good channels</th>\n",
       "        <td>0 magnetometer, 0 gradiometer,\n",
       "            and 4 EEG channels</td>\n",
       "    </tr>\n",
       "    <tr>\n",
       "        <th>Bad channels</th>\n",
       "        <td></td>\n",
       "        \n",
       "    </tr>\n",
       "    <tr>\n",
       "        <th>EOG channels</th>\n",
       "        <td>Not available</td>\n",
       "    </tr>\n",
       "    <tr>\n",
       "        <th>ECG channels</th>\n",
       "        <td>Not available</td>\n",
       "    <tr>\n",
       "        <th>Sampling frequency</th>\n",
       "        <td>1024.00 Hz</td>\n",
       "    </tr>\n",
       "    <tr>\n",
       "        <th>Highpass</th>\n",
       "        <td>0.00 Hz</td>\n",
       "    </tr>\n",
       "     <tr>\n",
       "        <th>Lowpass</th>\n",
       "        <td>512.00 Hz</td>\n",
       "    </tr>\n",
       "\n",
       "    <tr>\n",
       "        <th>Filenames</th>\n",
       "        <td>2021-07-12_111459_Filter_Data_me_thinking.edf</td>\n",
       "    </tr>\n",
       "    <tr>\n",
       "        <th>Duration</th>\n",
       "        <td>00:00:39 (HH:MM:SS)</td>\n",
       "    </tr>\n",
       "</table>\n"
      ],
      "text/plain": [
       "<RawEDF | 2021-07-12_111459_Filter_Data_me_thinking.edf, 4 x 40960 (40.0 s), ~9 kB, data not loaded>"
      ]
     },
     "execution_count": 35,
     "metadata": {},
     "output_type": "execute_result"
    }
   ],
   "source": [
    "raw"
   ]
  },
  {
   "cell_type": "code",
   "execution_count": 36,
   "metadata": {},
   "outputs": [
    {
     "data": {
      "text/plain": [
       "<MNEBrowseFigure size 1919x786 with 4 Axes>"
      ]
     },
     "execution_count": 36,
     "metadata": {},
     "output_type": "execute_result"
    },
    {
     "name": "stdout",
     "output_type": "stream",
     "text": [
      "Channels marked as bad: ['ch1']\n"
     ]
    }
   ],
   "source": [
    "raw.plot()"
   ]
  },
  {
   "cell_type": "code",
   "execution_count": 37,
   "metadata": {},
   "outputs": [],
   "source": [
    "#create events using mne\n",
    "#events are equally spaced out for epoch division\n",
    "new_events = mne.make_fixed_length_events(raw, duration=2.)\n",
    "event_dict = {'divide':1}"
   ]
  },
  {
   "cell_type": "code",
   "execution_count": 38,
   "metadata": {},
   "outputs": [
    {
     "name": "stdout",
     "output_type": "stream",
     "text": [
      "Not setting metadata\n",
      "Not setting metadata\n",
      "20 matching events found\n",
      "Setting baseline interval to [-0.2001953125, 0.0] sec\n",
      "Applying baseline correction (mode: mean)\n",
      "0 projection items activated\n",
      "Loading data for 20 events and 718 original time points ...\n",
      "1 bad epochs dropped\n"
     ]
    }
   ],
   "source": [
    "#reject using values of amplitude\n",
    "#best: do before the filter, but will reject 89% of data\n",
    "del (dict)     \n",
    "epochs = mne.Epochs(raw,new_events, reject_by_annotation=False, preload=True)"
   ]
  },
  {
   "cell_type": "code",
   "execution_count": 39,
   "metadata": {},
   "outputs": [
    {
     "name": "stdout",
     "output_type": "stream",
     "text": [
      "Not setting metadata\n",
      "Not setting metadata\n",
      "20 matching events found\n",
      "Setting baseline interval to [-0.2001953125, 0.0] sec\n",
      "Applying baseline correction (mode: mean)\n",
      "0 projection items activated\n",
      "Loading data for 20 events and 718 original time points ...\n",
      "1 bad epochs dropped\n"
     ]
    }
   ],
   "source": [
    "epochs_2 = mne.Epochs(raw,new_events, reject_by_annotation=False, preload=True)"
   ]
  },
  {
   "cell_type": "code",
   "execution_count": 40,
   "metadata": {},
   "outputs": [
    {
     "name": "stdout",
     "output_type": "stream",
     "text": [
      "    Using multitaper spectrum estimation with 7 DPSS windows\n"
     ]
    },
    {
     "data": {
      "text/plain": [
       "<MNELineFigure size 1000x350 with 1 Axes>"
      ]
     },
     "execution_count": 40,
     "metadata": {},
     "output_type": "execute_result"
    }
   ],
   "source": [
    "epochs.plot_psd(average=True)"
   ]
  },
  {
   "cell_type": "code",
   "execution_count": 41,
   "metadata": {},
   "outputs": [
    {
     "data": {
      "text/plain": [
       "<MNEBrowseFigure size 1919x786 with 4 Axes>"
      ]
     },
     "execution_count": 41,
     "metadata": {},
     "output_type": "execute_result"
    },
    {
     "name": "stdout",
     "output_type": "stream",
     "text": [
      "Dropped 0 epochs: \n",
      "Channels marked as bad: ['ch1']\n",
      "Dropped 0 epochs: \n",
      "Channels marked as bad: ['ch1']\n"
     ]
    }
   ],
   "source": [
    "epochs.plot()\n",
    "epochs_2.plot()"
   ]
  },
  {
   "cell_type": "code",
   "execution_count": 42,
   "metadata": {},
   "outputs": [
    {
     "name": "stderr",
     "output_type": "stream",
     "text": [
      "C:\\Users\\admin\\AppData\\Local\\Temp/ipykernel_7188/2457816835.py:2: RuntimeWarning: This filename (./output_fif/2021-07-12_111459_Filter_Data_me_thinking.fif) does not conform to MNE naming conventions. All epochs files should end with -epo.fif, -epo.fif.gz, _epo.fif or _epo.fif.gz\n",
      "  epochs.save(out_file_path_fif, overwrite=True)\n"
     ]
    }
   ],
   "source": [
    "#save as .fif format\n",
    "epochs.save(out_file_path_fif, overwrite=True)"
   ]
  },
  {
   "cell_type": "code",
   "execution_count": 43,
   "metadata": {},
   "outputs": [],
   "source": [
    "#convert to data frame format in order to save as .edf\n",
    "df = epochs.to_data_frame()"
   ]
  },
  {
   "cell_type": "code",
   "execution_count": 44,
   "metadata": {},
   "outputs": [],
   "source": [
    "#save as .edf\n",
    "out_raw_one = df['ch1']\n",
    "out_raw_two = df['ch2']\n",
    "out_raw_three = df['ch3']\n",
    "out_raw_four = df['ch4']\n",
    "out_signal = [np.array(out_raw_one), np.array(out_raw_two), np.array(out_raw_three), np.array(out_raw_four)]"
   ]
  },
  {
   "cell_type": "code",
   "execution_count": 45,
   "metadata": {},
   "outputs": [
    {
     "name": "stdout",
     "output_type": "stream",
     "text": [
      "variance: 981.1691658211894\n"
     ]
    }
   ],
   "source": [
    "variance = np.var(out_signal)\n",
    "print('variance:', variance)\n"
   ]
  },
  {
   "cell_type": "code",
   "execution_count": 46,
   "metadata": {},
   "outputs": [
    {
     "name": "stdout",
     "output_type": "stream",
     "text": [
      "    Using multitaper spectrum estimation with 7 DPSS windows\n"
     ]
    },
    {
     "data": {
      "text/plain": [
       "<MNELineFigure size 1000x350 with 1 Axes>"
      ]
     },
     "execution_count": 46,
     "metadata": {},
     "output_type": "execute_result"
    }
   ],
   "source": [
    "epochs.plot_psd(average=True)"
   ]
  },
  {
   "cell_type": "code",
   "execution_count": 47,
   "metadata": {},
   "outputs": [
    {
     "name": "stdout",
     "output_type": "stream",
     "text": [
      "    Using multitaper spectrum estimation with 7 DPSS windows\n",
      "2.8500716530013733e-05\n",
      "    Using multitaper spectrum estimation with 7 DPSS windows\n",
      "2.5071463598825664e-05\n",
      "0.8796783608027269\n",
      "[45.63788301 47.06406685 48.4902507  49.91643454 51.34261838 52.76880223\n",
      " 54.19498607]\n"
     ]
    }
   ],
   "source": [
    "psds_total, frqs_total = mne.time_frequency.psd_multitaper(epochs, fmin=0.5, fmax=55, tmin=None, tmax=None)\n",
    "total_sum_pds = np.sum(psds_total)\n",
    "print(total_sum_pds)\n",
    "psds_power, frqs_power = mne.time_frequency.psd_multitaper(epochs, fmin=45, fmax=55, tmin=None, tmax=None)\n",
    "power_sum_pds = np.sum(psds_power)\n",
    "print(power_sum_pds)\n",
    "power_ratio = (power_sum_pds) / (total_sum_pds)\n",
    "print(power_ratio)\n",
    "print(frqs_power)"
   ]
  },
  {
   "cell_type": "code",
   "execution_count": 48,
   "metadata": {},
   "outputs": [],
   "source": [
    "# psds_total, frqs_total = mne.time_frequency.psd_welch(epochs, fmin=0.1, fmax=100, tmin=None, tmax=None, n_fft = 718)\n",
    "# total_sum_pds = np.sum(psds_total)\n",
    "# print(total_sum_pds)\n",
    "# psds_part, frqs_part = mne.time_frequency.psd_welch(epochs, fmin=45, fmax=55, tmin=None, tmax=None, n_fft = 718)\n",
    "# part_sum_pds = np.sum(psds_part)\n",
    "# print(part_sum_pds)\n",
    "# ratio = (part_sum_pds) / (total_sum_pds)\n",
    "# print(ratio)\n",
    "# print(frqs_part)"
   ]
  },
  {
   "cell_type": "code",
   "execution_count": 49,
   "metadata": {},
   "outputs": [
    {
     "name": "stdout",
     "output_type": "stream",
     "text": [
      "2.8500716530013733e-05\n",
      "    Using multitaper spectrum estimation with 7 DPSS windows\n",
      "1.0387817245660125e-06\n",
      "0.036447565220758045\n",
      "[2.85236769 4.27855153]\n"
     ]
    }
   ],
   "source": [
    "#delta=(2, 4), theta=(5, 7), alpha=(8, 12), beta=(15, 29), gamma=(30, 45))\n",
    "#delta\n",
    "print(total_sum_pds)\n",
    "psds_delta, frqs_delta = mne.time_frequency.psd_multitaper(epochs, fmin=1.5, fmax=4.5, tmin=None, tmax=None)\n",
    "delta_sum_pds = np.sum(psds_delta)\n",
    "print(delta_sum_pds)\n",
    "delta_ratio = (delta_sum_pds) / (total_sum_pds)\n",
    "print(delta_ratio)\n",
    "print(frqs_delta)"
   ]
  },
  {
   "cell_type": "code",
   "execution_count": 50,
   "metadata": {},
   "outputs": [
    {
     "name": "stdout",
     "output_type": "stream",
     "text": [
      "2.8500716530013733e-05\n",
      "    Using multitaper spectrum estimation with 7 DPSS windows\n",
      "5.026525902656933e-07\n",
      "0.017636489585669064\n",
      "[5.70473538 7.13091922]\n"
     ]
    }
   ],
   "source": [
    "#delta=(2, 4), theta=(5, 7), alpha=(8, 12), beta=(15, 29), gamma=(30, 45))\n",
    "#theta\n",
    "print(total_sum_pds)\n",
    "psds_theta, frqs_theta = mne.time_frequency.psd_multitaper(epochs, fmin=4.5, fmax=7.5, tmin=None, tmax=None)\n",
    "theta_sum_pds = np.sum(psds_theta)\n",
    "print(theta_sum_pds)\n",
    "theta_ratio = (theta_sum_pds) / (total_sum_pds)\n",
    "print(theta_ratio)\n",
    "print(frqs_theta)"
   ]
  },
  {
   "cell_type": "code",
   "execution_count": 51,
   "metadata": {},
   "outputs": [
    {
     "name": "stdout",
     "output_type": "stream",
     "text": [
      "2.8500716530013733e-05\n",
      "    Using multitaper spectrum estimation with 7 DPSS windows\n",
      "1.8685383165754102e-07\n",
      "0.006556109965192197\n",
      "[ 8.55710306  9.98328691 11.40947075]\n"
     ]
    }
   ],
   "source": [
    "#delta=(2, 4), theta=(5, 7), alpha=(8, 12), beta=(15, 29), gamma=(30, 45))\n",
    "#alpha\n",
    "print(total_sum_pds)\n",
    "psds_alpha, frqs_alpha = mne.time_frequency.psd_multitaper(epochs, fmin=7.5, fmax=12.5, tmin=None, tmax=None)\n",
    "alpha_sum_pds = np.sum(psds_alpha)\n",
    "print(alpha_sum_pds)\n",
    "alpha_ratio = (alpha_sum_pds) / (total_sum_pds)\n",
    "print(alpha_ratio)\n",
    "print(frqs_alpha)"
   ]
  },
  {
   "cell_type": "code",
   "execution_count": 52,
   "metadata": {},
   "outputs": [
    {
     "name": "stdout",
     "output_type": "stream",
     "text": [
      "2.8500716530013733e-05\n",
      "    Using multitaper spectrum estimation with 7 DPSS windows\n",
      "2.7286507581920147e-07\n",
      "0.009573972483528644\n",
      "[15.68802228 17.11420613 18.54038997 19.96657382 21.39275766 22.8189415\n",
      " 24.24512535 25.67130919 27.09749304 28.52367688]\n"
     ]
    }
   ],
   "source": [
    "#delta=(2, 4), theta=(5, 7), alpha=(8, 12), beta=(15, 29), gamma=(30, 45))\n",
    "#beta\n",
    "print(total_sum_pds)\n",
    "psds_beta, frqs_beta = mne.time_frequency.psd_multitaper(epochs, fmin=14.5, fmax=29.5, tmin=None, tmax=None)\n",
    "beta_sum_pds = np.sum(psds_beta)\n",
    "print(beta_sum_pds)\n",
    "beta_ratio = (beta_sum_pds) / (total_sum_pds)\n",
    "print(beta_ratio)\n",
    "print(frqs_beta)"
   ]
  },
  {
   "cell_type": "code",
   "execution_count": 53,
   "metadata": {},
   "outputs": [
    {
     "name": "stdout",
     "output_type": "stream",
     "text": [
      "    Using multitaper spectrum estimation with 7 DPSS windows\n",
      "2.8500716530013733e-05\n",
      "    Using multitaper spectrum estimation with 7 DPSS windows\n",
      "6.980195530679918e-07\n",
      "0.024491298397109295\n",
      "[29.94986072 31.37604457 32.80222841 34.22841226 35.6545961  37.08077994\n",
      " 38.50696379 39.93314763 41.35933148 42.78551532 44.21169916]\n"
     ]
    }
   ],
   "source": [
    "#delta=(2, 4), theta=(5, 7), alpha=(8, 12), beta=(15, 29), gamma=(30, 45))\n",
    "#gamma\n",
    "psds_total, frqs_total = mne.time_frequency.psd_multitaper(epochs, fmin=0.5, fmax=55, tmin=None, tmax=None)\n",
    "total_sum_pds = np.sum(psds_total)\n",
    "print(total_sum_pds)\n",
    "psds_gamma, frqs_gamma = mne.time_frequency.psd_multitaper(epochs, fmin=29.5, fmax=45.5, tmin=None, tmax=None)\n",
    "gamma_sum_pds = np.sum(psds_gamma)\n",
    "print(gamma_sum_pds)\n",
    "gamma_ratio = (gamma_sum_pds) / (total_sum_pds)\n",
    "print(gamma_ratio)\n",
    "print(frqs_gamma)"
   ]
  },
  {
   "cell_type": "code",
   "execution_count": 54,
   "metadata": {},
   "outputs": [
    {
     "name": "stdout",
     "output_type": "stream",
     "text": [
      "x1: 981.1691658211894\n",
      "x2: 0.8796783608027269\n",
      "x3: 0.006556109965192197\n",
      "y1: 100\n",
      "y2: 0.7949362067752875\n",
      "y3: 0.0001203512180519388\n",
      "y1*y2*y3: 0.009567154075899373\n"
     ]
    }
   ],
   "source": [
    "#evaluate the signal\n",
    "\n",
    "#formula from paper\n",
    "\n",
    "#y1: variance score\n",
    "y1 = 0\n",
    "#x1: variance\n",
    "x1 = variance\n",
    "\n",
    "if x1 < 50:\n",
    "    y1 = 0.02*np.power(x1,2)\n",
    "elif x1 >= 50 and x1 < 100:\n",
    "    y1 = 0.6*x1 + 20\n",
    "elif x1 >= 100 and x1 < 2000:\n",
    "    y1 = 100\n",
    "elif x1 >= 2000 and x1 < 5000:\n",
    "    y1 = -0.013333*x1 + 126.6\n",
    "elif x1 >= 5000 and x1 < 10000:\n",
    "    y1 = 0.006*x1 + 90\n",
    "else:\n",
    "    y1 = 15/0.02*np.power((x1-10000),2)\n",
    "    \n",
    "#y2: power voltage score\n",
    "y2 = 0\n",
    "#x2: signal that are 50Hz (CN) / Total\n",
    "x2 = power_ratio\n",
    "\n",
    "if x2 < 0.01:\n",
    "    y2 = 1\n",
    "elif x2 >= 0.01 and x2 < 0.1:\n",
    "    y2 = 1 - 24.691*np.power((x2-0.01),2)\n",
    "elif x2 >= 0.1 and x2 < 5:\n",
    "    y2 = 0.8 - 0.00833*np.power((x2-0.1),2)\n",
    "elif x2 >= 5 and x2 < 10:\n",
    "    y2 = 0.9 - np.power(0.06,2)\n",
    "else:\n",
    "    y2 = 30 / np.power(x2,2)\n",
    "    \n",
    "    \n",
    "#y3: alpha score\n",
    "y3 = 0\n",
    "#x3: alpha wave / Total\n",
    "x3 = alpha_ratio\n",
    "\n",
    "if x3 < 0.5:\n",
    "    y3 = 2.8 * np.power(x3,2)\n",
    "else:\n",
    "    y3 = 1.2 * np.power(x3,2) + 2.4*x3 - 0.2\n",
    "\n",
    "print('x1: ' + str(x1))\n",
    "print('x2: ' + str(x2))\n",
    "print('x3: ' + str(x3))\n",
    "\n",
    "print('y1: ' + str(y1))\n",
    "print('y2: ' + str(y2))\n",
    "print('y3: ' + str(y3))\n",
    "\n",
    "print('y1*y2*y3: ' + str(y1*y2*y3))"
   ]
  },
  {
   "cell_type": "code",
   "execution_count": 29,
   "metadata": {},
   "outputs": [
    {
     "name": "stdout",
     "output_type": "stream",
     "text": [
      "6\n"
     ]
    }
   ],
   "source": [
    "print(1*2*3)"
   ]
  },
  {
   "cell_type": "code",
   "execution_count": null,
   "metadata": {},
   "outputs": [],
   "source": []
  }
 ],
 "metadata": {
  "kernelspec": {
   "display_name": "Python 3 (ipykernel)",
   "language": "python",
   "name": "python3"
  },
  "language_info": {
   "codemirror_mode": {
    "name": "ipython",
    "version": 3
   },
   "file_extension": ".py",
   "mimetype": "text/x-python",
   "name": "python",
   "nbconvert_exporter": "python",
   "pygments_lexer": "ipython3",
   "version": "3.9.5"
  }
 },
 "nbformat": 4,
 "nbformat_minor": 4
}
