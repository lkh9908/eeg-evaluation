{
 "cells": [
  {
   "cell_type": "code",
   "execution_count": 1,
   "id": "9d93c196-f21e-469d-befd-a0875fef8d53",
   "metadata": {},
   "outputs": [],
   "source": [
    "import pyedflib\n",
    "import numpy as np\n",
    "import xmltodict\n",
    "import json\n",
    "import mne\n",
    "import matplotlib\n",
    "import math\n",
    "import pathlib\n",
    "from mne_extras import write_mne_edf"
   ]
  },
  {
   "cell_type": "code",
   "execution_count": 2,
   "id": "6f8abf7e-2e61-4a8a-a3cc-05090debc1d5",
   "metadata": {},
   "outputs": [],
   "source": [
    "matplotlib.use('Qt5Agg')"
   ]
  },
  {
   "cell_type": "code",
   "execution_count": 3,
   "id": "9d5c6a99-4175-4b79-b1ea-7a65a8db9a4e",
   "metadata": {},
   "outputs": [],
   "source": [
    "exp = []\n",
    "n = 5\n",
    "for i in range(1,5):\n",
    "    exp.append(mne.datasets.eegbci.load_data(i, 2, path=None, force_update=False, update_path=None, base_url='https://physionet.org/files/eegmmidb/1.0.0/', verbose=None))\n"
   ]
  },
  {
   "cell_type": "code",
   "execution_count": 4,
   "id": "8d35c2ee-3ca1-43e5-aa34-49dcc539d2b8",
   "metadata": {},
   "outputs": [
    {
     "data": {
      "text/plain": [
       "4"
      ]
     },
     "execution_count": 4,
     "metadata": {},
     "output_type": "execute_result"
    }
   ],
   "source": [
    "len(exp)"
   ]
  },
  {
   "cell_type": "code",
   "execution_count": 5,
   "id": "ad25c88a-778b-42cb-a794-49773f6915eb",
   "metadata": {},
   "outputs": [
    {
     "name": "stdout",
     "output_type": "stream",
     "text": [
      "Extracting EDF parameters from C:\\Users\\admin\\mne_data\\MNE-eegbci-data\\files\\eegmmidb\\1.0.0\\S001\\S001R02.edf...\n",
      "EDF file detected\n",
      "Setting channel info structure...\n",
      "Creating raw.info structure...\n",
      "Extracting EDF parameters from C:\\Users\\admin\\mne_data\\MNE-eegbci-data\\files\\eegmmidb\\1.0.0\\S002\\S002R02.edf...\n",
      "EDF file detected\n",
      "Setting channel info structure...\n",
      "Creating raw.info structure...\n",
      "Extracting EDF parameters from C:\\Users\\admin\\mne_data\\MNE-eegbci-data\\files\\eegmmidb\\1.0.0\\S003\\S003R02.edf...\n",
      "EDF file detected\n",
      "Setting channel info structure...\n",
      "Creating raw.info structure...\n",
      "Extracting EDF parameters from C:\\Users\\admin\\mne_data\\MNE-eegbci-data\\files\\eegmmidb\\1.0.0\\S004\\S004R02.edf...\n",
      "EDF file detected\n",
      "Setting channel info structure...\n",
      "Creating raw.info structure...\n",
      "160.0\n"
     ]
    }
   ],
   "source": [
    "expRaw = []\n",
    "for i in range(0,n-1):\n",
    "    expRaw.append(mne.io.read_raw_edf(exp[i][0]))\n",
    "\n",
    "# print(expRaw[0].info['sfreq'])"
   ]
  },
  {
   "cell_type": "code",
   "execution_count": 6,
   "id": "b0194f1b-a206-435b-b1c2-bdd67fd4acc3",
   "metadata": {},
   "outputs": [
    {
     "name": "stdout",
     "output_type": "stream",
     "text": [
      "64\n",
      "['Fc5.', 'Fc3.', 'Fc1.', 'Fcz.', 'Fc2.', 'Fc4.', 'Fc6.', 'C5..', 'C3..', 'C1..', 'Cz..', 'C2..', 'C4..', 'C6..', 'Cp5.', 'Cp3.', 'Cp1.', 'Cpz.', 'Cp2.', 'Cp4.', 'Cp6.', 'Fp1.', 'Fpz.', 'Fp2.', 'Af7.', 'Af3.', 'Afz.', 'Af4.', 'Af8.', 'F7..', 'F5..', 'F3..', 'F1..', 'Fz..', 'F2..', 'F4..', 'F6..', 'F8..', 'Ft7.', 'Ft8.', 'T7..', 'T8..', 'T9..', 'T10.', 'Tp7.', 'Tp8.', 'P7..', 'P5..', 'P3..', 'P1..', 'Pz..', 'P2..', 'P4..', 'P6..', 'P8..', 'Po7.', 'Po3.', 'Poz.', 'Po4.', 'Po8.', 'O1..', 'Oz..', 'O2..', 'Iz..']\n"
     ]
    }
   ],
   "source": [
    "print(len(expRaw[0].ch_names))\n",
    "print(expRaw[0].ch_names)"
   ]
  },
  {
   "cell_type": "code",
   "execution_count": 7,
   "id": "f74a027d-a59a-4dca-beb2-aa0f6924cb46",
   "metadata": {},
   "outputs": [],
   "source": [
    "#expRaw[1].plot()"
   ]
  },
  {
   "cell_type": "code",
   "execution_count": 8,
   "id": "e6c50be8-8ad7-4a52-8620-8905428698c9",
   "metadata": {},
   "outputs": [
    {
     "name": "stdout",
     "output_type": "stream",
     "text": [
      "Used Annotations descriptions: ['T0']\n",
      "Used Annotations descriptions: ['T0']\n",
      "Used Annotations descriptions: ['T0']\n",
      "Used Annotations descriptions: ['T0']\n"
     ]
    }
   ],
   "source": [
    "for i in range(0,n-1):\n",
    "    events_all = mne.events_from_annotations(expRaw[i])\n",
    "    new_events = mne.make_fixed_length_events(expRaw[i], duration=2.)\n",
    "event_dict = {'divide':1}"
   ]
  },
  {
   "cell_type": "code",
   "execution_count": 9,
   "id": "58d952b1-ec74-4b6e-8696-4a0710087ddb",
   "metadata": {},
   "outputs": [],
   "source": [
    "events = events_all[0]\n",
    "event_id = events_all[1]"
   ]
  },
  {
   "cell_type": "code",
   "execution_count": 10,
   "id": "4cb07ed4-063d-4b76-b53f-e457be8052b8",
   "metadata": {},
   "outputs": [
    {
     "name": "stdout",
     "output_type": "stream",
     "text": [
      "Not setting metadata\n",
      "Not setting metadata\n",
      "30 matching events found\n",
      "Setting baseline interval to [-0.2, 0.0] sec\n",
      "Applying baseline correction (mode: mean)\n",
      "0 projection items activated\n",
      "Loading data for 30 events and 113 original time points ...\n",
      "1 bad epochs dropped\n",
      "Not setting metadata\n",
      "Not setting metadata\n",
      "30 matching events found\n",
      "Setting baseline interval to [-0.2, 0.0] sec\n",
      "Applying baseline correction (mode: mean)\n",
      "0 projection items activated\n",
      "Loading data for 30 events and 113 original time points ...\n",
      "1 bad epochs dropped\n",
      "Not setting metadata\n",
      "Not setting metadata\n",
      "30 matching events found\n",
      "Setting baseline interval to [-0.2, 0.0] sec\n",
      "Applying baseline correction (mode: mean)\n",
      "0 projection items activated\n",
      "Loading data for 30 events and 113 original time points ...\n",
      "1 bad epochs dropped\n",
      "Not setting metadata\n",
      "Not setting metadata\n",
      "30 matching events found\n",
      "Setting baseline interval to [-0.2, 0.0] sec\n",
      "Applying baseline correction (mode: mean)\n",
      "0 projection items activated\n",
      "Loading data for 30 events and 113 original time points ...\n",
      "1 bad epochs dropped\n"
     ]
    }
   ],
   "source": [
    "epochs = []\n",
    "for i in range(0,n-1):\n",
    "    epochs.append(mne.Epochs(expRaw[i], new_events, reject_by_annotation=False, preload=True, picks=['Fp1.','Fp2.', 'T7..', 'T8..']))"
   ]
  },
  {
   "cell_type": "code",
   "execution_count": 11,
   "id": "bfc13835-350e-4a5d-91b0-53c327dfc580",
   "metadata": {},
   "outputs": [
    {
     "data": {
      "text/plain": [
       "<MNEBrowseFigure size 1918x784 with 4 Axes>"
      ]
     },
     "execution_count": 11,
     "metadata": {},
     "output_type": "execute_result"
    }
   ],
   "source": [
    "# epochs[0].plot()"
   ]
  },
  {
   "cell_type": "code",
   "execution_count": 18,
   "id": "702af350-1ca4-4723-aa6b-1a5dc671b789",
   "metadata": {},
   "outputs": [
    {
     "name": "stdout",
     "output_type": "stream",
     "text": [
      "True\n",
      "True\n",
      "True\n",
      "True\n"
     ]
    }
   ],
   "source": [
    "headers = [{'label':'ch1', \n",
    "            'dimension': 'uV',\n",
    "            'sample_rate': 160,\n",
    "            'physical_max': 5000,\n",
    "            \"physical_min\": -5000,\n",
    "            'digital_max': 5000,\n",
    "            'digital_min': -5000,\n",
    "            'transducer': 'None',\n",
    "            'prefilter': 'None'},\n",
    "            {'label':'ch2', \n",
    "            'dimension': 'uV',\n",
    "            'sample_rate': 160,\n",
    "            'physical_max': 5000,\n",
    "            \"physical_min\": -5000,\n",
    "            'digital_max': 5000,\n",
    "            'digital_min': -5000,\n",
    "            'transducer': 'None',\n",
    "            'prefilter': 'None'},\n",
    "          {'label':'ch3', \n",
    "            'dimension': 'uV',\n",
    "            'sample_rate': 160,\n",
    "            'physical_max': 5000,\n",
    "            \"physical_min\": -5000,\n",
    "            'digital_max': 5000,\n",
    "            'digital_min': -5000,\n",
    "            'transducer': 'None',\n",
    "            'prefilter': 'None'},\n",
    "          {'label':'ch4', \n",
    "            'dimension': 'uV',\n",
    "            'sample_rate': 160,\n",
    "            'physical_max': 5000,\n",
    "            \"physical_min\": -5000,\n",
    "            'digital_max': 5000,\n",
    "            'digital_min': -5000,\n",
    "            'transducer': 'None',\n",
    "            'prefilter': 'None'}]\n",
    "\n",
    "for i in range(0,n-1): \n",
    "    df = epochs[i].to_data_frame()\n",
    "\n",
    "    out_raw_one = df['Fp1.']\n",
    "    out_raw_two = df['Fp2.']\n",
    "    out_raw_three = df['T7..']\n",
    "    out_raw_four = df['Fp1.']  - df['Fp2.']\n",
    "    \n",
    "    result1 = out_raw_one - out_raw_three\n",
    "    result2 = out_raw_two - out_raw_three\n",
    "\n",
    "    out_signal = [np.array(out_raw_one), np.array(out_raw_two), np.array(out_raw_three), np.array(out_raw_four)]\n",
    "\n",
    "for i in range(0,n-1):   \n",
    "    with open('./forthCH_Fp1_Fp2'+str(i)+'.edf', 'w') as output:\n",
    "        flag = pyedflib.highlevel.write_edf(output.name, out_signal, headers, header=None, digital=False, file_type=-1, block_size=1)\n",
    "        print(flag)"
   ]
  },
  {
   "cell_type": "code",
   "execution_count": 19,
   "id": "bfa63310-e97a-439a-98d1-5b81774052d2",
   "metadata": {},
   "outputs": [
    {
     "name": "stdout",
     "output_type": "stream",
     "text": [
      "variance: 493.73309804239955\n"
     ]
    }
   ],
   "source": [
    "variance = np.var(out_signal)\n",
    "print('variance:', variance)"
   ]
  },
  {
   "cell_type": "code",
   "execution_count": 21,
   "id": "1cc28d1b-e26f-4e16-9be7-c69b57904516",
   "metadata": {},
   "outputs": [
    {
     "ename": "ValueError",
     "evalue": "epochs must be an instance of Epochs, Raw, orEvoked. Got type <class 'list'>",
     "output_type": "error",
     "traceback": [
      "\u001b[1;31m---------------------------------------------------------------------------\u001b[0m",
      "\u001b[1;31mValueError\u001b[0m                                Traceback (most recent call last)",
      "\u001b[1;32m~\\AppData\\Local\\Temp/ipykernel_5952/2534623378.py\u001b[0m in \u001b[0;36m<module>\u001b[1;34m\u001b[0m\n\u001b[1;32m----> 1\u001b[1;33m \u001b[0mpsds_total\u001b[0m\u001b[1;33m,\u001b[0m \u001b[0mfrqs_total\u001b[0m \u001b[1;33m=\u001b[0m \u001b[0mmne\u001b[0m\u001b[1;33m.\u001b[0m\u001b[0mtime_frequency\u001b[0m\u001b[1;33m.\u001b[0m\u001b[0mpsd_multitaper\u001b[0m\u001b[1;33m(\u001b[0m\u001b[0mepochs\u001b[0m\u001b[1;33m,\u001b[0m \u001b[0mfmin\u001b[0m\u001b[1;33m=\u001b[0m\u001b[1;36m0.5\u001b[0m\u001b[1;33m,\u001b[0m \u001b[0mfmax\u001b[0m\u001b[1;33m=\u001b[0m\u001b[1;36m44.5\u001b[0m\u001b[1;33m,\u001b[0m \u001b[0mtmin\u001b[0m\u001b[1;33m=\u001b[0m\u001b[1;32mNone\u001b[0m\u001b[1;33m,\u001b[0m \u001b[0mtmax\u001b[0m\u001b[1;33m=\u001b[0m\u001b[1;32mNone\u001b[0m\u001b[1;33m)\u001b[0m\u001b[1;33m\u001b[0m\u001b[1;33m\u001b[0m\u001b[0m\n\u001b[0m\u001b[0;32m      2\u001b[0m \u001b[0mtotal_sum_pds\u001b[0m \u001b[1;33m=\u001b[0m \u001b[0mnp\u001b[0m\u001b[1;33m.\u001b[0m\u001b[0msum\u001b[0m\u001b[1;33m(\u001b[0m\u001b[0mpsds_total\u001b[0m\u001b[1;33m)\u001b[0m\u001b[1;33m\u001b[0m\u001b[1;33m\u001b[0m\u001b[0m\n\u001b[0;32m      3\u001b[0m \u001b[0mprint\u001b[0m\u001b[1;33m(\u001b[0m\u001b[0mtotal_sum_pds\u001b[0m\u001b[1;33m)\u001b[0m\u001b[1;33m\u001b[0m\u001b[1;33m\u001b[0m\u001b[0m\n\u001b[0;32m      4\u001b[0m \u001b[1;33m\u001b[0m\u001b[0m\n\u001b[0;32m      5\u001b[0m \u001b[0mpsds_power\u001b[0m\u001b[1;33m,\u001b[0m \u001b[0mfrqs_power\u001b[0m \u001b[1;33m=\u001b[0m \u001b[0mmne\u001b[0m\u001b[1;33m.\u001b[0m\u001b[0mtime_frequency\u001b[0m\u001b[1;33m.\u001b[0m\u001b[0mpsd_multitaper\u001b[0m\u001b[1;33m(\u001b[0m\u001b[0mepochs\u001b[0m\u001b[1;33m,\u001b[0m \u001b[0mfmin\u001b[0m\u001b[1;33m=\u001b[0m\u001b[1;36m45\u001b[0m\u001b[1;33m,\u001b[0m \u001b[0mfmax\u001b[0m\u001b[1;33m=\u001b[0m\u001b[1;36m55\u001b[0m\u001b[1;33m,\u001b[0m \u001b[0mtmin\u001b[0m\u001b[1;33m=\u001b[0m\u001b[1;32mNone\u001b[0m\u001b[1;33m,\u001b[0m \u001b[0mtmax\u001b[0m\u001b[1;33m=\u001b[0m\u001b[1;32mNone\u001b[0m\u001b[1;33m)\u001b[0m\u001b[1;33m\u001b[0m\u001b[1;33m\u001b[0m\u001b[0m\n",
      "\u001b[1;32m<decorator-gen-135>\u001b[0m in \u001b[0;36mpsd_multitaper\u001b[1;34m(inst, fmin, fmax, tmin, tmax, bandwidth, adaptive, low_bias, normalization, picks, proj, n_jobs, verbose)\u001b[0m\n",
      "\u001b[1;32m~\\anaconda3\\envs\\mne\\lib\\site-packages\\mne\\time_frequency\\psd.py\u001b[0m in \u001b[0;36mpsd_multitaper\u001b[1;34m(inst, fmin, fmax, tmin, tmax, bandwidth, adaptive, low_bias, normalization, picks, proj, n_jobs, verbose)\u001b[0m\n\u001b[0;32m    328\u001b[0m     \"\"\"\n\u001b[0;32m    329\u001b[0m     \u001b[1;31m# Prep data\u001b[0m\u001b[1;33m\u001b[0m\u001b[1;33m\u001b[0m\u001b[1;33m\u001b[0m\u001b[0m\n\u001b[1;32m--> 330\u001b[1;33m     \u001b[0mdata\u001b[0m\u001b[1;33m,\u001b[0m \u001b[0msfreq\u001b[0m \u001b[1;33m=\u001b[0m \u001b[0m_check_psd_data\u001b[0m\u001b[1;33m(\u001b[0m\u001b[0minst\u001b[0m\u001b[1;33m,\u001b[0m \u001b[0mtmin\u001b[0m\u001b[1;33m,\u001b[0m \u001b[0mtmax\u001b[0m\u001b[1;33m,\u001b[0m \u001b[0mpicks\u001b[0m\u001b[1;33m,\u001b[0m \u001b[0mproj\u001b[0m\u001b[1;33m)\u001b[0m\u001b[1;33m\u001b[0m\u001b[1;33m\u001b[0m\u001b[0m\n\u001b[0m\u001b[0;32m    331\u001b[0m     return psd_array_multitaper(data, sfreq, fmin=fmin, fmax=fmax,\n\u001b[0;32m    332\u001b[0m                                 \u001b[0mbandwidth\u001b[0m\u001b[1;33m=\u001b[0m\u001b[0mbandwidth\u001b[0m\u001b[1;33m,\u001b[0m \u001b[0madaptive\u001b[0m\u001b[1;33m=\u001b[0m\u001b[0madaptive\u001b[0m\u001b[1;33m,\u001b[0m\u001b[1;33m\u001b[0m\u001b[1;33m\u001b[0m\u001b[0m\n",
      "\u001b[1;32m~\\anaconda3\\envs\\mne\\lib\\site-packages\\mne\\time_frequency\\psd.py\u001b[0m in \u001b[0;36m_check_psd_data\u001b[1;34m(inst, tmin, tmax, picks, proj, reject_by_annotation)\u001b[0m\n\u001b[0;32m     61\u001b[0m     \u001b[1;32mfrom\u001b[0m \u001b[1;33m.\u001b[0m\u001b[1;33m.\u001b[0m\u001b[0mevoked\u001b[0m \u001b[1;32mimport\u001b[0m \u001b[0mEvoked\u001b[0m\u001b[1;33m\u001b[0m\u001b[1;33m\u001b[0m\u001b[0m\n\u001b[0;32m     62\u001b[0m     \u001b[1;32mif\u001b[0m \u001b[1;32mnot\u001b[0m \u001b[0misinstance\u001b[0m\u001b[1;33m(\u001b[0m\u001b[0minst\u001b[0m\u001b[1;33m,\u001b[0m \u001b[1;33m(\u001b[0m\u001b[0mBaseEpochs\u001b[0m\u001b[1;33m,\u001b[0m \u001b[0mBaseRaw\u001b[0m\u001b[1;33m,\u001b[0m \u001b[0mEvoked\u001b[0m\u001b[1;33m)\u001b[0m\u001b[1;33m)\u001b[0m\u001b[1;33m:\u001b[0m\u001b[1;33m\u001b[0m\u001b[1;33m\u001b[0m\u001b[0m\n\u001b[1;32m---> 63\u001b[1;33m         raise ValueError('epochs must be an instance of Epochs, Raw, or'\n\u001b[0m\u001b[0;32m     64\u001b[0m                          'Evoked. Got type {}'.format(type(inst)))\n\u001b[0;32m     65\u001b[0m \u001b[1;33m\u001b[0m\u001b[0m\n",
      "\u001b[1;31mValueError\u001b[0m: epochs must be an instance of Epochs, Raw, orEvoked. Got type <class 'list'>"
     ]
    }
   ],
   "source": [
    "psds_total, frqs_total = mne.time_frequency.psd_multitaper(epochs, fmin=0.5, fmax=44.5, tmin=None, tmax=None)\n",
    "total_sum_pds = np.sum(psds_total)\n",
    "print(total_sum_pds)\n",
    "\n",
    "psds_power, frqs_power = mne.time_frequency.psd_multitaper(epochs, fmin=45, fmax=55, tmin=None, tmax=None)\n",
    "power_sum_pds = np.sum(psds_power)\n",
    "print(power_sum_pds)\n",
    "power_ratio = (power_sum_pds) / (total_sum_pds)\n",
    "print(power_ratio)\n",
    "print(frqs_power)"
   ]
  },
  {
   "cell_type": "code",
   "execution_count": 20,
   "id": "5d8ad36c-05b8-427c-a486-eac53c42a7d1",
   "metadata": {},
   "outputs": [
    {
     "ename": "NameError",
     "evalue": "name 'total_sum_pds' is not defined",
     "output_type": "error",
     "traceback": [
      "\u001b[1;31m---------------------------------------------------------------------------\u001b[0m",
      "\u001b[1;31mNameError\u001b[0m                                 Traceback (most recent call last)",
      "\u001b[1;32m~\\AppData\\Local\\Temp/ipykernel_5952/199163047.py\u001b[0m in \u001b[0;36m<module>\u001b[1;34m\u001b[0m\n\u001b[0;32m      1\u001b[0m \u001b[1;31m#delta=(2, 4), theta=(5, 7), alpha=(8, 12), beta=(15, 29), gamma=(30, 45))\u001b[0m\u001b[1;33m\u001b[0m\u001b[1;33m\u001b[0m\u001b[1;33m\u001b[0m\u001b[0m\n\u001b[0;32m      2\u001b[0m \u001b[1;31m#delta\u001b[0m\u001b[1;33m\u001b[0m\u001b[1;33m\u001b[0m\u001b[1;33m\u001b[0m\u001b[0m\n\u001b[1;32m----> 3\u001b[1;33m \u001b[0mprint\u001b[0m\u001b[1;33m(\u001b[0m\u001b[0mtotal_sum_pds\u001b[0m\u001b[1;33m)\u001b[0m\u001b[1;33m\u001b[0m\u001b[1;33m\u001b[0m\u001b[0m\n\u001b[0m\u001b[0;32m      4\u001b[0m \u001b[0mpsds_delta\u001b[0m\u001b[1;33m,\u001b[0m \u001b[0mfrqs_delta\u001b[0m \u001b[1;33m=\u001b[0m \u001b[0mmne\u001b[0m\u001b[1;33m.\u001b[0m\u001b[0mtime_frequency\u001b[0m\u001b[1;33m.\u001b[0m\u001b[0mpsd_multitaper\u001b[0m\u001b[1;33m(\u001b[0m\u001b[0mepochs\u001b[0m\u001b[1;33m,\u001b[0m \u001b[0mfmin\u001b[0m\u001b[1;33m=\u001b[0m\u001b[1;36m1.5\u001b[0m\u001b[1;33m,\u001b[0m \u001b[0mfmax\u001b[0m\u001b[1;33m=\u001b[0m\u001b[1;36m4.5\u001b[0m\u001b[1;33m,\u001b[0m \u001b[0mtmin\u001b[0m\u001b[1;33m=\u001b[0m\u001b[1;32mNone\u001b[0m\u001b[1;33m,\u001b[0m \u001b[0mtmax\u001b[0m\u001b[1;33m=\u001b[0m\u001b[1;32mNone\u001b[0m\u001b[1;33m)\u001b[0m\u001b[1;33m\u001b[0m\u001b[1;33m\u001b[0m\u001b[0m\n\u001b[0;32m      5\u001b[0m \u001b[0mdelta_sum_pds\u001b[0m \u001b[1;33m=\u001b[0m \u001b[0mnp\u001b[0m\u001b[1;33m.\u001b[0m\u001b[0msum\u001b[0m\u001b[1;33m(\u001b[0m\u001b[0mpsds_delta\u001b[0m\u001b[1;33m)\u001b[0m\u001b[1;33m\u001b[0m\u001b[1;33m\u001b[0m\u001b[0m\n",
      "\u001b[1;31mNameError\u001b[0m: name 'total_sum_pds' is not defined"
     ]
    }
   ],
   "source": [
    "#delta=(2, 4), theta=(5, 7), alpha=(8, 12), beta=(15, 29), gamma=(30, 45))\n",
    "#delta\n",
    "print(total_sum_pds)\n",
    "psds_delta, frqs_delta = mne.time_frequency.psd_multitaper(epochs, fmin=1.5, fmax=4.5, tmin=None, tmax=None)\n",
    "delta_sum_pds = np.sum(psds_delta)\n",
    "print(delta_sum_pds)\n",
    "delta_ratio = (delta_sum_pds) / (total_sum_pds)\n",
    "print(delta_ratio)\n",
    "print(frqs_delta)"
   ]
  },
  {
   "cell_type": "code",
   "execution_count": 31,
   "id": "dd8e2408-b63e-4250-8d4f-85267085ee7f",
   "metadata": {},
   "outputs": [
    {
     "name": "stdout",
     "output_type": "stream",
     "text": [
      "1.3154165158816441e-05\n",
      "    Using multitaper spectrum estimation with 7 DPSS windows\n",
      "1.5910365528611955e-06\n",
      "0.12095306191247111\n",
      "[5.69916435 7.12395543]\n"
     ]
    }
   ],
   "source": [
    "#delta=(2, 4), theta=(5, 7), alpha=(8, 12), beta=(15, 29), gamma=(30, 45))\n",
    "#theta\n",
    "print(total_sum_pds)\n",
    "psds_theta, frqs_theta = mne.time_frequency.psd_multitaper(epochs, fmin=4.5, fmax=7.5, tmin=None, tmax=None)\n",
    "theta_sum_pds = np.sum(psds_theta)\n",
    "print(theta_sum_pds)\n",
    "theta_ratio = (theta_sum_pds) / (total_sum_pds)\n",
    "print(theta_ratio)\n",
    "print(frqs_theta)"
   ]
  },
  {
   "cell_type": "code",
   "execution_count": 32,
   "id": "58ad5077-8dc4-48d8-82cc-c0eeb2e0b15b",
   "metadata": {},
   "outputs": [
    {
     "name": "stdout",
     "output_type": "stream",
     "text": [
      "1.3154165158816441e-05\n",
      "    Using multitaper spectrum estimation with 7 DPSS windows\n",
      "2.377667515958959e-06\n",
      "0.18075396555024645\n",
      "[ 8.54874652  9.9735376  11.39832869]\n"
     ]
    }
   ],
   "source": [
    "#delta=(2, 4), theta=(5, 7), alpha=(8, 12), beta=(15, 29), gamma=(30, 45))\n",
    "#alpha\n",
    "print(total_sum_pds)\n",
    "psds_alpha, frqs_alpha = mne.time_frequency.psd_multitaper(epochs, fmin=7.5, fmax=12.5, tmin=None, tmax=None)\n",
    "alpha_sum_pds = np.sum(psds_alpha)\n",
    "print(alpha_sum_pds)\n",
    "alpha_ratio = (alpha_sum_pds) / (total_sum_pds)\n",
    "print(alpha_ratio)\n",
    "print(frqs_alpha)"
   ]
  },
  {
   "cell_type": "code",
   "execution_count": 33,
   "id": "afc09a1a-38b6-477e-8283-da5476d6deea",
   "metadata": {},
   "outputs": [
    {
     "name": "stdout",
     "output_type": "stream",
     "text": [
      "1.3154165158816441e-05\n",
      "    Using multitaper spectrum estimation with 7 DPSS windows\n",
      "4.328683621007746e-06\n",
      "0.3290732303225257\n",
      "[15.67270195 17.09749304 18.52228412 19.94707521 21.3718663  22.79665738\n",
      " 24.22144847 25.64623955 27.07103064 28.49582173]\n"
     ]
    }
   ],
   "source": [
    "#delta=(2, 4), theta=(5, 7), alpha=(8, 12), beta=(15, 29), gamma=(30, 45))\n",
    "#beta\n",
    "print(total_sum_pds)\n",
    "psds_beta, frqs_beta = mne.time_frequency.psd_multitaper(epochs, fmin=14.5, fmax=29.5, tmin=None, tmax=None)\n",
    "beta_sum_pds = np.sum(psds_beta)\n",
    "print(beta_sum_pds)\n",
    "beta_ratio = (beta_sum_pds) / (total_sum_pds)\n",
    "print(beta_ratio)\n",
    "print(frqs_beta)"
   ]
  },
  {
   "cell_type": "code",
   "execution_count": 34,
   "id": "98a6e203-846e-42ab-a12f-0807528fe06d",
   "metadata": {},
   "outputs": [
    {
     "name": "stdout",
     "output_type": "stream",
     "text": [
      "    Using multitaper spectrum estimation with 7 DPSS windows\n",
      "1.3157169067738685e-05\n",
      "    Using multitaper spectrum estimation with 7 DPSS windows\n",
      "1.0055525557212787e-06\n",
      "0.07642620920535928\n",
      "[29.92061281 31.3454039  32.77019499 34.19498607 35.61977716 37.04456825\n",
      " 38.46935933 39.89415042 41.3189415  42.74373259 44.16852368]\n"
     ]
    }
   ],
   "source": [
    "#delta=(2, 4), theta=(5, 7), alpha=(8, 12), beta=(15, 29), gamma=(30, 45))\n",
    "#gamma\n",
    "psds_total, frqs_total = mne.time_frequency.psd_multitaper(epochs, fmin=0.5, fmax=55, tmin=None, tmax=None)\n",
    "total_sum_pds = np.sum(psds_total)\n",
    "print(total_sum_pds)\n",
    "psds_gamma, frqs_gamma = mne.time_frequency.psd_multitaper(epochs, fmin=29.5, fmax=45.5, tmin=None, tmax=None)\n",
    "gamma_sum_pds = np.sum(psds_gamma)\n",
    "print(gamma_sum_pds)\n",
    "gamma_ratio = (gamma_sum_pds) / (total_sum_pds)\n",
    "print(gamma_ratio)\n",
    "print(frqs_gamma)"
   ]
  }
 ],
 "metadata": {
  "kernelspec": {
   "display_name": "Python 3 (ipykernel)",
   "language": "python",
   "name": "python3"
  },
  "language_info": {
   "codemirror_mode": {
    "name": "ipython",
    "version": 3
   },
   "file_extension": ".py",
   "mimetype": "text/x-python",
   "name": "python",
   "nbconvert_exporter": "python",
   "pygments_lexer": "ipython3",
   "version": "3.9.5"
  }
 },
 "nbformat": 4,
 "nbformat_minor": 5
}
