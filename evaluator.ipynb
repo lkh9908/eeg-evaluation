{
 "cells": [
  {
   "cell_type": "code",
   "execution_count": 1,
   "metadata": {},
   "outputs": [],
   "source": [
    "import pyedflib\n",
    "import numpy as np\n",
    "import xmltodict\n",
    "import json\n",
    "import mne\n",
    "import matplotlib\n",
    "import math\n",
    "import pathlib\n",
    "from mne_extras import write_mne_edf"
   ]
  },
  {
   "cell_type": "code",
   "execution_count": 2,
   "metadata": {},
   "outputs": [],
   "source": [
    "matplotlib.use('Qt5Agg')"
   ]
  },
  {
   "cell_type": "code",
   "execution_count": 3,
   "metadata": {},
   "outputs": [],
   "source": [
    "#setting up paths for inputs and outputs\n",
    "file_name = '2021-07-13_152554_RawData'\n",
    "\n",
    "input_path = './input_txt/mzk_20210629/'\n",
    "output_path_edf = './output_edf/'\n",
    "output_path_fif = './output_fif/'\n",
    "\n",
    "ch_one = file_name + '_Ch1.txt'\n",
    "ch_two = file_name + '_Ch2.txt'\n",
    "# ch_one = '2021-07-09_094849_Filter_Data' + '_Ch1.txt'\n",
    "# ch_two = '2021-07-09_094849_Filter_Data' + '_Ch2.txt'\n",
    "\n",
    "ch_three = file_name + '_Ch3.txt'\n",
    "ch_four = file_name + '_Ch4.txt'\n",
    "\n",
    "xml = '2021-07-13_152554.xml'\n",
    "\n",
    "out_file_name = 'singleCH_backhead'\n",
    "out_name_edf = out_file_name + '.edf'\n",
    "out_name_fif = out_file_name + '.fif'\n",
    "out_name_final = 'final_' + out_file_name + '.edf'\n",
    "\n",
    "ch_one_path = input_path + ch_one\n",
    "ch_two_path = input_path + ch_two\n",
    "ch_three_path = input_path + ch_three\n",
    "ch_four_path = input_path + ch_four\n",
    "xml_path = input_path + xml\n",
    "out_file_path_edf = output_path_edf + out_name_edf\n",
    "out_file_path_fif = output_path_fif + out_name_fif\n",
    "out_final_edf = output_path_edf + out_name_final"
   ]
  },
  {
   "cell_type": "code",
   "execution_count": 4,
   "metadata": {},
   "outputs": [],
   "source": [
    "#read from .txt and convert data into numpy array\n",
    "#each dataset is composed of two channels (.txt) and one information doc (.xml)\n",
    "raw_one = np.loadtxt(ch_one_path)\n",
    "raw_two = np.loadtxt(ch_two_path)\n",
    "raw_three = np.loadtxt(ch_three_path)\n",
    "raw_four = np.loadtxt(ch_four_path)\n",
    "signal = [np.array(raw_one, dtype=np.float32), np.array(raw_two, dtype=np.float32), np.array(raw_three, dtype=np.float32), np.array(raw_four, dtype=np.float32)]"
   ]
  },
  {
   "cell_type": "code",
   "execution_count": 5,
   "metadata": {},
   "outputs": [],
   "source": [
    "#read .xml doc and extract needed info\n",
    "fileptr = open(xml_path, \"r\")\n",
    "\n",
    "xml_content = fileptr.read()\n",
    "\n",
    "my_ordered_dict = xmltodict.parse(xml_content)\n",
    "dict = json.loads(json.dumps(my_ordered_dict))\n",
    "\n",
    "sample_rate = eval(dict['RECORD_INFO']['Record']['SamplesFreq'])"
   ]
  },
  {
   "cell_type": "code",
   "execution_count": 6,
   "metadata": {},
   "outputs": [
    {
     "name": "stdout",
     "output_type": "stream",
     "text": [
      "./output_edf/singleCH_backhead.edf\n",
      "True\n"
     ]
    }
   ],
   "source": [
    "#setting up info needed for .edf generation and write .edf file\n",
    "headers = [{'label':'ch1', \n",
    "            'dimension': 'uV',\n",
    "            'sample_rate': sample_rate,\n",
    "            'physical_max': 5000,\n",
    "            \"physical_min\": -5000,\n",
    "            'digital_max': 5000,\n",
    "            'digital_min': -5000,\n",
    "            'transducer': 'None',\n",
    "            'prefilter': 'None'},\n",
    "            {'label':'ch2', \n",
    "            'dimension': 'uV',\n",
    "            'sample_rate': sample_rate,\n",
    "            'physical_max': 5000,\n",
    "            \"physical_min\": -5000,\n",
    "            'digital_max': 5000,\n",
    "            'digital_min': -5000,\n",
    "            'transducer': 'None',\n",
    "            'prefilter': 'None'},\n",
    "          {'label':'ch3', \n",
    "            'dimension': 'uV',\n",
    "            'sample_rate': sample_rate,\n",
    "            'physical_max': 5000,\n",
    "            \"physical_min\": -5000,\n",
    "            'digital_max': 5000,\n",
    "            'digital_min': -5000,\n",
    "            'transducer': 'None',\n",
    "            'prefilter': 'None'},\n",
    "          {'label':'ch4', \n",
    "            'dimension': 'uV',\n",
    "            'sample_rate': sample_rate,\n",
    "            'physical_max': 5000,\n",
    "            \"physical_min\": -5000,\n",
    "            'digital_max': 5000,\n",
    "            'digital_min': -5000,\n",
    "            'transducer': 'None',\n",
    "            'prefilter': 'None'}]\n",
    "with open(out_file_path_edf, 'w') as output:\n",
    "    print(out_file_path_edf)\n",
    "    flag = pyedflib.highlevel.write_edf(output.name, signal, headers, header=None, digital=False, file_type=-1, block_size=1)\n",
    "    print(flag)"
   ]
  },
  {
   "cell_type": "code",
   "execution_count": 7,
   "metadata": {},
   "outputs": [
    {
     "name": "stdout",
     "output_type": "stream",
     "text": [
      "Extracting EDF parameters from C:\\Users\\admin\\Desktop\\work\\my_evaluator\\output_edf\\singleCH_backhead.edf...\n",
      "EDF file detected\n",
      "Setting channel info structure...\n",
      "Creating raw.info structure...\n"
     ]
    }
   ],
   "source": [
    "#read the newly created .edf using mne\n",
    "raw=mne.io.read_raw_edf(out_file_path_edf,preload=False)"
   ]
  },
  {
   "cell_type": "code",
   "execution_count": 8,
   "metadata": {},
   "outputs": [
    {
     "data": {
      "text/html": [
       "\n",
       "\n",
       "<table class=\"table table-hover\">\n",
       "    <tr>\n",
       "        <th>Measurement date</th>\n",
       "        <td>July 13, 2021  15:29:25 GMT</td>\n",
       "        \n",
       "    </tr>\n",
       "    <tr>\n",
       "        <th>Experimenter</th>\n",
       "<td>Unknown</td>\n",
       "    </tr>\n",
       "        <th>Participant</th>\n",
       "<td>Unknown</td>\n",
       "    </tr>\n",
       "    <tr>\n",
       "        <th>Digitized points</th>\n",
       "        <td>Not available</td>\n",
       "    </tr>\n",
       "    <tr>\n",
       "        <th>Good channels</th>\n",
       "        <td>0 magnetometer, 0 gradiometer,\n",
       "            and 4 EEG channels</td>\n",
       "    </tr>\n",
       "    <tr>\n",
       "        <th>Bad channels</th>\n",
       "        <td></td>\n",
       "        \n",
       "    </tr>\n",
       "    <tr>\n",
       "        <th>EOG channels</th>\n",
       "        <td>Not available</td>\n",
       "    </tr>\n",
       "    <tr>\n",
       "        <th>ECG channels</th>\n",
       "        <td>Not available</td>\n",
       "    <tr>\n",
       "        <th>Sampling frequency</th>\n",
       "        <td>1023.00 Hz</td>\n",
       "    </tr>\n",
       "    <tr>\n",
       "        <th>Highpass</th>\n",
       "        <td>0.00 Hz</td>\n",
       "    </tr>\n",
       "     <tr>\n",
       "        <th>Lowpass</th>\n",
       "        <td>511.50 Hz</td>\n",
       "    </tr>\n",
       "\n",
       "    <tr>\n",
       "        <th>Filenames</th>\n",
       "        <td>singleCH_backhead.edf</td>\n",
       "    </tr>\n",
       "    <tr>\n",
       "        <th>Duration</th>\n",
       "        <td>00:02:04 (HH:MM:SS)</td>\n",
       "    </tr>\n",
       "</table>\n"
      ],
      "text/plain": [
       "<RawEDF | singleCH_backhead.edf, 4 x 127875 (125.0 s), ~9 kB, data not loaded>"
      ]
     },
     "execution_count": 8,
     "metadata": {},
     "output_type": "execute_result"
    }
   ],
   "source": [
    "raw"
   ]
  },
  {
   "cell_type": "code",
   "execution_count": 9,
   "metadata": {},
   "outputs": [
    {
     "data": {
      "text/plain": [
       "<MNEBrowseFigure size 1918x784 with 4 Axes>"
      ]
     },
     "execution_count": 9,
     "metadata": {},
     "output_type": "execute_result"
    }
   ],
   "source": [
    "raw.plot()"
   ]
  },
  {
   "cell_type": "code",
   "execution_count": 10,
   "metadata": {},
   "outputs": [],
   "source": [
    "#create events using mne\n",
    "#events are equally spaced out for epoch division\n",
    "new_events = mne.make_fixed_length_events(raw, duration=2.)\n",
    "event_dict = {'divide':1}"
   ]
  },
  {
   "cell_type": "code",
   "execution_count": 11,
   "metadata": {},
   "outputs": [
    {
     "name": "stdout",
     "output_type": "stream",
     "text": [
      "Reading 0 ... 127874  =      0.000 ...   124.999 secs...\n",
      "Filtering raw data in 1 contiguous segment\n",
      "Setting up band-pass filter from 0.5 - 30 Hz\n",
      "\n",
      "FIR filter parameters\n",
      "---------------------\n",
      "Designing a one-pass, zero-phase, non-causal bandpass filter:\n",
      "- Windowed time-domain design (firwin) method\n",
      "- Hamming window with 0.0194 passband ripple and 53 dB stopband attenuation\n",
      "- Lower passband edge: 0.50\n",
      "- Lower transition bandwidth: 0.50 Hz (-6 dB cutoff frequency: 0.25 Hz)\n",
      "- Upper passband edge: 30.00 Hz\n",
      "- Upper transition bandwidth: 7.50 Hz (-6 dB cutoff frequency: 33.75 Hz)\n",
      "- Filter length: 6753 samples (6.601 sec)\n",
      "\n"
     ]
    },
    {
     "data": {
      "text/html": [
       "\n",
       "\n",
       "<table class=\"table table-hover\">\n",
       "    <tr>\n",
       "        <th>Measurement date</th>\n",
       "        <td>July 13, 2021  15:29:25 GMT</td>\n",
       "        \n",
       "    </tr>\n",
       "    <tr>\n",
       "        <th>Experimenter</th>\n",
       "<td>Unknown</td>\n",
       "    </tr>\n",
       "        <th>Participant</th>\n",
       "<td>Unknown</td>\n",
       "    </tr>\n",
       "    <tr>\n",
       "        <th>Digitized points</th>\n",
       "        <td>Not available</td>\n",
       "    </tr>\n",
       "    <tr>\n",
       "        <th>Good channels</th>\n",
       "        <td>0 magnetometer, 0 gradiometer,\n",
       "            and 4 EEG channels</td>\n",
       "    </tr>\n",
       "    <tr>\n",
       "        <th>Bad channels</th>\n",
       "        <td></td>\n",
       "        \n",
       "    </tr>\n",
       "    <tr>\n",
       "        <th>EOG channels</th>\n",
       "        <td>Not available</td>\n",
       "    </tr>\n",
       "    <tr>\n",
       "        <th>ECG channels</th>\n",
       "        <td>Not available</td>\n",
       "    <tr>\n",
       "        <th>Sampling frequency</th>\n",
       "        <td>1023.00 Hz</td>\n",
       "    </tr>\n",
       "    <tr>\n",
       "        <th>Highpass</th>\n",
       "        <td>0.50 Hz</td>\n",
       "    </tr>\n",
       "     <tr>\n",
       "        <th>Lowpass</th>\n",
       "        <td>30.00 Hz</td>\n",
       "    </tr>\n",
       "\n",
       "    <tr>\n",
       "        <th>Filenames</th>\n",
       "        <td>singleCH_backhead.edf</td>\n",
       "    </tr>\n",
       "    <tr>\n",
       "        <th>Duration</th>\n",
       "        <td>00:02:04 (HH:MM:SS)</td>\n",
       "    </tr>\n",
       "</table>\n"
      ],
      "text/plain": [
       "<RawEDF | singleCH_backhead.edf, 4 x 127875 (125.0 s), ~3.9 MB, data loaded>"
      ]
     },
     "execution_count": 11,
     "metadata": {},
     "output_type": "execute_result"
    }
   ],
   "source": [
    "#filter using frequency\n",
    "#best: do after the rejection, but will reject 89% of data\n",
    "raw.load_data()\n",
    "raw.filter(l_freq=0.5, h_freq=30)"
   ]
  },
  {
   "cell_type": "code",
   "execution_count": 12,
   "metadata": {},
   "outputs": [
    {
     "name": "stdout",
     "output_type": "stream",
     "text": [
      "Not setting metadata\n",
      "Not setting metadata\n",
      "62 matching events found\n",
      "Setting baseline interval to [-0.20039100684261973, 0.0] sec\n",
      "Applying baseline correction (mode: mean)\n",
      "0 projection items activated\n",
      "Loading data for 62 events and 718 original time points ...\n",
      "1 bad epochs dropped\n"
     ]
    }
   ],
   "source": [
    "#reject using values of amplitude\n",
    "#best: do before the filter, but will reject 89% of data\n",
    "del (dict)\n",
    "reject_criteria = dict(eeg=400e-6)       # 400 µV\n",
    "\n",
    "flat_criteria = dict(eeg=1e-6)           # 1 µV\n",
    "\n",
    "epochs = mne.Epochs(raw,new_events, reject=reject_criteria, flat=flat_criteria,\n",
    "                    reject_by_annotation=False, preload=True, picks=['ch1','ch2'])"
   ]
  },
  {
   "cell_type": "code",
   "execution_count": 13,
   "metadata": {},
   "outputs": [
    {
     "name": "stdout",
     "output_type": "stream",
     "text": [
      "Not setting metadata\n",
      "Not setting metadata\n",
      "62 matching events found\n",
      "Setting baseline interval to [-0.20039100684261973, 0.0] sec\n",
      "Applying baseline correction (mode: mean)\n",
      "0 projection items activated\n",
      "Loading data for 62 events and 718 original time points ...\n",
      "1 bad epochs dropped\n"
     ]
    }
   ],
   "source": [
    "epochs_2 = mne.Epochs(raw,new_events, reject_by_annotation=False, preload=True)"
   ]
  },
  {
   "cell_type": "code",
   "execution_count": 14,
   "metadata": {},
   "outputs": [
    {
     "name": "stdout",
     "output_type": "stream",
     "text": [
      "Channels marked as bad: none\n"
     ]
    },
    {
     "data": {
      "text/plain": [
       "<Figure size 640x480 with 1 Axes>"
      ]
     },
     "execution_count": 14,
     "metadata": {},
     "output_type": "execute_result"
    }
   ],
   "source": [
    "epochs.plot_drop_log()"
   ]
  },
  {
   "cell_type": "code",
   "execution_count": 15,
   "metadata": {},
   "outputs": [],
   "source": [
    "# epochs.load_data()\n",
    "# epochs.filter(l_freq=0.5, h_freq=30)"
   ]
  },
  {
   "cell_type": "code",
   "execution_count": 16,
   "metadata": {},
   "outputs": [
    {
     "name": "stdout",
     "output_type": "stream",
     "text": [
      "    Using multitaper spectrum estimation with 7 DPSS windows\n"
     ]
    },
    {
     "data": {
      "text/plain": [
       "<MNELineFigure size 1000x350 with 1 Axes>"
      ]
     },
     "execution_count": 16,
     "metadata": {},
     "output_type": "execute_result"
    }
   ],
   "source": [
    "epochs.plot_psd(average=True)"
   ]
  },
  {
   "cell_type": "code",
   "execution_count": 17,
   "metadata": {},
   "outputs": [
    {
     "data": {
      "text/plain": [
       "<MNEBrowseFigure size 1918x784 with 4 Axes>"
      ]
     },
     "execution_count": 17,
     "metadata": {},
     "output_type": "execute_result"
    }
   ],
   "source": [
    "epochs.plot()\n",
    "epochs_2.plot()"
   ]
  },
  {
   "cell_type": "code",
   "execution_count": 18,
   "metadata": {},
   "outputs": [
    {
     "name": "stdout",
     "output_type": "stream",
     "text": [
      "Including 0 SSP projectors from raw file\n",
      "Running EOG SSP computation\n",
      "Using EOG channel: ch1\n",
      "EOG channel index for this subject is: [0]\n",
      "Filtering the data to remove DC offset to help distinguish blinks from saccades\n",
      "Setting up band-pass filter from 1 - 10 Hz\n",
      "\n",
      "FIR filter parameters\n",
      "---------------------\n",
      "Designing a two-pass forward and reverse, zero-phase, non-causal bandpass filter:\n",
      "- Windowed frequency-domain design (firwin2) method\n",
      "- Hann window\n",
      "- Lower passband edge: 1.00\n",
      "- Lower transition bandwidth: 0.50 Hz (-12 dB cutoff frequency: 0.75 Hz)\n",
      "- Upper passband edge: 10.00 Hz\n",
      "- Upper transition bandwidth: 0.50 Hz (-12 dB cutoff frequency: 10.25 Hz)\n",
      "- Filter length: 10230 samples (10.000 sec)\n",
      "\n",
      "Now detecting blinks and generating corresponding events\n",
      "Found 9 significant peaks\n",
      "Number of EOG events detected: 9\n",
      "Computing projector\n",
      "Filtering raw data in 1 contiguous segment\n",
      "Setting up band-pass filter from 1 - 35 Hz\n",
      "\n",
      "FIR filter parameters\n",
      "---------------------\n",
      "Designing a two-pass forward and reverse, zero-phase, non-causal bandpass filter:\n",
      "- Windowed frequency-domain design (firwin2) method\n",
      "- Hamming window\n",
      "- Lower passband edge: 1.00\n",
      "- Lower transition bandwidth: 0.50 Hz (-12 dB cutoff frequency: 0.75 Hz)\n",
      "- Upper passband edge: 35.00 Hz\n",
      "- Upper transition bandwidth: 0.50 Hz (-12 dB cutoff frequency: 35.25 Hz)\n",
      "- Filter length: 10230 samples (10.000 sec)\n",
      "\n",
      "Not setting metadata\n",
      "Not setting metadata\n",
      "9 matching events found\n",
      "No baseline correction applied\n",
      "0 projection items activated\n",
      "Loading data for 9 events and 411 original time points ...\n",
      "0 bad epochs dropped\n",
      "Adding projection: eeg--0.200-0.200-PCA-01\n",
      "Done.\n"
     ]
    }
   ],
   "source": [
    "#https://mne.tools/stable/auto_tutorials/preprocessing/50_artifact_correction_ssp.html#tut-artifact-ssp\n",
    "\n",
    "#cannot do ecg filter because we dont have any ecg channel or meg channel\n",
    "#ecg_projs, ecg_events = mne.preprocessing.compute_proj_ecg(raw, n_grad=0, n_mag=0, n_eeg=4, ch_name='ch1', reject = None)\n",
    "eog_projs, eog_events = mne.preprocessing.compute_proj_eog(raw, n_grad=0, n_mag=0, n_eeg=1, ch_name='ch1', reject = None)"
   ]
  },
  {
   "cell_type": "code",
   "execution_count": 19,
   "metadata": {},
   "outputs": [],
   "source": [
    "projs = eog_projs\n",
    "#projs = eog_projs + ecg_projs"
   ]
  },
  {
   "cell_type": "code",
   "execution_count": 20,
   "metadata": {},
   "outputs": [
    {
     "name": "stdout",
     "output_type": "stream",
     "text": [
      "1 projection items deactivated\n"
     ]
    },
    {
     "data": {
      "text/html": [
       "\n",
       "<table class=\"table table-hover\">\n",
       "    <tr>\n",
       "        <th>Number of events</th>\n",
       "        <td>61</td>\n",
       "    </tr>\n",
       "    <tr>\n",
       "        <th>Events</th>\n",
       "        <td>1: 61<br></td>\n",
       "    </tr>\n",
       "    <tr>\n",
       "        <th>Time range</th>\n",
       "        <td>-0.200 – 0.500 sec</td>\n",
       "    </tr>\n",
       "    <tr>\n",
       "        <th>Baseline</th>\n",
       "        <td>-0.200 – 0.000 sec</td>\n",
       "    </tr>\n",
       "</table>\n"
      ],
      "text/plain": [
       "<Epochs |  61 events (all good), -0.200391 - 0.500489 sec, baseline -0.200391 – 0 sec, ~693 kB, data loaded,\n",
       " '1': 61>"
      ]
     },
     "execution_count": 20,
     "metadata": {},
     "output_type": "execute_result"
    }
   ],
   "source": [
    "epochs.add_proj(projs)"
   ]
  },
  {
   "cell_type": "code",
   "execution_count": 21,
   "metadata": {},
   "outputs": [
    {
     "name": "stdout",
     "output_type": "stream",
     "text": [
      "Created an SSP operator (subspace dimension = 1)\n",
      "1 projection items activated\n",
      "SSP projectors applied...\n"
     ]
    },
    {
     "name": "stderr",
     "output_type": "stream",
     "text": [
      "C:\\Users\\admin\\AppData\\Local\\Temp/ipykernel_12228/1745490712.py:2: RuntimeWarning: Projection vector \"EOG-eeg--0.200-0.200-PCA-01\" has magnitude 1.00 (should be unity), applying projector with 2/4 of the original channels available may be dangerous, consider recomputing and adding projection vectors for channels that are eventually used. If this is intentional, consider using info.normalize_proj()\n",
      "  epochs_cleaned = epochs.copy().apply_proj()\n"
     ]
    }
   ],
   "source": [
    "#apply eog filter\n",
    "epochs_cleaned = epochs.copy().apply_proj()"
   ]
  },
  {
   "cell_type": "code",
   "execution_count": 22,
   "metadata": {},
   "outputs": [
    {
     "name": "stderr",
     "output_type": "stream",
     "text": [
      "C:\\Users\\admin\\AppData\\Local\\Temp/ipykernel_12228/2543344250.py:2: RuntimeWarning: Projection vector \"EOG-eeg--0.200-0.200-PCA-01\" has magnitude 1.00 (should be unity), applying projector with 2/4 of the original channels available may be dangerous, consider recomputing and adding projection vectors for channels that are eventually used. If this is intentional, consider using info.normalize_proj()\n",
      "  epochs_cleaned[0:100].plot()\n"
     ]
    },
    {
     "data": {
      "text/plain": [
       "<MNEBrowseFigure size 1918x784 with 4 Axes>"
      ]
     },
     "execution_count": 22,
     "metadata": {},
     "output_type": "execute_result"
    }
   ],
   "source": [
    "epochs[0:100].plot()\n",
    "epochs_cleaned[0:100].plot()"
   ]
  },
  {
   "cell_type": "code",
   "execution_count": 23,
   "metadata": {},
   "outputs": [
    {
     "name": "stderr",
     "output_type": "stream",
     "text": [
      "C:\\Users\\admin\\AppData\\Local\\Temp/ipykernel_12228/2457816835.py:2: RuntimeWarning: This filename (./output_fif/singleCH_backhead.fif) does not conform to MNE naming conventions. All epochs files should end with -epo.fif, -epo.fif.gz, _epo.fif or _epo.fif.gz\n",
      "  epochs.save(out_file_path_fif, overwrite=True)\n"
     ]
    }
   ],
   "source": [
    "#save as .fif format\n",
    "epochs.save(out_file_path_fif, overwrite=True)"
   ]
  },
  {
   "cell_type": "code",
   "execution_count": 24,
   "metadata": {},
   "outputs": [],
   "source": [
    "#convert to data frame format in order to save as .edf\n",
    "df = epochs.to_data_frame()"
   ]
  },
  {
   "cell_type": "code",
   "execution_count": 25,
   "metadata": {},
   "outputs": [
    {
     "name": "stdout",
     "output_type": "stream",
     "text": [
      "./output_edf/final_singleCH_backhead.edf\n",
      "True\n"
     ]
    }
   ],
   "source": [
    "#save as .edf\n",
    "out_raw_one = df['ch1']\n",
    "out_raw_two = df['ch2']\n",
    "# out_raw_three = df['ch3']\n",
    "# out_raw_four = df['ch4']\n",
    "#out_signal = [np.array(out_raw_one), np.array(out_raw_two), np.array(out_raw_three), np.array(out_raw_four)]\n",
    "out_signal = [np.array(out_raw_one), np.array(out_raw_two)]\n",
    "\n",
    "headers = [{'label':'ch1', \n",
    "            'dimension': 'uV',\n",
    "            'sample_rate': sample_rate,\n",
    "            'physical_max': 5000,\n",
    "            \"physical_min\": -5000,\n",
    "            'digital_max': 5000,\n",
    "            'digital_min': -5000,\n",
    "            'transducer': 'None',\n",
    "            'prefilter': 'None'},\n",
    "            {'label':'ch2', \n",
    "            'dimension': 'uV',\n",
    "            'sample_rate': sample_rate,\n",
    "            'physical_max': 5000,\n",
    "            \"physical_min\": -5000,\n",
    "            'digital_max': 5000,\n",
    "            'digital_min': -5000,\n",
    "            'transducer': 'None',\n",
    "            'prefilter': 'None'}]\n",
    "\n",
    "with open(out_final_edf, 'w') as output:\n",
    "    print(out_final_edf)\n",
    "    flag = pyedflib.highlevel.write_edf(output.name, out_signal, headers, header=None, digital=False, file_type=-1, block_size=1)\n",
    "    print(flag)"
   ]
  },
  {
   "cell_type": "code",
   "execution_count": 26,
   "metadata": {},
   "outputs": [
    {
     "name": "stdout",
     "output_type": "stream",
     "text": [
      "variance: 185.9692319696723\n"
     ]
    }
   ],
   "source": [
    "variance = np.var(out_signal)\n",
    "print('variance:', variance)\n"
   ]
  },
  {
   "cell_type": "code",
   "execution_count": 27,
   "metadata": {},
   "outputs": [
    {
     "name": "stdout",
     "output_type": "stream",
     "text": [
      "    Using multitaper spectrum estimation with 7 DPSS windows\n",
      "Dropped 0 epochs: \n",
      "Channels marked as bad: none\n",
      "Dropped 0 epochs: \n",
      "Channels marked as bad: none\n",
      "Dropped 0 epochs: \n",
      "Channels marked as bad: none\n",
      "Dropped 0 epochs: \n",
      "Channels marked as bad: none\n"
     ]
    },
    {
     "data": {
      "text/plain": [
       "<MNELineFigure size 1000x350 with 1 Axes>"
      ]
     },
     "execution_count": 27,
     "metadata": {},
     "output_type": "execute_result"
    }
   ],
   "source": [
    "epochs.plot_psd(average=True, fmin=0., fmax=100)"
   ]
  },
  {
   "cell_type": "code",
   "execution_count": 28,
   "metadata": {},
   "outputs": [
    {
     "name": "stdout",
     "output_type": "stream",
     "text": [
      "    Using multitaper spectrum estimation with 7 DPSS windows\n",
      "1.3154165158816441e-05\n",
      "    Using multitaper spectrum estimation with 7 DPSS windows\n",
      "3.003908922243861e-09\n",
      "0.00022836180677194269\n",
      "[45.59331476 47.01810585 48.44289694 49.86768802 51.29247911 52.71727019\n",
      " 54.14206128]\n"
     ]
    }
   ],
   "source": [
    "psds_total, frqs_total = mne.time_frequency.psd_multitaper(epochs, fmin=0.5, fmax=44.5, tmin=None, tmax=None)\n",
    "total_sum_pds = np.sum(psds_total)\n",
    "print(total_sum_pds)\n",
    "\n",
    "psds_power, frqs_power = mne.time_frequency.psd_multitaper(epochs, fmin=45, fmax=55, tmin=None, tmax=None)\n",
    "power_sum_pds = np.sum(psds_power)\n",
    "print(power_sum_pds)\n",
    "power_ratio = (power_sum_pds) / (total_sum_pds)\n",
    "print(power_ratio)\n",
    "print(frqs_power)"
   ]
  },
  {
   "cell_type": "code",
   "execution_count": 29,
   "metadata": {},
   "outputs": [],
   "source": [
    "# psds_total, frqs_total = mne.time_frequency.psd_welch(epochs, fmin=0.1, fmax=100, tmin=None, tmax=None, n_fft = 718)\n",
    "# total_sum_pds = np.sum(psds_total)\n",
    "# print(total_sum_pds)\n",
    "# psds_part, frqs_part = mne.time_frequency.psd_welch(epochs, fmin=45, fmax=55, tmin=None, tmax=None, n_fft = 718)\n",
    "# part_sum_pds = np.sum(psds_part)\n",
    "# print(part_sum_pds)\n",
    "# ratio = (part_sum_pds) / (total_sum_pds)\n",
    "# print(ratio)\n",
    "# print(frqs_part)"
   ]
  },
  {
   "cell_type": "code",
   "execution_count": 30,
   "metadata": {},
   "outputs": [
    {
     "name": "stdout",
     "output_type": "stream",
     "text": [
      "1.3154165158816441e-05\n",
      "    Using multitaper spectrum estimation with 7 DPSS windows\n",
      "1.5779902085359334e-06\n",
      "0.1199612586191608\n",
      "[2.84958217 4.27437326]\n"
     ]
    }
   ],
   "source": [
    "#delta=(2, 4), theta=(5, 7), alpha=(8, 12), beta=(15, 29), gamma=(30, 45))\n",
    "#delta\n",
    "print(total_sum_pds)\n",
    "psds_delta, frqs_delta = mne.time_frequency.psd_multitaper(epochs, fmin=1.5, fmax=4.5, tmin=None, tmax=None)\n",
    "delta_sum_pds = np.sum(psds_delta)\n",
    "print(delta_sum_pds)\n",
    "delta_ratio = (delta_sum_pds) / (total_sum_pds)\n",
    "print(delta_ratio)\n",
    "print(frqs_delta)"
   ]
  },
  {
   "cell_type": "code",
   "execution_count": 31,
   "metadata": {},
   "outputs": [
    {
     "name": "stdout",
     "output_type": "stream",
     "text": [
      "1.3154165158816441e-05\n",
      "    Using multitaper spectrum estimation with 7 DPSS windows\n",
      "1.5910365528611955e-06\n",
      "0.12095306191247111\n",
      "[5.69916435 7.12395543]\n"
     ]
    }
   ],
   "source": [
    "#delta=(2, 4), theta=(5, 7), alpha=(8, 12), beta=(15, 29), gamma=(30, 45))\n",
    "#theta\n",
    "print(total_sum_pds)\n",
    "psds_theta, frqs_theta = mne.time_frequency.psd_multitaper(epochs, fmin=4.5, fmax=7.5, tmin=None, tmax=None)\n",
    "theta_sum_pds = np.sum(psds_theta)\n",
    "print(theta_sum_pds)\n",
    "theta_ratio = (theta_sum_pds) / (total_sum_pds)\n",
    "print(theta_ratio)\n",
    "print(frqs_theta)"
   ]
  },
  {
   "cell_type": "code",
   "execution_count": 32,
   "metadata": {},
   "outputs": [
    {
     "name": "stdout",
     "output_type": "stream",
     "text": [
      "1.3154165158816441e-05\n",
      "    Using multitaper spectrum estimation with 7 DPSS windows\n",
      "2.377667515958959e-06\n",
      "0.18075396555024645\n",
      "[ 8.54874652  9.9735376  11.39832869]\n"
     ]
    }
   ],
   "source": [
    "#delta=(2, 4), theta=(5, 7), alpha=(8, 12), beta=(15, 29), gamma=(30, 45))\n",
    "#alpha\n",
    "print(total_sum_pds)\n",
    "psds_alpha, frqs_alpha = mne.time_frequency.psd_multitaper(epochs, fmin=7.5, fmax=12.5, tmin=None, tmax=None)\n",
    "alpha_sum_pds = np.sum(psds_alpha)\n",
    "print(alpha_sum_pds)\n",
    "alpha_ratio = (alpha_sum_pds) / (total_sum_pds)\n",
    "print(alpha_ratio)\n",
    "print(frqs_alpha)"
   ]
  },
  {
   "cell_type": "code",
   "execution_count": 33,
   "metadata": {},
   "outputs": [
    {
     "name": "stdout",
     "output_type": "stream",
     "text": [
      "1.3154165158816441e-05\n",
      "    Using multitaper spectrum estimation with 7 DPSS windows\n",
      "4.328683621007746e-06\n",
      "0.3290732303225257\n",
      "[15.67270195 17.09749304 18.52228412 19.94707521 21.3718663  22.79665738\n",
      " 24.22144847 25.64623955 27.07103064 28.49582173]\n"
     ]
    }
   ],
   "source": [
    "#delta=(2, 4), theta=(5, 7), alpha=(8, 12), beta=(15, 29), gamma=(30, 45))\n",
    "#beta\n",
    "print(total_sum_pds)\n",
    "psds_beta, frqs_beta = mne.time_frequency.psd_multitaper(epochs, fmin=14.5, fmax=29.5, tmin=None, tmax=None)\n",
    "beta_sum_pds = np.sum(psds_beta)\n",
    "print(beta_sum_pds)\n",
    "beta_ratio = (beta_sum_pds) / (total_sum_pds)\n",
    "print(beta_ratio)\n",
    "print(frqs_beta)"
   ]
  },
  {
   "cell_type": "code",
   "execution_count": 34,
   "metadata": {},
   "outputs": [
    {
     "name": "stdout",
     "output_type": "stream",
     "text": [
      "    Using multitaper spectrum estimation with 7 DPSS windows\n",
      "1.3157169067738685e-05\n",
      "    Using multitaper spectrum estimation with 7 DPSS windows\n",
      "1.0055525557212787e-06\n",
      "0.07642620920535928\n",
      "[29.92061281 31.3454039  32.77019499 34.19498607 35.61977716 37.04456825\n",
      " 38.46935933 39.89415042 41.3189415  42.74373259 44.16852368]\n"
     ]
    }
   ],
   "source": [
    "#delta=(2, 4), theta=(5, 7), alpha=(8, 12), beta=(15, 29), gamma=(30, 45))\n",
    "#gamma\n",
    "psds_total, frqs_total = mne.time_frequency.psd_multitaper(epochs, fmin=0.5, fmax=55, tmin=None, tmax=None)\n",
    "total_sum_pds = np.sum(psds_total)\n",
    "print(total_sum_pds)\n",
    "psds_gamma, frqs_gamma = mne.time_frequency.psd_multitaper(epochs, fmin=29.5, fmax=45.5, tmin=None, tmax=None)\n",
    "gamma_sum_pds = np.sum(psds_gamma)\n",
    "print(gamma_sum_pds)\n",
    "gamma_ratio = (gamma_sum_pds) / (total_sum_pds)\n",
    "print(gamma_ratio)\n",
    "print(frqs_gamma)"
   ]
  },
  {
   "cell_type": "code",
   "execution_count": 35,
   "metadata": {},
   "outputs": [
    {
     "name": "stdout",
     "output_type": "stream",
     "text": [
      "x1: 185.9692319696723\n",
      "x2: 0.00022836180677194269\n",
      "x3: 0.1199612586191608\n",
      "y1: 100\n",
      "y2: 1\n",
      "y3: 0.06295932811653265\n",
      "6.295932811653265\n"
     ]
    }
   ],
   "source": [
    "#evaluate the signal\n",
    "\n",
    "#formula from paper\n",
    "\n",
    "#y1: variance score\n",
    "y1 = 0\n",
    "#x1: variance\n",
    "x1 = variance\n",
    "\n",
    "if x1 < 50:\n",
    "    y1 = 0.02*np.power(x1,2)\n",
    "elif x1 >= 50 and x1 < 100:\n",
    "    y1 = 0.6*x1 + 20\n",
    "elif x1 >= 100 and x1 < 2000:\n",
    "    y1 = 100\n",
    "elif x1 >= 2000 and x1 < 5000:\n",
    "    y1 = -0.013333*x1 + 126.6\n",
    "elif x1 >= 5000 and x1 < 10000:\n",
    "    y1 = 0.006*x1 + 90\n",
    "else:\n",
    "    y1 = 15/0.02*np.power((x1-10000),2)\n",
    "    \n",
    "#y2: power voltage score\n",
    "y2 = 0\n",
    "#x2: signal that are 50Hz (CN) / Total\n",
    "x2 = power_ratio\n",
    "\n",
    "\n",
    "if x2 < 0.01:\n",
    "    y2 = 1\n",
    "elif x2 >= 0.01 and x2 < 0.1:\n",
    "    y2 = 1 - 24.691*np.power((x2-0.01),2)\n",
    "elif x2 >= 0.1 and x2 < 5:\n",
    "    y2 = 0.8 - 0.00833*np.power((x2-0.1),2)\n",
    "elif x2 >= 5 and x2 < 10:\n",
    "    y2 = 0.9 - np.power(0.06,2)\n",
    "else:\n",
    "    y2 = 30 / np.power(x2,2)\n",
    "    \n",
    "    \n",
    "#y3: alpha score\n",
    "y3 = 0\n",
    "#x3: alpha wave / Total\n",
    "x3 = delta_ratio\n",
    "\n",
    "if x3 < 0.35:\n",
    "#   y3 = 2.8 * np.power(x3,2)\n",
    "    y3 = 4.375 * np.power(x3,2)\n",
    "else:\n",
    "#   y3 = 1.2 * np.power(x3,2) + 2.4*x3 - 0.2\n",
    "    y3 = 0.376176*np.power(x3,2) + 0.623824\n",
    "\n",
    "print('x1: ' + str(x1))\n",
    "print('x2: ' + str(x2))\n",
    "print('x3: ' + str(x3))\n",
    "\n",
    "print('y1: ' + str(y1))\n",
    "print('y2: ' + str(y2))\n",
    "print('y3: ' + str(y3))\n",
    "\n",
    "print((y1*y2)*y3)"
   ]
  },
  {
   "cell_type": "code",
   "execution_count": null,
   "metadata": {},
   "outputs": [],
   "source": []
  },
  {
   "cell_type": "code",
   "execution_count": null,
   "metadata": {},
   "outputs": [],
   "source": []
  }
 ],
 "metadata": {
  "kernelspec": {
   "display_name": "Python 3 (ipykernel)",
   "language": "python",
   "name": "python3"
  },
  "language_info": {
   "codemirror_mode": {
    "name": "ipython",
    "version": 3
   },
   "file_extension": ".py",
   "mimetype": "text/x-python",
   "name": "python",
   "nbconvert_exporter": "python",
   "pygments_lexer": "ipython3",
   "version": "3.9.5"
  }
 },
 "nbformat": 4,
 "nbformat_minor": 4
}
