{
 "cells": [
  {
   "cell_type": "code",
   "execution_count": 72,
   "metadata": {},
   "outputs": [],
   "source": [
    "import pyedflib\n",
    "import numpy as np\n",
    "import xmltodict\n",
    "import json\n",
    "import mne\n",
    "import matplotlib\n",
    "import math\n",
    "import pathlib\n",
    "from mne_extras import write_mne_edf"
   ]
  },
  {
   "cell_type": "code",
   "execution_count": 73,
   "metadata": {},
   "outputs": [],
   "source": [
    "matplotlib.use('Qt5Agg')"
   ]
  },
  {
   "cell_type": "code",
   "execution_count": 74,
   "metadata": {},
   "outputs": [],
   "source": [
    "#setting up paths for inputs and outputs\n",
    "file_name = '2021-07-09_153143_RawData'\n",
    "\n",
    "input_path = './input_txt/mzk_20210629/'\n",
    "output_path_edf = './output_edf/'\n",
    "output_path_fif = './output_fif/'\n",
    "\n",
    "ch_one = file_name + '_Ch1.txt'\n",
    "ch_two = file_name + '_Ch2.txt'\n",
    "# ch_one = '2021-07-09_094849_Filter_Data' + '_Ch1.txt'\n",
    "# ch_two = '2021-07-09_094849_Filter_Data' + '_Ch2.txt'\n",
    "\n",
    "ch_three = file_name + '_Ch3.txt'\n",
    "ch_four = file_name + '_Ch4.txt'\n",
    "\n",
    "xml = '2021-07-09_153143.xml'\n",
    "\n",
    "out_file_name = '2021-07-09_153143_pdk'\n",
    "out_name_edf = out_file_name + '.edf'\n",
    "out_name_fif = out_file_name + '.fif'\n",
    "out_name_final = 'final_' + out_file_name + '.edf'\n",
    "\n",
    "ch_one_path = input_path + ch_one\n",
    "ch_two_path = input_path + ch_two\n",
    "ch_three_path = input_path + ch_three\n",
    "ch_four_path = input_path + ch_four\n",
    "xml_path = input_path + xml\n",
    "out_file_path_edf = output_path_edf + out_name_edf\n",
    "out_file_path_fif = output_path_fif + out_name_fif\n",
    "out_final_edf = output_path_edf + out_name_final"
   ]
  },
  {
   "cell_type": "code",
   "execution_count": 75,
   "metadata": {},
   "outputs": [],
   "source": [
    "#read from .txt and convert data into numpy array\n",
    "#each dataset is composed of two channels (.txt) and one information doc (.xml)\n",
    "raw_one = np.loadtxt(ch_one_path)\n",
    "raw_two = np.loadtxt(ch_two_path)\n",
    "raw_three = np.loadtxt(ch_three_path)\n",
    "raw_four = np.loadtxt(ch_four_path)\n",
    "signal = [np.array(raw_one, dtype=np.float32), np.array(raw_two, dtype=np.float32), np.array(raw_three, dtype=np.float32), np.array(raw_four, dtype=np.float32)]"
   ]
  },
  {
   "cell_type": "code",
   "execution_count": 76,
   "metadata": {},
   "outputs": [],
   "source": [
    "#read .xml doc and extract needed info\n",
    "fileptr = open(xml_path, \"r\")\n",
    "\n",
    "xml_content = fileptr.read()\n",
    "\n",
    "my_ordered_dict = xmltodict.parse(xml_content)\n",
    "dict = json.loads(json.dumps(my_ordered_dict))\n",
    "\n",
    "sample_rate = eval(dict['RECORD_INFO']['Record']['SamplesFreq'])"
   ]
  },
  {
   "cell_type": "code",
   "execution_count": 77,
   "metadata": {},
   "outputs": [
    {
     "name": "stdout",
     "output_type": "stream",
     "text": [
      "./output_edf/2021-07-09_153143_pdk.edf\n",
      "True\n"
     ]
    }
   ],
   "source": [
    "#setting up info needed for .edf generation and write .edf file\n",
    "headers = [{'label':'ch1', \n",
    "            'dimension': 'uV',\n",
    "            'sample_rate': sample_rate,\n",
    "            'physical_max': 5000,\n",
    "            \"physical_min\": -5000,\n",
    "            'digital_max': 5000,\n",
    "            'digital_min': -5000,\n",
    "            'transducer': 'None',\n",
    "            'prefilter': 'None'},\n",
    "            {'label':'ch2', \n",
    "            'dimension': 'uV',\n",
    "            'sample_rate': sample_rate,\n",
    "            'physical_max': 5000,\n",
    "            \"physical_min\": -5000,\n",
    "            'digital_max': 5000,\n",
    "            'digital_min': -5000,\n",
    "            'transducer': 'None',\n",
    "            'prefilter': 'None'},\n",
    "          {'label':'ch3', \n",
    "            'dimension': 'uV',\n",
    "            'sample_rate': sample_rate,\n",
    "            'physical_max': 5000,\n",
    "            \"physical_min\": -5000,\n",
    "            'digital_max': 5000,\n",
    "            'digital_min': -5000,\n",
    "            'transducer': 'None',\n",
    "            'prefilter': 'None'},\n",
    "          {'label':'ch4', \n",
    "            'dimension': 'uV',\n",
    "            'sample_rate': sample_rate,\n",
    "            'physical_max': 5000,\n",
    "            \"physical_min\": -5000,\n",
    "            'digital_max': 5000,\n",
    "            'digital_min': -5000,\n",
    "            'transducer': 'None',\n",
    "            'prefilter': 'None'}]\n",
    "with open(out_file_path_edf, 'w') as output:\n",
    "    print(out_file_path_edf)\n",
    "    flag = pyedflib.highlevel.write_edf(output.name, signal, headers, header=None, digital=False, file_type=-1, block_size=1)\n",
    "    print(flag)"
   ]
  },
  {
   "cell_type": "code",
   "execution_count": 78,
   "metadata": {},
   "outputs": [
    {
     "name": "stdout",
     "output_type": "stream",
     "text": [
      "Extracting EDF parameters from C:\\Users\\admin\\Desktop\\work\\my_evaluator\\output_edf\\2021-07-09_153143_pdk.edf...\n",
      "EDF file detected\n",
      "Setting channel info structure...\n",
      "Creating raw.info structure...\n"
     ]
    }
   ],
   "source": [
    "#read the newly created .edf using mne\n",
    "raw=mne.io.read_raw_edf(out_file_path_edf,preload=False)"
   ]
  },
  {
   "cell_type": "code",
   "execution_count": 79,
   "metadata": {},
   "outputs": [
    {
     "data": {
      "text/html": [
       "\n",
       "\n",
       "<table class=\"table table-hover\">\n",
       "    <tr>\n",
       "        <th>Measurement date</th>\n",
       "        <td>July 09, 2021  16:21:45 GMT</td>\n",
       "        \n",
       "    </tr>\n",
       "    <tr>\n",
       "        <th>Experimenter</th>\n",
       "<td>Unknown</td>\n",
       "    </tr>\n",
       "        <th>Participant</th>\n",
       "<td>Unknown</td>\n",
       "    </tr>\n",
       "    <tr>\n",
       "        <th>Digitized points</th>\n",
       "        <td>Not available</td>\n",
       "    </tr>\n",
       "    <tr>\n",
       "        <th>Good channels</th>\n",
       "        <td>0 magnetometer, 0 gradiometer,\n",
       "            and 4 EEG channels</td>\n",
       "    </tr>\n",
       "    <tr>\n",
       "        <th>Bad channels</th>\n",
       "        <td></td>\n",
       "        \n",
       "    </tr>\n",
       "    <tr>\n",
       "        <th>EOG channels</th>\n",
       "        <td>Not available</td>\n",
       "    </tr>\n",
       "    <tr>\n",
       "        <th>ECG channels</th>\n",
       "        <td>Not available</td>\n",
       "    <tr>\n",
       "        <th>Sampling frequency</th>\n",
       "        <td>1024.00 Hz</td>\n",
       "    </tr>\n",
       "    <tr>\n",
       "        <th>Highpass</th>\n",
       "        <td>0.00 Hz</td>\n",
       "    </tr>\n",
       "     <tr>\n",
       "        <th>Lowpass</th>\n",
       "        <td>512.00 Hz</td>\n",
       "    </tr>\n",
       "\n",
       "    <tr>\n",
       "        <th>Filenames</th>\n",
       "        <td>2021-07-09_153143_pdk.edf</td>\n",
       "    </tr>\n",
       "    <tr>\n",
       "        <th>Duration</th>\n",
       "        <td>00:01:26 (HH:MM:SS)</td>\n",
       "    </tr>\n",
       "</table>\n"
      ],
      "text/plain": [
       "<RawEDF | 2021-07-09_153143_pdk.edf, 4 x 89088 (87.0 s), ~9 kB, data not loaded>"
      ]
     },
     "execution_count": 79,
     "metadata": {},
     "output_type": "execute_result"
    }
   ],
   "source": [
    "raw"
   ]
  },
  {
   "cell_type": "code",
   "execution_count": 80,
   "metadata": {},
   "outputs": [
    {
     "data": {
      "text/plain": [
       "<MNEBrowseFigure size 1919x786 with 4 Axes>"
      ]
     },
     "execution_count": 80,
     "metadata": {},
     "output_type": "execute_result"
    },
    {
     "name": "stdout",
     "output_type": "stream",
     "text": [
      "Channels marked as bad: none\n"
     ]
    }
   ],
   "source": [
    "raw.plot()"
   ]
  },
  {
   "cell_type": "code",
   "execution_count": 81,
   "metadata": {},
   "outputs": [],
   "source": [
    "#create events using mne\n",
    "#events are equally spaced out for epoch division\n",
    "new_events = mne.make_fixed_length_events(raw, duration=2.)\n",
    "event_dict = {'divide':1}"
   ]
  },
  {
   "cell_type": "code",
   "execution_count": 83,
   "metadata": {},
   "outputs": [
    {
     "name": "stdout",
     "output_type": "stream",
     "text": [
      "Reading 0 ... 89087  =      0.000 ...    86.999 secs...\n",
      "Filtering raw data in 1 contiguous segment\n",
      "Setting up band-pass filter from 0.5 - 30 Hz\n",
      "\n",
      "FIR filter parameters\n",
      "---------------------\n",
      "Designing a one-pass, zero-phase, non-causal bandpass filter:\n",
      "- Windowed time-domain design (firwin) method\n",
      "- Hamming window with 0.0194 passband ripple and 53 dB stopband attenuation\n",
      "- Lower passband edge: 0.50\n",
      "- Lower transition bandwidth: 0.50 Hz (-6 dB cutoff frequency: 0.25 Hz)\n",
      "- Upper passband edge: 30.00 Hz\n",
      "- Upper transition bandwidth: 7.50 Hz (-6 dB cutoff frequency: 33.75 Hz)\n",
      "- Filter length: 6759 samples (6.601 sec)\n",
      "\n"
     ]
    },
    {
     "data": {
      "text/html": [
       "\n",
       "\n",
       "<table class=\"table table-hover\">\n",
       "    <tr>\n",
       "        <th>Measurement date</th>\n",
       "        <td>July 09, 2021  16:21:45 GMT</td>\n",
       "        \n",
       "    </tr>\n",
       "    <tr>\n",
       "        <th>Experimenter</th>\n",
       "<td>Unknown</td>\n",
       "    </tr>\n",
       "        <th>Participant</th>\n",
       "<td>Unknown</td>\n",
       "    </tr>\n",
       "    <tr>\n",
       "        <th>Digitized points</th>\n",
       "        <td>Not available</td>\n",
       "    </tr>\n",
       "    <tr>\n",
       "        <th>Good channels</th>\n",
       "        <td>0 magnetometer, 0 gradiometer,\n",
       "            and 4 EEG channels</td>\n",
       "    </tr>\n",
       "    <tr>\n",
       "        <th>Bad channels</th>\n",
       "        <td></td>\n",
       "        \n",
       "    </tr>\n",
       "    <tr>\n",
       "        <th>EOG channels</th>\n",
       "        <td>Not available</td>\n",
       "    </tr>\n",
       "    <tr>\n",
       "        <th>ECG channels</th>\n",
       "        <td>Not available</td>\n",
       "    <tr>\n",
       "        <th>Sampling frequency</th>\n",
       "        <td>1024.00 Hz</td>\n",
       "    </tr>\n",
       "    <tr>\n",
       "        <th>Highpass</th>\n",
       "        <td>0.50 Hz</td>\n",
       "    </tr>\n",
       "     <tr>\n",
       "        <th>Lowpass</th>\n",
       "        <td>30.00 Hz</td>\n",
       "    </tr>\n",
       "\n",
       "    <tr>\n",
       "        <th>Filenames</th>\n",
       "        <td>2021-07-09_153143_pdk.edf</td>\n",
       "    </tr>\n",
       "    <tr>\n",
       "        <th>Duration</th>\n",
       "        <td>00:01:26 (HH:MM:SS)</td>\n",
       "    </tr>\n",
       "</table>\n"
      ],
      "text/plain": [
       "<RawEDF | 2021-07-09_153143_pdk.edf, 4 x 89088 (87.0 s), ~2.7 MB, data loaded>"
      ]
     },
     "execution_count": 83,
     "metadata": {},
     "output_type": "execute_result"
    }
   ],
   "source": [
    "#filter using frequency\n",
    "#best: do after the rejection, but will reject 89% of data\n",
    "raw.load_data()\n",
    "raw.filter(l_freq=0.5, h_freq=30)"
   ]
  },
  {
   "cell_type": "code",
   "execution_count": 85,
   "metadata": {},
   "outputs": [
    {
     "name": "stdout",
     "output_type": "stream",
     "text": [
      "Not setting metadata\n",
      "Not setting metadata\n",
      "43 matching events found\n",
      "Setting baseline interval to [-0.2001953125, 0.0] sec\n",
      "Applying baseline correction (mode: mean)\n",
      "0 projection items activated\n",
      "Loading data for 43 events and 718 original time points ...\n",
      "1 bad epochs dropped\n"
     ]
    }
   ],
   "source": [
    "#reject using values of amplitude\n",
    "#best: do before the filter, but will reject 89% of data\n",
    "del (dict)\n",
    "reject_criteria = dict(eeg=400e-6)       # 400 µV\n",
    "\n",
    "flat_criteria = dict(eeg=1e-6)           # 1 µV\n",
    "\n",
    "epochs = mne.Epochs(raw,new_events, reject=reject_criteria, flat=flat_criteria,\n",
    "                    reject_by_annotation=False, preload=True)"
   ]
  },
  {
   "cell_type": "code",
   "execution_count": 82,
   "metadata": {},
   "outputs": [
    {
     "name": "stdout",
     "output_type": "stream",
     "text": [
      "Not setting metadata\n",
      "Not setting metadata\n",
      "43 matching events found\n",
      "Setting baseline interval to [-0.2001953125, 0.0] sec\n",
      "Applying baseline correction (mode: mean)\n",
      "0 projection items activated\n",
      "Loading data for 43 events and 718 original time points ...\n",
      "1 bad epochs dropped\n"
     ]
    }
   ],
   "source": [
    "epochs_2 = mne.Epochs(raw,new_events, reject_by_annotation=False, preload=True)"
   ]
  },
  {
   "cell_type": "code",
   "execution_count": 54,
   "metadata": {},
   "outputs": [
    {
     "data": {
      "text/plain": [
       "<Figure size 640x480 with 1 Axes>"
      ]
     },
     "execution_count": 54,
     "metadata": {},
     "output_type": "execute_result"
    }
   ],
   "source": [
    "epochs.plot_drop_log()"
   ]
  },
  {
   "cell_type": "code",
   "execution_count": 55,
   "metadata": {},
   "outputs": [],
   "source": [
    "# epochs.load_data()\n",
    "# epochs.filter(l_freq=0.5, h_freq=30)"
   ]
  },
  {
   "cell_type": "code",
   "execution_count": 56,
   "metadata": {},
   "outputs": [
    {
     "name": "stdout",
     "output_type": "stream",
     "text": [
      "    Using multitaper spectrum estimation with 7 DPSS windows\n"
     ]
    },
    {
     "data": {
      "text/plain": [
       "<MNELineFigure size 1000x350 with 1 Axes>"
      ]
     },
     "execution_count": 56,
     "metadata": {},
     "output_type": "execute_result"
    }
   ],
   "source": [
    "epochs.plot_psd(average=True)"
   ]
  },
  {
   "cell_type": "code",
   "execution_count": 86,
   "metadata": {},
   "outputs": [
    {
     "data": {
      "text/plain": [
       "<MNEBrowseFigure size 1919x786 with 4 Axes>"
      ]
     },
     "execution_count": 86,
     "metadata": {},
     "output_type": "execute_result"
    },
    {
     "name": "stdout",
     "output_type": "stream",
     "text": [
      "Dropped 0 epochs: \n",
      "Channels marked as bad: none\n",
      "Dropped 0 epochs: \n",
      "Channels marked as bad: none\n"
     ]
    }
   ],
   "source": [
    "epochs.plot()\n",
    "epochs_2.plot()"
   ]
  },
  {
   "cell_type": "code",
   "execution_count": 58,
   "metadata": {},
   "outputs": [
    {
     "name": "stdout",
     "output_type": "stream",
     "text": [
      "Including 0 SSP projectors from raw file\n",
      "Running EOG SSP computation\n",
      "Using EOG channel: ch1\n",
      "EOG channel index for this subject is: [0]\n",
      "Filtering the data to remove DC offset to help distinguish blinks from saccades\n",
      "Setting up band-pass filter from 1 - 10 Hz\n",
      "\n",
      "FIR filter parameters\n",
      "---------------------\n",
      "Designing a two-pass forward and reverse, zero-phase, non-causal bandpass filter:\n",
      "- Windowed frequency-domain design (firwin2) method\n",
      "- Hann window\n",
      "- Lower passband edge: 1.00\n",
      "- Lower transition bandwidth: 0.50 Hz (-12 dB cutoff frequency: 0.75 Hz)\n",
      "- Upper passband edge: 10.00 Hz\n",
      "- Upper transition bandwidth: 0.50 Hz (-12 dB cutoff frequency: 10.25 Hz)\n",
      "- Filter length: 10240 samples (10.000 sec)\n",
      "\n",
      "Now detecting blinks and generating corresponding events\n",
      "Found 6 significant peaks\n",
      "Number of EOG events detected: 6\n",
      "Computing projector\n",
      "Filtering raw data in 1 contiguous segment\n",
      "Setting up band-pass filter from 1 - 35 Hz\n",
      "\n",
      "FIR filter parameters\n",
      "---------------------\n",
      "Designing a two-pass forward and reverse, zero-phase, non-causal bandpass filter:\n",
      "- Windowed frequency-domain design (firwin2) method\n",
      "- Hamming window\n",
      "- Lower passband edge: 1.00\n",
      "- Lower transition bandwidth: 0.50 Hz (-12 dB cutoff frequency: 0.75 Hz)\n",
      "- Upper passband edge: 35.00 Hz\n",
      "- Upper transition bandwidth: 0.50 Hz (-12 dB cutoff frequency: 35.25 Hz)\n",
      "- Filter length: 10240 samples (10.000 sec)\n",
      "\n",
      "Not setting metadata\n",
      "Not setting metadata\n",
      "6 matching events found\n",
      "No baseline correction applied\n",
      "0 projection items activated\n",
      "Loading data for 6 events and 411 original time points ...\n",
      "0 bad epochs dropped\n",
      "Adding projection: eeg--0.200-0.200-PCA-01\n",
      "Done.\n"
     ]
    }
   ],
   "source": [
    "#https://mne.tools/stable/auto_tutorials/preprocessing/50_artifact_correction_ssp.html#tut-artifact-ssp\n",
    "\n",
    "#cannot do ecg filter because we dont have any ecg channel or meg channel\n",
    "#ecg_projs, ecg_events = mne.preprocessing.compute_proj_ecg(raw, n_grad=0, n_mag=0, n_eeg=4, ch_name='ch1', reject = None)\n",
    "eog_projs, eog_events = mne.preprocessing.compute_proj_eog(raw, n_grad=0, n_mag=0, n_eeg=1, ch_name='ch1', reject = None)"
   ]
  },
  {
   "cell_type": "code",
   "execution_count": 59,
   "metadata": {},
   "outputs": [],
   "source": [
    "projs = eog_projs\n",
    "#projs = eog_projs + ecg_projs"
   ]
  },
  {
   "cell_type": "code",
   "execution_count": 60,
   "metadata": {},
   "outputs": [
    {
     "name": "stdout",
     "output_type": "stream",
     "text": [
      "1 projection items deactivated\n"
     ]
    },
    {
     "data": {
      "text/html": [
       "\n",
       "<table class=\"table table-hover\">\n",
       "    <tr>\n",
       "        <th>Number of events</th>\n",
       "        <td>42</td>\n",
       "    </tr>\n",
       "    <tr>\n",
       "        <th>Events</th>\n",
       "        <td>1: 42<br></td>\n",
       "    </tr>\n",
       "    <tr>\n",
       "        <th>Time range</th>\n",
       "        <td>-0.200 – 0.500 sec</td>\n",
       "    </tr>\n",
       "    <tr>\n",
       "        <th>Baseline</th>\n",
       "        <td>-0.200 – 0.000 sec</td>\n",
       "    </tr>\n",
       "</table>\n"
      ],
      "text/plain": [
       "<Epochs |  42 events (all good), -0.200195 - 0.5 sec, baseline -0.200195 – 0 sec, ~953 kB, data loaded,\n",
       " '1': 42>"
      ]
     },
     "execution_count": 60,
     "metadata": {},
     "output_type": "execute_result"
    }
   ],
   "source": [
    "epochs.add_proj(projs)"
   ]
  },
  {
   "cell_type": "code",
   "execution_count": 61,
   "metadata": {},
   "outputs": [
    {
     "name": "stdout",
     "output_type": "stream",
     "text": [
      "Created an SSP operator (subspace dimension = 1)\n",
      "1 projection items activated\n",
      "SSP projectors applied...\n"
     ]
    }
   ],
   "source": [
    "#apply eog filter\n",
    "epochs_cleaned = epochs.copy().apply_proj()"
   ]
  },
  {
   "cell_type": "code",
   "execution_count": 62,
   "metadata": {},
   "outputs": [
    {
     "data": {
      "text/plain": [
       "<MNEBrowseFigure size 1919x786 with 4 Axes>"
      ]
     },
     "execution_count": 62,
     "metadata": {},
     "output_type": "execute_result"
    },
    {
     "name": "stdout",
     "output_type": "stream",
     "text": [
      "Dropped 0 epochs: \n",
      "Channels marked as bad: none\n",
      "Dropped 0 epochs: \n",
      "Channels marked as bad: none\n"
     ]
    }
   ],
   "source": [
    "epochs[0:100].plot()\n",
    "epochs_cleaned[0:100].plot()"
   ]
  },
  {
   "cell_type": "code",
   "execution_count": 63,
   "metadata": {},
   "outputs": [
    {
     "name": "stderr",
     "output_type": "stream",
     "text": [
      "C:\\Users\\admin\\AppData\\Local\\Temp/ipykernel_1192/2457816835.py:2: RuntimeWarning: This filename (./output_fif/2021-07-09_153143_pdk.fif) does not conform to MNE naming conventions. All epochs files should end with -epo.fif, -epo.fif.gz, _epo.fif or _epo.fif.gz\n",
      "  epochs.save(out_file_path_fif, overwrite=True)\n"
     ]
    }
   ],
   "source": [
    "#save as .fif format\n",
    "epochs.save(out_file_path_fif, overwrite=True)"
   ]
  },
  {
   "cell_type": "code",
   "execution_count": 64,
   "metadata": {},
   "outputs": [],
   "source": [
    "#convert to data frame format in order to save as .edf\n",
    "df = epochs.to_data_frame()"
   ]
  },
  {
   "cell_type": "code",
   "execution_count": 65,
   "metadata": {},
   "outputs": [
    {
     "name": "stdout",
     "output_type": "stream",
     "text": [
      "./output_edf/final_2021-07-09_153143_pdk.edf\n",
      "True\n"
     ]
    }
   ],
   "source": [
    "#save as .edf\n",
    "out_raw_one = df['ch1']\n",
    "out_raw_two = df['ch2']\n",
    "out_raw_three = df['ch3']\n",
    "out_raw_four = df['ch4']\n",
    "out_signal = [np.array(out_raw_one), np.array(out_raw_two), np.array(out_raw_three), np.array(out_raw_four)]\n",
    "\n",
    "with open(out_final_edf, 'w') as output:\n",
    "    print(out_final_edf)\n",
    "    flag = pyedflib.highlevel.write_edf(output.name, out_signal, headers, header=None, digital=False, file_type=-1, block_size=1)\n",
    "    print(flag)"
   ]
  },
  {
   "cell_type": "code",
   "execution_count": 66,
   "metadata": {},
   "outputs": [
    {
     "name": "stdout",
     "output_type": "stream",
     "text": [
      "variance: 111.2396402521527\n"
     ]
    }
   ],
   "source": [
    "variance = np.var(out_signal)\n",
    "print('variance:', variance)\n"
   ]
  },
  {
   "cell_type": "code",
   "execution_count": 33,
   "metadata": {},
   "outputs": [
    {
     "name": "stdout",
     "output_type": "stream",
     "text": [
      "    Using multitaper spectrum estimation with 7 DPSS windows\n"
     ]
    },
    {
     "data": {
      "text/plain": [
       "<MNELineFigure size 1000x350 with 1 Axes>"
      ]
     },
     "execution_count": 33,
     "metadata": {},
     "output_type": "execute_result"
    }
   ],
   "source": [
    "epochs.plot_psd(average=True)"
   ]
  },
  {
   "cell_type": "code",
   "execution_count": 38,
   "metadata": {},
   "outputs": [
    {
     "name": "stdout",
     "output_type": "stream",
     "text": [
      "    Using multitaper spectrum estimation with 7 DPSS windows\n",
      "6.814641184452082e-06\n",
      "    Using multitaper spectrum estimation with 7 DPSS windows\n",
      "1.27751002339199e-08\n",
      "0.0018746548626898919\n",
      "[45.63788301 47.06406685 48.4902507  49.91643454 51.34261838 52.76880223\n",
      " 54.19498607]\n"
     ]
    }
   ],
   "source": [
    "psds_total, frqs_total = mne.time_frequency.psd_multitaper(epochs, fmin=0.5, fmax=55, tmin=None, tmax=None)\n",
    "total_sum_pds = np.sum(psds_total)\n",
    "print(total_sum_pds)\n",
    "psds_part, frqs_part = mne.time_frequency.psd_multitaper(epochs, fmin=45, fmax=55, tmin=None, tmax=None)\n",
    "part_sum_pds = np.sum(psds_part)\n",
    "print(part_sum_pds)\n",
    "ratio = (part_sum_pds) / (total_sum_pds)\n",
    "print(ratio)\n",
    "print(frqs_part)"
   ]
  },
  {
   "cell_type": "code",
   "execution_count": 25,
   "metadata": {},
   "outputs": [],
   "source": [
    "# psds_total, frqs_total = mne.time_frequency.psd_welch(epochs, fmin=0.1, fmax=100, tmin=None, tmax=None, n_fft = 718)\n",
    "# total_sum_pds = np.sum(psds_total)\n",
    "# print(total_sum_pds)\n",
    "# psds_part, frqs_part = mne.time_frequency.psd_welch(epochs, fmin=45, fmax=55, tmin=None, tmax=None, n_fft = 718)\n",
    "# part_sum_pds = np.sum(psds_part)\n",
    "# print(part_sum_pds)\n",
    "# ratio = (part_sum_pds) / (total_sum_pds)\n",
    "# print(ratio)\n",
    "# print(frqs_part)"
   ]
  },
  {
   "cell_type": "code",
   "execution_count": 26,
   "metadata": {},
   "outputs": [
    {
     "name": "stdout",
     "output_type": "stream",
     "text": [
      "    Using multitaper spectrum estimation with 7 DPSS windows\n",
      "6.814641184452082e-06\n",
      "    Using multitaper spectrum estimation with 7 DPSS windows\n",
      "1.4453916877085646e-06\n",
      "0.21210092337749087\n",
      "[2.85236769 4.27855153]\n"
     ]
    }
   ],
   "source": [
    "#delta=(2, 4), theta=(5, 7), alpha=(8, 12), beta=(15, 29), gamma=(30, 45))\n",
    "\n",
    "psds_total, frqs_total = mne.time_frequency.psd_multitaper(epochs, fmin=0.5, fmax=55, tmin=None, tmax=None)\n",
    "total_sum_pds = np.sum(psds_total)\n",
    "print(total_sum_pds)\n",
    "psds_part, frqs_part = mne.time_frequency.psd_multitaper(epochs, fmin=1.5, fmax=4.5, tmin=None, tmax=None)\n",
    "part_sum_pds = np.sum(psds_part)\n",
    "print(part_sum_pds)\n",
    "ratio = (part_sum_pds) / (total_sum_pds)\n",
    "print(ratio)\n",
    "print(frqs_part)"
   ]
  },
  {
   "cell_type": "code",
   "execution_count": 29,
   "metadata": {},
   "outputs": [
    {
     "name": "stdout",
     "output_type": "stream",
     "text": [
      "    Using multitaper spectrum estimation with 7 DPSS windows\n",
      "6.814641184452082e-06\n",
      "    Using multitaper spectrum estimation with 7 DPSS windows\n",
      "9.892033979325932e-07\n",
      "0.1451585448386492\n",
      "[5.70473538 7.13091922]\n"
     ]
    }
   ],
   "source": [
    "#delta=(2, 4), theta=(5, 7), alpha=(8, 12), beta=(15, 29), gamma=(30, 45))\n",
    "\n",
    "psds_total, frqs_total = mne.time_frequency.psd_multitaper(epochs, fmin=0.5, fmax=55, tmin=None, tmax=None)\n",
    "total_sum_pds = np.sum(psds_total)\n",
    "print(total_sum_pds)\n",
    "psds_part, frqs_part = mne.time_frequency.psd_multitaper(epochs, fmin=4.5, fmax=7.5, tmin=None, tmax=None)\n",
    "part_sum_pds = np.sum(psds_part)\n",
    "print(part_sum_pds)\n",
    "ratio = (part_sum_pds) / (total_sum_pds)\n",
    "print(ratio)\n",
    "print(frqs_part)"
   ]
  },
  {
   "cell_type": "code",
   "execution_count": 30,
   "metadata": {},
   "outputs": [
    {
     "name": "stdout",
     "output_type": "stream",
     "text": [
      "    Using multitaper spectrum estimation with 7 DPSS windows\n",
      "6.814641184452082e-06\n",
      "    Using multitaper spectrum estimation with 7 DPSS windows\n",
      "8.66655441540101e-07\n",
      "0.1271755061025686\n",
      "[ 8.55710306  9.98328691 11.40947075]\n"
     ]
    }
   ],
   "source": [
    "#delta=(2, 4), theta=(5, 7), alpha=(8, 12), beta=(15, 29), gamma=(30, 45))\n",
    "\n",
    "psds_total, frqs_total = mne.time_frequency.psd_multitaper(epochs, fmin=0.5, fmax=55, tmin=None, tmax=None)\n",
    "total_sum_pds = np.sum(psds_total)\n",
    "print(total_sum_pds)\n",
    "psds_part, frqs_part = mne.time_frequency.psd_multitaper(epochs, fmin=7.5, fmax=12.5, tmin=None, tmax=None)\n",
    "part_sum_pds = np.sum(psds_part)\n",
    "print(part_sum_pds)\n",
    "ratio = (part_sum_pds) / (total_sum_pds)\n",
    "print(ratio)\n",
    "print(frqs_part)"
   ]
  },
  {
   "cell_type": "code",
   "execution_count": 31,
   "metadata": {},
   "outputs": [
    {
     "name": "stdout",
     "output_type": "stream",
     "text": [
      "    Using multitaper spectrum estimation with 7 DPSS windows\n",
      "6.814641184452082e-06\n",
      "    Using multitaper spectrum estimation with 7 DPSS windows\n",
      "1.7859744066006019e-06\n",
      "0.26207900874889567\n",
      "[15.68802228 17.11420613 18.54038997 19.96657382 21.39275766 22.8189415\n",
      " 24.24512535 25.67130919 27.09749304 28.52367688]\n"
     ]
    }
   ],
   "source": [
    "#delta=(2, 4), theta=(5, 7), alpha=(8, 12), beta=(15, 29), gamma=(30, 45))\n",
    "\n",
    "psds_total, frqs_total = mne.time_frequency.psd_multitaper(epochs, fmin=0.5, fmax=55, tmin=None, tmax=None)\n",
    "total_sum_pds = np.sum(psds_total)\n",
    "print(total_sum_pds)\n",
    "psds_part, frqs_part = mne.time_frequency.psd_multitaper(epochs, fmin=14.5, fmax=29.5, tmin=None, tmax=None)\n",
    "part_sum_pds = np.sum(psds_part)\n",
    "print(part_sum_pds)\n",
    "ratio = (part_sum_pds) / (total_sum_pds)\n",
    "print(ratio)\n",
    "print(frqs_part)"
   ]
  },
  {
   "cell_type": "code",
   "execution_count": 32,
   "metadata": {},
   "outputs": [
    {
     "name": "stdout",
     "output_type": "stream",
     "text": [
      "    Using multitaper spectrum estimation with 7 DPSS windows\n",
      "6.814641184452082e-06\n",
      "    Using multitaper spectrum estimation with 7 DPSS windows\n",
      "3.592470067053462e-07\n",
      "0.05271693651677285\n",
      "[29.94986072 31.37604457 32.80222841 34.22841226 35.6545961  37.08077994\n",
      " 38.50696379 39.93314763 41.35933148 42.78551532 44.21169916]\n"
     ]
    }
   ],
   "source": [
    "#delta=(2, 4), theta=(5, 7), alpha=(8, 12), beta=(15, 29), gamma=(30, 45))\n",
    "\n",
    "psds_total, frqs_total = mne.time_frequency.psd_multitaper(epochs, fmin=0.5, fmax=55, tmin=None, tmax=None)\n",
    "total_sum_pds = np.sum(psds_total)\n",
    "print(total_sum_pds)\n",
    "psds_part, frqs_part = mne.time_frequency.psd_multitaper(epochs, fmin=29.5, fmax=45.5, tmin=None, tmax=None)\n",
    "part_sum_pds = np.sum(psds_part)\n",
    "print(part_sum_pds)\n",
    "ratio = (part_sum_pds) / (total_sum_pds)\n",
    "print(ratio)\n",
    "print(frqs_part)"
   ]
  },
  {
   "cell_type": "code",
   "execution_count": 34,
   "metadata": {},
   "outputs": [
    {
     "name": "stdout",
     "output_type": "stream",
     "text": [
      "0.0\n",
      "1\n",
      "0.0\n"
     ]
    }
   ],
   "source": [
    "#evaluate the signal\n",
    "\n",
    "#formula from paper\n",
    "\n",
    "#y1: variance score\n",
    "y1 = 0\n",
    "#x1: variance\n",
    "x1 = 0\n",
    "\n",
    "if x1 < 50:\n",
    "    y1 = 0.02*np.power(x1,2)\n",
    "elif x1 >= 50 and x1 < 100:\n",
    "    y1 = 0.6*x1 + 20\n",
    "elif x1 >= 100 and x1 < 2000:\n",
    "    y1 = 100\n",
    "elif x1 >= 2000 and x1 < 5000:\n",
    "    y1 = -0.013333*x1 + 126.6\n",
    "elif x1 >= 5000 and x1 < 10000:\n",
    "    y1 = 0.006*x1 + 90\n",
    "else:\n",
    "    y1 = 15/0.02*np.power((x1-10000),2)\n",
    "    \n",
    "#y2: power voltage score\n",
    "y2 = 0\n",
    "#x2: signal that are 50Hz (CN) / Total\n",
    "x2 = 0\n",
    "\n",
    "if x2 < 0.01:\n",
    "    y2 = 1\n",
    "elif x2 >= 0.01 and x2 < 0.1:\n",
    "    y2 = 1 - 24.691*np.power((x2-0.01),2)\n",
    "elif x2 >= 0.1 and x2 < 5:\n",
    "    y2 = 0.8 - 0.00833*np.power((x2-0.1),2)\n",
    "elif x2 >= 5 and x2 < 10:\n",
    "    y2 = 0.9 - np.power(0.06,2)\n",
    "else:\n",
    "    y2 = 30 / np.power(x2,2)\n",
    "    \n",
    "    \n",
    "#y3: alpha score\n",
    "y3 = 0\n",
    "#x3: alpha wave / Total\n",
    "x3 = 0\n",
    "\n",
    "if x3 < 0.5:\n",
    "    y3 = 2.8 * np.power(x3,2)\n",
    "else:\n",
    "    y3 = 1.2 * np.power(x3,2) + 2.4*x3 - 0.2\n",
    "    \n",
    "print(y1)\n",
    "print(y2)\n",
    "print(y3)\n",
    "\n"
   ]
  },
  {
   "cell_type": "code",
   "execution_count": 35,
   "metadata": {},
   "outputs": [
    {
     "name": "stdout",
     "output_type": "stream",
     "text": [
      "variance: 1473.0319026085767\n"
     ]
    }
   ],
   "source": []
  },
  {
   "cell_type": "code",
   "execution_count": null,
   "metadata": {},
   "outputs": [],
   "source": []
  }
 ],
 "metadata": {
  "kernelspec": {
   "display_name": "Python 3 (ipykernel)",
   "language": "python",
   "name": "python3"
  },
  "language_info": {
   "codemirror_mode": {
    "name": "ipython",
    "version": 3
   },
   "file_extension": ".py",
   "mimetype": "text/x-python",
   "name": "python",
   "nbconvert_exporter": "python",
   "pygments_lexer": "ipython3",
   "version": "3.9.5"
  }
 },
 "nbformat": 4,
 "nbformat_minor": 4
}
