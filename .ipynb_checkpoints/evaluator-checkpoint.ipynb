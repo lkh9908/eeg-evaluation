{
 "cells": [
  {
   "cell_type": "code",
   "execution_count": 1,
   "metadata": {},
   "outputs": [],
   "source": [
    "import pyedflib\n",
    "import numpy as np\n",
    "import xmltodict\n",
    "import json\n",
    "import mne\n",
    "import matplotlib\n",
    "import pathlib\n",
    "from mne_extras import write_edf"
   ]
  },
  {
   "cell_type": "code",
   "execution_count": 2,
   "metadata": {},
   "outputs": [],
   "source": [
    "matplotlib.use('Qt5Agg')"
   ]
  },
  {
   "cell_type": "code",
   "execution_count": 33,
   "metadata": {},
   "outputs": [],
   "source": [
    "#setting up paths for inputs and outputs\n",
    "input_path = './input_txt/mzk_20210629/'\n",
    "output_path_edf = './output_edf/'\n",
    "output_path_fif = './output_fif/'\n",
    "\n",
    "ch_one = '2021-06-29_082127_RawData_Ch1.txt'\n",
    "ch_two = '2021-06-29_082127_RawData_Ch2.txt'\n",
    "ch_three = '2021-06-29_082127_RawData_Ch1.txt'\n",
    "ch_four = '2021-06-29_082127_RawData_Ch2.txt'\n",
    "\n",
    "xml = '2021-06-29_082127.xml'\n",
    "out_name_edf = '2021-06-29_082127.edf'\n",
    "out_name_fif = '2021-06-29_082127.fif'\n",
    "out_name_final = 'final_2021-06-29_082127.edf'\n",
    "\n",
    "ch_one_path = input_path + ch_one\n",
    "ch_two_path = input_path + ch_two\n",
    "ch_three_path = input_path + ch_three\n",
    "ch_four_path = input_path + ch_four\n",
    "xml_path = input_path + xml\n",
    "out_file_path_edf = output_path_edf + out_name_edf\n",
    "out_file_path_fif = output_path_fif + out_name_fif\n",
    "out_final_edf = output_path_fif + out_name_final"
   ]
  },
  {
   "cell_type": "code",
   "execution_count": 4,
   "metadata": {},
   "outputs": [],
   "source": [
    "#read from .txt and convert data into numpy array\n",
    "#each dataset is composed of two channels (.txt) and one information doc (.xml)\n",
    "raw_one = []\n",
    "raw_two = []\n",
    "raw_three = []\n",
    "raw_four = []\n",
    "\n",
    "with open(ch_one_path) as f:\n",
    "    line = f.readline()\n",
    "    while line:\n",
    "        raw_one.append(float(line.strip()))\n",
    "        line = f.readline()\n",
    "f.close()\n",
    "\n",
    "with open(ch_two_path) as f:\n",
    "    line = f.readline()\n",
    "    while line:\n",
    "        raw_two.append(float(line.strip()))\n",
    "        line = f.readline()\n",
    "f.close()\n",
    "\n",
    "with open(ch_three_path) as f:\n",
    "    line = f.readline()\n",
    "    while line:\n",
    "        raw_three.append(float(line.strip()))\n",
    "        line = f.readline()\n",
    "f.close()\n",
    "\n",
    "with open(ch_four_path) as f:\n",
    "    line = f.readline()\n",
    "    while line:\n",
    "        raw_four.append(float(line.strip()))\n",
    "        line = f.readline()\n",
    "f.close()\n",
    "\n",
    "signal = [np.array(raw_one, dtype=np.float32), np.array(raw_two, dtype=np.float32), np.array(raw_three, dtype=np.float32), np.array(raw_four, dtype=np.float32)]\n",
    "\n"
   ]
  },
  {
   "cell_type": "code",
   "execution_count": 5,
   "metadata": {},
   "outputs": [],
   "source": [
    "#read .xml doc and extract needed info\n",
    "fileptr = open(xml_path, \"r\")\n",
    "\n",
    "xml_content = fileptr.read()\n",
    "\n",
    "my_ordered_dict = xmltodict.parse(xml_content)\n",
    "dict = json.loads(json.dumps(my_ordered_dict))\n",
    "\n",
    "sample_rate = eval(dict['RECORD_INFO']['Record']['SamplesFreq'])"
   ]
  },
  {
   "cell_type": "code",
   "execution_count": 6,
   "metadata": {},
   "outputs": [
    {
     "name": "stdout",
     "output_type": "stream",
     "text": [
      "./output_edf/2021-06-29_082127.edf\n",
      "True\n"
     ]
    }
   ],
   "source": [
    "#setting up info needed for .edf generation and write .edf file\n",
    "headers = [{'label':'ch1', \n",
    "            'dimension': 'uV',\n",
    "            'sample_rate': sample_rate,\n",
    "            'physical_max': 5000,\n",
    "            \"physical_min\": -5000,\n",
    "            'digital_max': 5000,\n",
    "            'digital_min': -5000,\n",
    "            'transducer': 'None',\n",
    "            'prefilter': 'None'},\n",
    "            {'label':'ch2', \n",
    "            'dimension': 'uV',\n",
    "            'sample_rate': sample_rate,\n",
    "            'physical_max': 5000,\n",
    "            \"physical_min\": -5000,\n",
    "            'digital_max': 5000,\n",
    "            'digital_min': -5000,\n",
    "            'transducer': 'None',\n",
    "            'prefilter': 'None'},\n",
    "          {'label':'ch3', \n",
    "            'dimension': 'uV',\n",
    "            'sample_rate': sample_rate,\n",
    "            'physical_max': 5000,\n",
    "            \"physical_min\": -5000,\n",
    "            'digital_max': 5000,\n",
    "            'digital_min': -5000,\n",
    "            'transducer': 'None',\n",
    "            'prefilter': 'None'},\n",
    "          {'label':'ch4', \n",
    "            'dimension': 'uV',\n",
    "            'sample_rate': sample_rate,\n",
    "            'physical_max': 5000,\n",
    "            \"physical_min\": -5000,\n",
    "            'digital_max': 5000,\n",
    "            'digital_min': -5000,\n",
    "            'transducer': 'None',\n",
    "            'prefilter': 'None'}]\n",
    "with open(out_file_path_edf, 'w') as output:\n",
    "    print(out_file_path_edf)\n",
    "    flag = pyedflib.highlevel.write_edf(output.name, signal, headers, header=None, digital=False, file_type=-1, block_size=1)\n",
    "    print(flag)"
   ]
  },
  {
   "cell_type": "code",
   "execution_count": 7,
   "metadata": {},
   "outputs": [
    {
     "name": "stdout",
     "output_type": "stream",
     "text": [
      "Extracting EDF parameters from C:\\Users\\admin\\Desktop\\work\\my_evaluator\\output_edf\\2021-06-29_082127.edf...\n",
      "EDF file detected\n",
      "Setting channel info structure...\n",
      "Creating raw.info structure...\n"
     ]
    }
   ],
   "source": [
    "#read the newly created .edf using mne\n",
    "raw=mne.io.read_raw_edf(out_file_path_edf,preload=False)"
   ]
  },
  {
   "cell_type": "code",
   "execution_count": 8,
   "metadata": {},
   "outputs": [
    {
     "data": {
      "text/html": [
       "\n",
       "\n",
       "<table class=\"table table-hover\">\n",
       "    <tr>\n",
       "        <th>Measurement date</th>\n",
       "        <td>July 07, 2021  15:36:10 GMT</td>\n",
       "        \n",
       "    </tr>\n",
       "    <tr>\n",
       "        <th>Experimenter</th>\n",
       "<td>Unknown</td>\n",
       "    </tr>\n",
       "        <th>Participant</th>\n",
       "<td>Unknown</td>\n",
       "    </tr>\n",
       "    <tr>\n",
       "        <th>Digitized points</th>\n",
       "        <td>Not available</td>\n",
       "    </tr>\n",
       "    <tr>\n",
       "        <th>Good channels</th>\n",
       "        <td>0 magnetometer, 0 gradiometer,\n",
       "            and 4 EEG channels</td>\n",
       "    </tr>\n",
       "    <tr>\n",
       "        <th>Bad channels</th>\n",
       "        <td></td>\n",
       "        \n",
       "    </tr>\n",
       "    <tr>\n",
       "        <th>EOG channels</th>\n",
       "        <td>Not available</td>\n",
       "    </tr>\n",
       "    <tr>\n",
       "        <th>ECG channels</th>\n",
       "        <td>Not available</td>\n",
       "    <tr>\n",
       "        <th>Sampling frequency</th>\n",
       "        <td>1024.00 Hz</td>\n",
       "    </tr>\n",
       "    <tr>\n",
       "        <th>Highpass</th>\n",
       "        <td>0.00 Hz</td>\n",
       "    </tr>\n",
       "     <tr>\n",
       "        <th>Lowpass</th>\n",
       "        <td>512.00 Hz</td>\n",
       "    </tr>\n",
       "\n",
       "    <tr>\n",
       "        <th>Filenames</th>\n",
       "        <td>2021-06-29_082127.edf</td>\n",
       "    </tr>\n",
       "    <tr>\n",
       "        <th>Duration</th>\n",
       "        <td>00:21:15 (HH:MM:SS)</td>\n",
       "    </tr>\n",
       "</table>\n"
      ],
      "text/plain": [
       "<RawEDF | 2021-06-29_082127.edf, 4 x 1306624 (1276.0 s), ~9 kB, data not loaded>"
      ]
     },
     "execution_count": 8,
     "metadata": {},
     "output_type": "execute_result"
    }
   ],
   "source": [
    "raw"
   ]
  },
  {
   "cell_type": "code",
   "execution_count": 20,
   "metadata": {},
   "outputs": [
    {
     "data": {
      "text/plain": [
       "<MNEBrowseFigure size 1919x786 with 4 Axes>"
      ]
     },
     "execution_count": 20,
     "metadata": {},
     "output_type": "execute_result"
    },
    {
     "name": "stdout",
     "output_type": "stream",
     "text": [
      "Channels marked as bad: none\n"
     ]
    }
   ],
   "source": [
    "raw.plot()"
   ]
  },
  {
   "cell_type": "code",
   "execution_count": 13,
   "metadata": {},
   "outputs": [],
   "source": [
    "#create events using mne\n",
    "#events are equally spaced out for epoch division\n",
    "new_events = mne.make_fixed_length_events(raw, duration=2.)\n",
    "event_dict = {'divide':1}"
   ]
  },
  {
   "cell_type": "code",
   "execution_count": 21,
   "metadata": {},
   "outputs": [
    {
     "name": "stdout",
     "output_type": "stream",
     "text": [
      "Not setting metadata\n",
      "Not setting metadata\n",
      "638 matching events found\n",
      "Setting baseline interval to [-0.2001953125, 0.0] sec\n",
      "Applying baseline correction (mode: mean)\n",
      "0 projection items activated\n",
      "Loading data for 638 events and 718 original time points ...\n",
      "    Rejecting  epoch based on EEG : ['ch1', 'ch2', 'ch3', 'ch4']\n",
      "    Rejecting  epoch based on EEG : ['ch1', 'ch2', 'ch3', 'ch4']\n",
      "    Rejecting  epoch based on EEG : ['ch1', 'ch2', 'ch3', 'ch4']\n",
      "    Rejecting  epoch based on EEG : ['ch1', 'ch2', 'ch3', 'ch4']\n",
      "    Rejecting  epoch based on EEG : ['ch1', 'ch2', 'ch3', 'ch4']\n",
      "    Rejecting  epoch based on EEG : ['ch1', 'ch2', 'ch3', 'ch4']\n",
      "    Rejecting  epoch based on EEG : ['ch1', 'ch2', 'ch3', 'ch4']\n",
      "    Rejecting  epoch based on EEG : ['ch1', 'ch2', 'ch3', 'ch4']\n",
      "    Rejecting  epoch based on EEG : ['ch1', 'ch2', 'ch3', 'ch4']\n",
      "    Rejecting  epoch based on EEG : ['ch1', 'ch2', 'ch3', 'ch4']\n",
      "    Rejecting  epoch based on EEG : ['ch1', 'ch2', 'ch3', 'ch4']\n",
      "    Rejecting  epoch based on EEG : ['ch1', 'ch2', 'ch3', 'ch4']\n",
      "    Rejecting  epoch based on EEG : ['ch1', 'ch2', 'ch3', 'ch4']\n",
      "    Rejecting  epoch based on EEG : ['ch1', 'ch2', 'ch3', 'ch4']\n",
      "    Rejecting  epoch based on EEG : ['ch1', 'ch2', 'ch3', 'ch4']\n",
      "    Rejecting  epoch based on EEG : ['ch1', 'ch2', 'ch3', 'ch4']\n",
      "    Rejecting  epoch based on EEG : ['ch1', 'ch2', 'ch3', 'ch4']\n",
      "    Rejecting  epoch based on EEG : ['ch1', 'ch2', 'ch3', 'ch4']\n",
      "    Rejecting  epoch based on EEG : ['ch1', 'ch2', 'ch3', 'ch4']\n",
      "    Rejecting  epoch based on EEG : ['ch1', 'ch2', 'ch3', 'ch4']\n",
      "    Rejecting  epoch based on EEG : ['ch1', 'ch2', 'ch3', 'ch4']\n",
      "    Rejecting  epoch based on EEG : ['ch1', 'ch2', 'ch3', 'ch4']\n",
      "    Rejecting  epoch based on EEG : ['ch1', 'ch2', 'ch3', 'ch4']\n",
      "    Rejecting  epoch based on EEG : ['ch1', 'ch2', 'ch3', 'ch4']\n",
      "    Rejecting  epoch based on EEG : ['ch1', 'ch2', 'ch3', 'ch4']\n",
      "    Rejecting  epoch based on EEG : ['ch1', 'ch2', 'ch3', 'ch4']\n",
      "    Rejecting  epoch based on EEG : ['ch1', 'ch2', 'ch3', 'ch4']\n",
      "    Rejecting  epoch based on EEG : ['ch1', 'ch2', 'ch3', 'ch4']\n",
      "    Rejecting  epoch based on EEG : ['ch1', 'ch2', 'ch3', 'ch4']\n",
      "    Rejecting  epoch based on EEG : ['ch1', 'ch2', 'ch3', 'ch4']\n",
      "    Rejecting  epoch based on EEG : ['ch1', 'ch2', 'ch3', 'ch4']\n",
      "    Rejecting  epoch based on EEG : ['ch1', 'ch2', 'ch3', 'ch4']\n",
      "    Rejecting  epoch based on EEG : ['ch1', 'ch2', 'ch3', 'ch4']\n",
      "    Rejecting  epoch based on EEG : ['ch1', 'ch2', 'ch3', 'ch4']\n",
      "    Rejecting  epoch based on EEG : ['ch1', 'ch2', 'ch3', 'ch4']\n",
      "    Rejecting  epoch based on EEG : ['ch1', 'ch2', 'ch3', 'ch4']\n",
      "    Rejecting  epoch based on EEG : ['ch1', 'ch2', 'ch3', 'ch4']\n",
      "    Rejecting  epoch based on EEG : ['ch1', 'ch2', 'ch3', 'ch4']\n",
      "    Rejecting  epoch based on EEG : ['ch1', 'ch2', 'ch3', 'ch4']\n",
      "    Rejecting  epoch based on EEG : ['ch1', 'ch2', 'ch3', 'ch4']\n",
      "    Rejecting  epoch based on EEG : ['ch1', 'ch2', 'ch3', 'ch4']\n",
      "    Rejecting  epoch based on EEG : ['ch1', 'ch2', 'ch3', 'ch4']\n",
      "    Rejecting  epoch based on EEG : ['ch1', 'ch2', 'ch3', 'ch4']\n",
      "    Rejecting  epoch based on EEG : ['ch1', 'ch2', 'ch3', 'ch4']\n",
      "    Rejecting  epoch based on EEG : ['ch1', 'ch2', 'ch3', 'ch4']\n",
      "    Rejecting  epoch based on EEG : ['ch1', 'ch2', 'ch3', 'ch4']\n",
      "    Rejecting  epoch based on EEG : ['ch1', 'ch2', 'ch3', 'ch4']\n",
      "    Rejecting  epoch based on EEG : ['ch1', 'ch2', 'ch3', 'ch4']\n",
      "    Rejecting  epoch based on EEG : ['ch1', 'ch2', 'ch3', 'ch4']\n",
      "    Rejecting  epoch based on EEG : ['ch1', 'ch2', 'ch3', 'ch4']\n",
      "    Rejecting  epoch based on EEG : ['ch1', 'ch2', 'ch3', 'ch4']\n",
      "    Rejecting  epoch based on EEG : ['ch1', 'ch2', 'ch3', 'ch4']\n",
      "    Rejecting  epoch based on EEG : ['ch1', 'ch2', 'ch3', 'ch4']\n",
      "    Rejecting  epoch based on EEG : ['ch1', 'ch2', 'ch3', 'ch4']\n",
      "    Rejecting  epoch based on EEG : ['ch1', 'ch2', 'ch3', 'ch4']\n",
      "    Rejecting  epoch based on EEG : ['ch1', 'ch2', 'ch3', 'ch4']\n",
      "    Rejecting  epoch based on EEG : ['ch1', 'ch2', 'ch3', 'ch4']\n",
      "    Rejecting  epoch based on EEG : ['ch1', 'ch2', 'ch3', 'ch4']\n",
      "    Rejecting  epoch based on EEG : ['ch1', 'ch2', 'ch3', 'ch4']\n",
      "    Rejecting  epoch based on EEG : ['ch1', 'ch2', 'ch3', 'ch4']\n",
      "    Rejecting  epoch based on EEG : ['ch1', 'ch2', 'ch3', 'ch4']\n",
      "    Rejecting  epoch based on EEG : ['ch1', 'ch2', 'ch3', 'ch4']\n",
      "    Rejecting  epoch based on EEG : ['ch1', 'ch2', 'ch3', 'ch4']\n",
      "    Rejecting  epoch based on EEG : ['ch1', 'ch2', 'ch3', 'ch4']\n",
      "    Rejecting  epoch based on EEG : ['ch1', 'ch2', 'ch3', 'ch4']\n",
      "    Rejecting  epoch based on EEG : ['ch1', 'ch2', 'ch3', 'ch4']\n",
      "    Rejecting  epoch based on EEG : ['ch1', 'ch2', 'ch3', 'ch4']\n",
      "    Rejecting  epoch based on EEG : ['ch1', 'ch2', 'ch3', 'ch4']\n",
      "    Rejecting  epoch based on EEG : ['ch1', 'ch2', 'ch3', 'ch4']\n",
      "    Rejecting  epoch based on EEG : ['ch1', 'ch2', 'ch3', 'ch4']\n",
      "    Rejecting  epoch based on EEG : ['ch1', 'ch2', 'ch3', 'ch4']\n",
      "    Rejecting  epoch based on EEG : ['ch1', 'ch2', 'ch3', 'ch4']\n",
      "    Rejecting  epoch based on EEG : ['ch1', 'ch2', 'ch3', 'ch4']\n",
      "    Rejecting  epoch based on EEG : ['ch1', 'ch2', 'ch3', 'ch4']\n",
      "    Rejecting  epoch based on EEG : ['ch1', 'ch2', 'ch3', 'ch4']\n",
      "    Rejecting  epoch based on EEG : ['ch1', 'ch2', 'ch3', 'ch4']\n",
      "    Rejecting  epoch based on EEG : ['ch1', 'ch2', 'ch3', 'ch4']\n",
      "    Rejecting  epoch based on EEG : ['ch1', 'ch2', 'ch3', 'ch4']\n",
      "    Rejecting  epoch based on EEG : ['ch1', 'ch2', 'ch3', 'ch4']\n",
      "    Rejecting  epoch based on EEG : ['ch1', 'ch2', 'ch3', 'ch4']\n",
      "    Rejecting  epoch based on EEG : ['ch1', 'ch2', 'ch3', 'ch4']\n",
      "    Rejecting  epoch based on EEG : ['ch1', 'ch2', 'ch3', 'ch4']\n",
      "    Rejecting  epoch based on EEG : ['ch1', 'ch2', 'ch3', 'ch4']\n",
      "    Rejecting  epoch based on EEG : ['ch1', 'ch2', 'ch3', 'ch4']\n",
      "    Rejecting  epoch based on EEG : ['ch1', 'ch2', 'ch3', 'ch4']\n",
      "    Rejecting  epoch based on EEG : ['ch1', 'ch2', 'ch3', 'ch4']\n",
      "    Rejecting  epoch based on EEG : ['ch1', 'ch2', 'ch3', 'ch4']\n",
      "    Rejecting  epoch based on EEG : ['ch1', 'ch2', 'ch3', 'ch4']\n",
      "    Rejecting  epoch based on EEG : ['ch1', 'ch2', 'ch3', 'ch4']\n",
      "    Rejecting  epoch based on EEG : ['ch1', 'ch2', 'ch3', 'ch4']\n",
      "    Rejecting  epoch based on EEG : ['ch1', 'ch2', 'ch3', 'ch4']\n",
      "    Rejecting  epoch based on EEG : ['ch1', 'ch2', 'ch3', 'ch4']\n",
      "    Rejecting  epoch based on EEG : ['ch1', 'ch2', 'ch3', 'ch4']\n",
      "    Rejecting  epoch based on EEG : ['ch1', 'ch2', 'ch3', 'ch4']\n",
      "    Rejecting  epoch based on EEG : ['ch1', 'ch2', 'ch3', 'ch4']\n",
      "    Rejecting  epoch based on EEG : ['ch1', 'ch2', 'ch3', 'ch4']\n",
      "    Rejecting  epoch based on EEG : ['ch1', 'ch2', 'ch3', 'ch4']\n",
      "    Rejecting  epoch based on EEG : ['ch1', 'ch2', 'ch3', 'ch4']\n",
      "    Rejecting  epoch based on EEG : ['ch1', 'ch2', 'ch3', 'ch4']\n",
      "    Rejecting  epoch based on EEG : ['ch1', 'ch2', 'ch3', 'ch4']\n",
      "    Rejecting  epoch based on EEG : ['ch1', 'ch2', 'ch3', 'ch4']\n",
      "    Rejecting  epoch based on EEG : ['ch1', 'ch2', 'ch3', 'ch4']\n",
      "    Rejecting  epoch based on EEG : ['ch1', 'ch2', 'ch3', 'ch4']\n",
      "    Rejecting  epoch based on EEG : ['ch1', 'ch2', 'ch3', 'ch4']\n",
      "    Rejecting  epoch based on EEG : ['ch1', 'ch2', 'ch3', 'ch4']\n",
      "    Rejecting  epoch based on EEG : ['ch1', 'ch2', 'ch3', 'ch4']\n",
      "    Rejecting  epoch based on EEG : ['ch1', 'ch2', 'ch3', 'ch4']\n",
      "    Rejecting  epoch based on EEG : ['ch1', 'ch2', 'ch3', 'ch4']\n",
      "    Rejecting  epoch based on EEG : ['ch1', 'ch2', 'ch3', 'ch4']\n",
      "    Rejecting  epoch based on EEG : ['ch1', 'ch2', 'ch3', 'ch4']\n",
      "    Rejecting  epoch based on EEG : ['ch1', 'ch2', 'ch3', 'ch4']\n",
      "    Rejecting  epoch based on EEG : ['ch1', 'ch2', 'ch3', 'ch4']\n",
      "    Rejecting  epoch based on EEG : ['ch1', 'ch2', 'ch3', 'ch4']\n",
      "    Rejecting  epoch based on EEG : ['ch1', 'ch2', 'ch3', 'ch4']\n",
      "    Rejecting  epoch based on EEG : ['ch1', 'ch2', 'ch3', 'ch4']\n",
      "    Rejecting  epoch based on EEG : ['ch1', 'ch2', 'ch3', 'ch4']\n",
      "    Rejecting  epoch based on EEG : ['ch1', 'ch2', 'ch3', 'ch4']\n",
      "    Rejecting  epoch based on EEG : ['ch1', 'ch2', 'ch3', 'ch4']\n",
      "    Rejecting  epoch based on EEG : ['ch1', 'ch2', 'ch3', 'ch4']\n",
      "    Rejecting  epoch based on EEG : ['ch1', 'ch2', 'ch3', 'ch4']\n",
      "    Rejecting  epoch based on EEG : ['ch1', 'ch2', 'ch3', 'ch4']\n",
      "    Rejecting  epoch based on EEG : ['ch1', 'ch2', 'ch3', 'ch4']\n",
      "    Rejecting  epoch based on EEG : ['ch1', 'ch2', 'ch3', 'ch4']\n",
      "    Rejecting  epoch based on EEG : ['ch1', 'ch2', 'ch3', 'ch4']\n",
      "    Rejecting  epoch based on EEG : ['ch1', 'ch2', 'ch3', 'ch4']\n",
      "    Rejecting  epoch based on EEG : ['ch1', 'ch2', 'ch3', 'ch4']\n",
      "    Rejecting  epoch based on EEG : ['ch1', 'ch2', 'ch3', 'ch4']\n",
      "    Rejecting  epoch based on EEG : ['ch1', 'ch2', 'ch3', 'ch4']\n",
      "    Rejecting  epoch based on EEG : ['ch1', 'ch2', 'ch3', 'ch4']\n",
      "    Rejecting  epoch based on EEG : ['ch1', 'ch2', 'ch3', 'ch4']\n",
      "    Rejecting  epoch based on EEG : ['ch1', 'ch2', 'ch3', 'ch4']\n",
      "    Rejecting  epoch based on EEG : ['ch1', 'ch2', 'ch3', 'ch4']\n",
      "    Rejecting  epoch based on EEG : ['ch1', 'ch2', 'ch3', 'ch4']\n",
      "    Rejecting  epoch based on EEG : ['ch1', 'ch2', 'ch3', 'ch4']\n",
      "    Rejecting  epoch based on EEG : ['ch1', 'ch2', 'ch3', 'ch4']\n",
      "    Rejecting  epoch based on EEG : ['ch1', 'ch2', 'ch3', 'ch4']\n",
      "    Rejecting  epoch based on EEG : ['ch1', 'ch2', 'ch3', 'ch4']\n",
      "    Rejecting  epoch based on EEG : ['ch1', 'ch2', 'ch3', 'ch4']\n",
      "    Rejecting  epoch based on EEG : ['ch1', 'ch2', 'ch3', 'ch4']\n",
      "    Rejecting  epoch based on EEG : ['ch1', 'ch2', 'ch3', 'ch4']\n",
      "    Rejecting  epoch based on EEG : ['ch1', 'ch2', 'ch3', 'ch4']\n",
      "    Rejecting  epoch based on EEG : ['ch1', 'ch2', 'ch3', 'ch4']\n",
      "    Rejecting  epoch based on EEG : ['ch1', 'ch2', 'ch3', 'ch4']\n",
      "    Rejecting  epoch based on EEG : ['ch1', 'ch2', 'ch3', 'ch4']\n",
      "    Rejecting  epoch based on EEG : ['ch1', 'ch2', 'ch3', 'ch4']\n",
      "    Rejecting  epoch based on EEG : ['ch1', 'ch2', 'ch3', 'ch4']\n",
      "    Rejecting  epoch based on EEG : ['ch1', 'ch2', 'ch3', 'ch4']\n",
      "    Rejecting  epoch based on EEG : ['ch1', 'ch2', 'ch3', 'ch4']\n",
      "    Rejecting  epoch based on EEG : ['ch1', 'ch2', 'ch3', 'ch4']\n",
      "    Rejecting  epoch based on EEG : ['ch1', 'ch2', 'ch3', 'ch4']\n",
      "    Rejecting  epoch based on EEG : ['ch1', 'ch2', 'ch3', 'ch4']\n",
      "    Rejecting  epoch based on EEG : ['ch1', 'ch2', 'ch3', 'ch4']\n",
      "    Rejecting  epoch based on EEG : ['ch1', 'ch2', 'ch3', 'ch4']\n",
      "    Rejecting  epoch based on EEG : ['ch1', 'ch2', 'ch3', 'ch4']\n",
      "    Rejecting  epoch based on EEG : ['ch1', 'ch2', 'ch3', 'ch4']\n",
      "    Rejecting  epoch based on EEG : ['ch1', 'ch2', 'ch3', 'ch4']\n",
      "    Rejecting  epoch based on EEG : ['ch1', 'ch2', 'ch3', 'ch4']\n",
      "    Rejecting  epoch based on EEG : ['ch1', 'ch2', 'ch3', 'ch4']\n",
      "    Rejecting  epoch based on EEG : ['ch1', 'ch2', 'ch3', 'ch4']\n",
      "    Rejecting  epoch based on EEG : ['ch1', 'ch2', 'ch3', 'ch4']\n",
      "    Rejecting  epoch based on EEG : ['ch1', 'ch2', 'ch3', 'ch4']\n",
      "    Rejecting  epoch based on EEG : ['ch1', 'ch2', 'ch3', 'ch4']\n",
      "    Rejecting  epoch based on EEG : ['ch1', 'ch2', 'ch3', 'ch4']\n",
      "    Rejecting  epoch based on EEG : ['ch1', 'ch2', 'ch3', 'ch4']\n",
      "    Rejecting  epoch based on EEG : ['ch1', 'ch2', 'ch3', 'ch4']\n",
      "    Rejecting  epoch based on EEG : ['ch1', 'ch2', 'ch3', 'ch4']\n",
      "    Rejecting  epoch based on EEG : ['ch1', 'ch2', 'ch3', 'ch4']\n",
      "    Rejecting  epoch based on EEG : ['ch1', 'ch2', 'ch3', 'ch4']\n",
      "    Rejecting  epoch based on EEG : ['ch1', 'ch2', 'ch3', 'ch4']\n",
      "    Rejecting  epoch based on EEG : ['ch1', 'ch2', 'ch3', 'ch4']\n",
      "    Rejecting  epoch based on EEG : ['ch1', 'ch2', 'ch3', 'ch4']\n",
      "    Rejecting  epoch based on EEG : ['ch1', 'ch2', 'ch3', 'ch4']\n",
      "    Rejecting  epoch based on EEG : ['ch1', 'ch2', 'ch3', 'ch4']\n",
      "    Rejecting  epoch based on EEG : ['ch1', 'ch2', 'ch3', 'ch4']\n",
      "    Rejecting  epoch based on EEG : ['ch1', 'ch2', 'ch3', 'ch4']\n",
      "    Rejecting  epoch based on EEG : ['ch1', 'ch2', 'ch3', 'ch4']\n",
      "    Rejecting  epoch based on EEG : ['ch1', 'ch2', 'ch3', 'ch4']\n",
      "    Rejecting  epoch based on EEG : ['ch1', 'ch2', 'ch3', 'ch4']\n",
      "    Rejecting  epoch based on EEG : ['ch1', 'ch2', 'ch3', 'ch4']\n",
      "    Rejecting  epoch based on EEG : ['ch1', 'ch2', 'ch3', 'ch4']\n",
      "    Rejecting  epoch based on EEG : ['ch1', 'ch2', 'ch3', 'ch4']\n",
      "    Rejecting  epoch based on EEG : ['ch1', 'ch2', 'ch3', 'ch4']\n",
      "    Rejecting  epoch based on EEG : ['ch1', 'ch2', 'ch3', 'ch4']\n",
      "    Rejecting  epoch based on EEG : ['ch1', 'ch2', 'ch3', 'ch4']\n",
      "    Rejecting  epoch based on EEG : ['ch1', 'ch2', 'ch3', 'ch4']\n",
      "    Rejecting  epoch based on EEG : ['ch1', 'ch2', 'ch3', 'ch4']\n",
      "    Rejecting  epoch based on EEG : ['ch1', 'ch2', 'ch3', 'ch4']\n",
      "    Rejecting  epoch based on EEG : ['ch1', 'ch2', 'ch3', 'ch4']\n",
      "    Rejecting  epoch based on EEG : ['ch1', 'ch2', 'ch3', 'ch4']\n",
      "    Rejecting  epoch based on EEG : ['ch1', 'ch2', 'ch3', 'ch4']\n",
      "    Rejecting  epoch based on EEG : ['ch1', 'ch2', 'ch3', 'ch4']\n",
      "    Rejecting  epoch based on EEG : ['ch1', 'ch2', 'ch3', 'ch4']\n",
      "    Rejecting  epoch based on EEG : ['ch1', 'ch2', 'ch3', 'ch4']\n",
      "    Rejecting  epoch based on EEG : ['ch1', 'ch2', 'ch3', 'ch4']\n",
      "    Rejecting  epoch based on EEG : ['ch1', 'ch2', 'ch3', 'ch4']\n",
      "    Rejecting  epoch based on EEG : ['ch1', 'ch2', 'ch3', 'ch4']\n",
      "    Rejecting  epoch based on EEG : ['ch1', 'ch2', 'ch3', 'ch4']\n",
      "    Rejecting  epoch based on EEG : ['ch1', 'ch2', 'ch3', 'ch4']\n",
      "    Rejecting  epoch based on EEG : ['ch1', 'ch2', 'ch3', 'ch4']\n",
      "    Rejecting  epoch based on EEG : ['ch1', 'ch2', 'ch3', 'ch4']\n",
      "    Rejecting  epoch based on EEG : ['ch1', 'ch2', 'ch3', 'ch4']\n",
      "    Rejecting  epoch based on EEG : ['ch1', 'ch2', 'ch3', 'ch4']\n",
      "    Rejecting  epoch based on EEG : ['ch1', 'ch2', 'ch3', 'ch4']\n",
      "    Rejecting  epoch based on EEG : ['ch1', 'ch2', 'ch3', 'ch4']\n",
      "    Rejecting  epoch based on EEG : ['ch1', 'ch2', 'ch3', 'ch4']\n",
      "    Rejecting  epoch based on EEG : ['ch1', 'ch2', 'ch3', 'ch4']\n",
      "    Rejecting  epoch based on EEG : ['ch1', 'ch2', 'ch3', 'ch4']\n",
      "    Rejecting  epoch based on EEG : ['ch1', 'ch2', 'ch3', 'ch4']\n",
      "    Rejecting  epoch based on EEG : ['ch1', 'ch2', 'ch3', 'ch4']\n",
      "    Rejecting  epoch based on EEG : ['ch1', 'ch2', 'ch3', 'ch4']\n",
      "    Rejecting  epoch based on EEG : ['ch1', 'ch2', 'ch3', 'ch4']\n",
      "    Rejecting  epoch based on EEG : ['ch1', 'ch2', 'ch3', 'ch4']\n",
      "    Rejecting  epoch based on EEG : ['ch1', 'ch2', 'ch3', 'ch4']\n",
      "    Rejecting  epoch based on EEG : ['ch1', 'ch2', 'ch3', 'ch4']\n",
      "    Rejecting  epoch based on EEG : ['ch1', 'ch2', 'ch3', 'ch4']\n",
      "    Rejecting  epoch based on EEG : ['ch1', 'ch2', 'ch3', 'ch4']\n",
      "    Rejecting  epoch based on EEG : ['ch1', 'ch2', 'ch3', 'ch4']\n",
      "    Rejecting  epoch based on EEG : ['ch1', 'ch2', 'ch3', 'ch4']\n",
      "    Rejecting  epoch based on EEG : ['ch1', 'ch2', 'ch3', 'ch4']\n",
      "    Rejecting  epoch based on EEG : ['ch1', 'ch2', 'ch3', 'ch4']\n",
      "    Rejecting  epoch based on EEG : ['ch1', 'ch2', 'ch3', 'ch4']\n",
      "    Rejecting  epoch based on EEG : ['ch1', 'ch2', 'ch3', 'ch4']\n",
      "    Rejecting  epoch based on EEG : ['ch1', 'ch2', 'ch3', 'ch4']\n",
      "    Rejecting  epoch based on EEG : ['ch1', 'ch2', 'ch3', 'ch4']\n",
      "    Rejecting  epoch based on EEG : ['ch1', 'ch2', 'ch3', 'ch4']\n",
      "    Rejecting  epoch based on EEG : ['ch1', 'ch2', 'ch3', 'ch4']\n",
      "    Rejecting  epoch based on EEG : ['ch1', 'ch2', 'ch3', 'ch4']\n",
      "    Rejecting  epoch based on EEG : ['ch1', 'ch2', 'ch3', 'ch4']\n",
      "    Rejecting  epoch based on EEG : ['ch1', 'ch2', 'ch3', 'ch4']\n",
      "    Rejecting  epoch based on EEG : ['ch1', 'ch2', 'ch3', 'ch4']\n",
      "    Rejecting  epoch based on EEG : ['ch1', 'ch2', 'ch3', 'ch4']\n",
      "    Rejecting  epoch based on EEG : ['ch1', 'ch2', 'ch3', 'ch4']\n",
      "    Rejecting  epoch based on EEG : ['ch1', 'ch2', 'ch3', 'ch4']\n",
      "    Rejecting  epoch based on EEG : ['ch1', 'ch2', 'ch3', 'ch4']\n",
      "    Rejecting  epoch based on EEG : ['ch1', 'ch2', 'ch3', 'ch4']\n",
      "    Rejecting  epoch based on EEG : ['ch1', 'ch2', 'ch3', 'ch4']\n",
      "    Rejecting  epoch based on EEG : ['ch1', 'ch2', 'ch3', 'ch4']\n",
      "    Rejecting  epoch based on EEG : ['ch1', 'ch2', 'ch3', 'ch4']\n",
      "    Rejecting  epoch based on EEG : ['ch1', 'ch2', 'ch3', 'ch4']\n",
      "    Rejecting  epoch based on EEG : ['ch1', 'ch2', 'ch3', 'ch4']\n",
      "    Rejecting  epoch based on EEG : ['ch1', 'ch2', 'ch3', 'ch4']\n",
      "    Rejecting  epoch based on EEG : ['ch1', 'ch2', 'ch3', 'ch4']\n",
      "    Rejecting  epoch based on EEG : ['ch1', 'ch2', 'ch3', 'ch4']\n",
      "    Rejecting  epoch based on EEG : ['ch1', 'ch2', 'ch3', 'ch4']\n",
      "    Rejecting  epoch based on EEG : ['ch1', 'ch2', 'ch3', 'ch4']\n",
      "    Rejecting  epoch based on EEG : ['ch1', 'ch2', 'ch3', 'ch4']\n",
      "    Rejecting  epoch based on EEG : ['ch1', 'ch2', 'ch3', 'ch4']\n",
      "    Rejecting  epoch based on EEG : ['ch1', 'ch2', 'ch3', 'ch4']\n",
      "    Rejecting  epoch based on EEG : ['ch1', 'ch2', 'ch3', 'ch4']\n",
      "    Rejecting  epoch based on EEG : ['ch1', 'ch2', 'ch3', 'ch4']\n",
      "    Rejecting  epoch based on EEG : ['ch1', 'ch2', 'ch3', 'ch4']\n",
      "    Rejecting  epoch based on EEG : ['ch1', 'ch2', 'ch3', 'ch4']\n",
      "    Rejecting  epoch based on EEG : ['ch1', 'ch2', 'ch3', 'ch4']\n",
      "    Rejecting  epoch based on EEG : ['ch1', 'ch2', 'ch3', 'ch4']\n",
      "    Rejecting  epoch based on EEG : ['ch1', 'ch2', 'ch3', 'ch4']\n",
      "    Rejecting  epoch based on EEG : ['ch1', 'ch2', 'ch3', 'ch4']\n",
      "    Rejecting  epoch based on EEG : ['ch1', 'ch2', 'ch3', 'ch4']\n",
      "    Rejecting  epoch based on EEG : ['ch1', 'ch2', 'ch3', 'ch4']\n",
      "    Rejecting  epoch based on EEG : ['ch1', 'ch2', 'ch3', 'ch4']\n",
      "    Rejecting  epoch based on EEG : ['ch1', 'ch2', 'ch3', 'ch4']\n",
      "    Rejecting  epoch based on EEG : ['ch1', 'ch2', 'ch3', 'ch4']\n",
      "    Rejecting  epoch based on EEG : ['ch1', 'ch2', 'ch3', 'ch4']\n",
      "    Rejecting  epoch based on EEG : ['ch1', 'ch2', 'ch3', 'ch4']\n",
      "    Rejecting  epoch based on EEG : ['ch1', 'ch2', 'ch3', 'ch4']\n",
      "    Rejecting  epoch based on EEG : ['ch1', 'ch2', 'ch3', 'ch4']\n",
      "    Rejecting  epoch based on EEG : ['ch1', 'ch2', 'ch3', 'ch4']\n",
      "    Rejecting  epoch based on EEG : ['ch1', 'ch2', 'ch3', 'ch4']\n",
      "    Rejecting  epoch based on EEG : ['ch1', 'ch2', 'ch3', 'ch4']\n",
      "    Rejecting  epoch based on EEG : ['ch1', 'ch2', 'ch3', 'ch4']\n",
      "    Rejecting  epoch based on EEG : ['ch1', 'ch2', 'ch3', 'ch4']\n",
      "    Rejecting  epoch based on EEG : ['ch1', 'ch2', 'ch3', 'ch4']\n",
      "    Rejecting  epoch based on EEG : ['ch2', 'ch4']\n",
      "    Rejecting  epoch based on EEG : ['ch2', 'ch4']\n",
      "    Rejecting  epoch based on EEG : ['ch1', 'ch2', 'ch3', 'ch4']\n",
      "    Rejecting  epoch based on EEG : ['ch2', 'ch4']\n",
      "    Rejecting  epoch based on EEG : ['ch1', 'ch2', 'ch3', 'ch4']\n",
      "    Rejecting  epoch based on EEG : ['ch1', 'ch2', 'ch3', 'ch4']\n",
      "    Rejecting  epoch based on EEG : ['ch1', 'ch2', 'ch3', 'ch4']\n",
      "    Rejecting  epoch based on EEG : ['ch1', 'ch2', 'ch3', 'ch4']\n",
      "    Rejecting  epoch based on EEG : ['ch1', 'ch2', 'ch3', 'ch4']\n",
      "    Rejecting  epoch based on EEG : ['ch1', 'ch2', 'ch3', 'ch4']\n",
      "    Rejecting  epoch based on EEG : ['ch1', 'ch2', 'ch3', 'ch4']\n",
      "    Rejecting  epoch based on EEG : ['ch1', 'ch2', 'ch3', 'ch4']\n",
      "    Rejecting  epoch based on EEG : ['ch1', 'ch2', 'ch3', 'ch4']\n",
      "    Rejecting  epoch based on EEG : ['ch1', 'ch2', 'ch3', 'ch4']\n",
      "    Rejecting  epoch based on EEG : ['ch1', 'ch2', 'ch3', 'ch4']\n",
      "    Rejecting  epoch based on EEG : ['ch1', 'ch2', 'ch3', 'ch4']\n",
      "    Rejecting  epoch based on EEG : ['ch1', 'ch2', 'ch3', 'ch4']\n",
      "    Rejecting  epoch based on EEG : ['ch1', 'ch2', 'ch3', 'ch4']\n",
      "    Rejecting  epoch based on EEG : ['ch1', 'ch2', 'ch3', 'ch4']\n",
      "    Rejecting  epoch based on EEG : ['ch1', 'ch2', 'ch3', 'ch4']\n",
      "    Rejecting  epoch based on EEG : ['ch1', 'ch2', 'ch3', 'ch4']\n",
      "    Rejecting  epoch based on EEG : ['ch1', 'ch2', 'ch3', 'ch4']\n",
      "    Rejecting  epoch based on EEG : ['ch1', 'ch2', 'ch3', 'ch4']\n",
      "    Rejecting  epoch based on EEG : ['ch1', 'ch2', 'ch3', 'ch4']\n",
      "    Rejecting  epoch based on EEG : ['ch1', 'ch2', 'ch3', 'ch4']\n",
      "    Rejecting  epoch based on EEG : ['ch2', 'ch4']\n",
      "    Rejecting  epoch based on EEG : ['ch1', 'ch2', 'ch3', 'ch4']\n",
      "    Rejecting  epoch based on EEG : ['ch2', 'ch4']\n",
      "    Rejecting  epoch based on EEG : ['ch2', 'ch4']\n",
      "    Rejecting  epoch based on EEG : ['ch2', 'ch4']\n",
      "    Rejecting  epoch based on EEG : ['ch2', 'ch4']\n",
      "    Rejecting  epoch based on EEG : ['ch1', 'ch2', 'ch3', 'ch4']\n",
      "    Rejecting  epoch based on EEG : ['ch2', 'ch4']\n",
      "    Rejecting  epoch based on EEG : ['ch2', 'ch4']\n",
      "    Rejecting  epoch based on EEG : ['ch2', 'ch4']\n",
      "    Rejecting  epoch based on EEG : ['ch2', 'ch4']\n",
      "    Rejecting  epoch based on EEG : ['ch2', 'ch4']\n",
      "    Rejecting  epoch based on EEG : ['ch2', 'ch4']\n",
      "    Rejecting  epoch based on EEG : ['ch2', 'ch4']\n",
      "    Rejecting  epoch based on EEG : ['ch2', 'ch4']\n",
      "    Rejecting  epoch based on EEG : ['ch2', 'ch4']\n",
      "    Rejecting  epoch based on EEG : ['ch2', 'ch4']\n",
      "    Rejecting  epoch based on EEG : ['ch2', 'ch4']\n",
      "    Rejecting  epoch based on EEG : ['ch2', 'ch4']\n",
      "    Rejecting  epoch based on EEG : ['ch2', 'ch4']\n",
      "    Rejecting  epoch based on EEG : ['ch2', 'ch4']\n",
      "    Rejecting  epoch based on EEG : ['ch2', 'ch4']\n",
      "    Rejecting  epoch based on EEG : ['ch2', 'ch4']\n",
      "    Rejecting  epoch based on EEG : ['ch2', 'ch4']\n",
      "    Rejecting  epoch based on EEG : ['ch2', 'ch4']\n",
      "    Rejecting  epoch based on EEG : ['ch2', 'ch4']\n",
      "    Rejecting  epoch based on EEG : ['ch2', 'ch4']\n",
      "    Rejecting  epoch based on EEG : ['ch2', 'ch4']\n",
      "    Rejecting  epoch based on EEG : ['ch2', 'ch4']\n",
      "    Rejecting  epoch based on EEG : ['ch2', 'ch4']\n",
      "    Rejecting  epoch based on EEG : ['ch2', 'ch4']\n",
      "    Rejecting  epoch based on EEG : ['ch2', 'ch4']\n",
      "    Rejecting  epoch based on EEG : ['ch2', 'ch4']\n",
      "    Rejecting  epoch based on EEG : ['ch2', 'ch4']\n",
      "    Rejecting  epoch based on EEG : ['ch2', 'ch4']\n",
      "    Rejecting  epoch based on EEG : ['ch2', 'ch4']\n",
      "    Rejecting  epoch based on EEG : ['ch2', 'ch4']\n",
      "    Rejecting  epoch based on EEG : ['ch2', 'ch4']\n",
      "    Rejecting  epoch based on EEG : ['ch2', 'ch4']\n",
      "    Rejecting  epoch based on EEG : ['ch2', 'ch4']\n",
      "    Rejecting  epoch based on EEG : ['ch2', 'ch4']\n",
      "    Rejecting  epoch based on EEG : ['ch2', 'ch4']\n",
      "    Rejecting  epoch based on EEG : ['ch2', 'ch4']\n",
      "    Rejecting  epoch based on EEG : ['ch2', 'ch4']\n",
      "    Rejecting  epoch based on EEG : ['ch2', 'ch4']\n",
      "    Rejecting  epoch based on EEG : ['ch1', 'ch2', 'ch3', 'ch4']\n",
      "    Rejecting  epoch based on EEG : ['ch1', 'ch2', 'ch3', 'ch4']\n",
      "    Rejecting  epoch based on EEG : ['ch1', 'ch2', 'ch3', 'ch4']\n",
      "    Rejecting  epoch based on EEG : ['ch1', 'ch2', 'ch3', 'ch4']\n",
      "    Rejecting  epoch based on EEG : ['ch1', 'ch2', 'ch3', 'ch4']\n",
      "    Rejecting  epoch based on EEG : ['ch1', 'ch2', 'ch3', 'ch4']\n",
      "    Rejecting  epoch based on EEG : ['ch1', 'ch2', 'ch3', 'ch4']\n",
      "    Rejecting  epoch based on EEG : ['ch1', 'ch2', 'ch3', 'ch4']\n",
      "    Rejecting  epoch based on EEG : ['ch1', 'ch2', 'ch3', 'ch4']\n",
      "    Rejecting  epoch based on EEG : ['ch1', 'ch2', 'ch3', 'ch4']\n",
      "    Rejecting  epoch based on EEG : ['ch1', 'ch2', 'ch3', 'ch4']\n",
      "    Rejecting  epoch based on EEG : ['ch1', 'ch2', 'ch3', 'ch4']\n",
      "    Rejecting  epoch based on EEG : ['ch1', 'ch2', 'ch3', 'ch4']\n",
      "    Rejecting  epoch based on EEG : ['ch1', 'ch2', 'ch3', 'ch4']\n",
      "    Rejecting  epoch based on EEG : ['ch1', 'ch2', 'ch3', 'ch4']\n",
      "    Rejecting  epoch based on EEG : ['ch1', 'ch2', 'ch3', 'ch4']\n",
      "    Rejecting  epoch based on EEG : ['ch1', 'ch2', 'ch3', 'ch4']\n",
      "    Rejecting  epoch based on EEG : ['ch1', 'ch2', 'ch3', 'ch4']\n",
      "    Rejecting  epoch based on EEG : ['ch1', 'ch2', 'ch3', 'ch4']\n",
      "    Rejecting  epoch based on EEG : ['ch1', 'ch2', 'ch3', 'ch4']\n",
      "    Rejecting  epoch based on EEG : ['ch1', 'ch2', 'ch3', 'ch4']\n",
      "    Rejecting  epoch based on EEG : ['ch1', 'ch2', 'ch3', 'ch4']\n",
      "    Rejecting  epoch based on EEG : ['ch1', 'ch2', 'ch3', 'ch4']\n",
      "    Rejecting  epoch based on EEG : ['ch1', 'ch2', 'ch3', 'ch4']\n",
      "    Rejecting  epoch based on EEG : ['ch1', 'ch2', 'ch3', 'ch4']\n",
      "    Rejecting  epoch based on EEG : ['ch1', 'ch2', 'ch3', 'ch4']\n",
      "    Rejecting  epoch based on EEG : ['ch1', 'ch2', 'ch3', 'ch4']\n",
      "    Rejecting  epoch based on EEG : ['ch1', 'ch2', 'ch3', 'ch4']\n",
      "    Rejecting  epoch based on EEG : ['ch1', 'ch2', 'ch3', 'ch4']\n",
      "    Rejecting  epoch based on EEG : ['ch1', 'ch2', 'ch3', 'ch4']\n",
      "    Rejecting  epoch based on EEG : ['ch1', 'ch2', 'ch3', 'ch4']\n",
      "    Rejecting  epoch based on EEG : ['ch1', 'ch2', 'ch3', 'ch4']\n",
      "    Rejecting  epoch based on EEG : ['ch1', 'ch2', 'ch3', 'ch4']\n",
      "    Rejecting  epoch based on EEG : ['ch1', 'ch2', 'ch3', 'ch4']\n",
      "    Rejecting  epoch based on EEG : ['ch1', 'ch2', 'ch3', 'ch4']\n",
      "    Rejecting  epoch based on EEG : ['ch1', 'ch2', 'ch3', 'ch4']\n",
      "    Rejecting  epoch based on EEG : ['ch1', 'ch2', 'ch3', 'ch4']\n",
      "    Rejecting  epoch based on EEG : ['ch1', 'ch2', 'ch3', 'ch4']\n",
      "    Rejecting  epoch based on EEG : ['ch1', 'ch2', 'ch3', 'ch4']\n",
      "    Rejecting  epoch based on EEG : ['ch1', 'ch2', 'ch3', 'ch4']\n",
      "    Rejecting  epoch based on EEG : ['ch1', 'ch2', 'ch3', 'ch4']\n",
      "    Rejecting  epoch based on EEG : ['ch1', 'ch2', 'ch3', 'ch4']\n",
      "    Rejecting  epoch based on EEG : ['ch1', 'ch2', 'ch3', 'ch4']\n",
      "    Rejecting  epoch based on EEG : ['ch1', 'ch2', 'ch3', 'ch4']\n",
      "    Rejecting  epoch based on EEG : ['ch1', 'ch2', 'ch3', 'ch4']\n",
      "    Rejecting  epoch based on EEG : ['ch1', 'ch2', 'ch3', 'ch4']\n",
      "    Rejecting  epoch based on EEG : ['ch1', 'ch2', 'ch3', 'ch4']\n",
      "    Rejecting  epoch based on EEG : ['ch1', 'ch2', 'ch3', 'ch4']\n",
      "    Rejecting  epoch based on EEG : ['ch1', 'ch2', 'ch3', 'ch4']\n",
      "    Rejecting  epoch based on EEG : ['ch1', 'ch2', 'ch3', 'ch4']\n",
      "    Rejecting  epoch based on EEG : ['ch1', 'ch2', 'ch3', 'ch4']\n",
      "    Rejecting  epoch based on EEG : ['ch1', 'ch2', 'ch3', 'ch4']\n",
      "    Rejecting  epoch based on EEG : ['ch1', 'ch2', 'ch3', 'ch4']\n",
      "    Rejecting  epoch based on EEG : ['ch1', 'ch2', 'ch3', 'ch4']\n",
      "    Rejecting  epoch based on EEG : ['ch1', 'ch2', 'ch3', 'ch4']\n",
      "    Rejecting  epoch based on EEG : ['ch1', 'ch2', 'ch3', 'ch4']\n",
      "    Rejecting  epoch based on EEG : ['ch1', 'ch2', 'ch3', 'ch4']\n",
      "    Rejecting  epoch based on EEG : ['ch1', 'ch2', 'ch3', 'ch4']\n",
      "    Rejecting  epoch based on EEG : ['ch1', 'ch2', 'ch3', 'ch4']\n",
      "    Rejecting  epoch based on EEG : ['ch1', 'ch2', 'ch3', 'ch4']\n",
      "    Rejecting  epoch based on EEG : ['ch1', 'ch2', 'ch3', 'ch4']\n",
      "    Rejecting  epoch based on EEG : ['ch1', 'ch2', 'ch3', 'ch4']\n",
      "    Rejecting  epoch based on EEG : ['ch1', 'ch2', 'ch3', 'ch4']\n",
      "    Rejecting  epoch based on EEG : ['ch1', 'ch2', 'ch3', 'ch4']\n",
      "    Rejecting  epoch based on EEG : ['ch1', 'ch2', 'ch3', 'ch4']\n",
      "    Rejecting  epoch based on EEG : ['ch1', 'ch2', 'ch3', 'ch4']\n",
      "    Rejecting  epoch based on EEG : ['ch1', 'ch2', 'ch3', 'ch4']\n",
      "    Rejecting  epoch based on EEG : ['ch1', 'ch2', 'ch3', 'ch4']\n",
      "    Rejecting  epoch based on EEG : ['ch1', 'ch2', 'ch3', 'ch4']\n",
      "    Rejecting  epoch based on EEG : ['ch1', 'ch2', 'ch3', 'ch4']\n",
      "    Rejecting  epoch based on EEG : ['ch1', 'ch2', 'ch3', 'ch4']\n",
      "    Rejecting  epoch based on EEG : ['ch1', 'ch2', 'ch3', 'ch4']\n",
      "    Rejecting  epoch based on EEG : ['ch1', 'ch2', 'ch3', 'ch4']\n",
      "    Rejecting  epoch based on EEG : ['ch1', 'ch2', 'ch3', 'ch4']\n",
      "    Rejecting  epoch based on EEG : ['ch1', 'ch2', 'ch3', 'ch4']\n",
      "    Rejecting  epoch based on EEG : ['ch1', 'ch2', 'ch3', 'ch4']\n",
      "    Rejecting  epoch based on EEG : ['ch1', 'ch2', 'ch3', 'ch4']\n",
      "    Rejecting  epoch based on EEG : ['ch1', 'ch2', 'ch3', 'ch4']\n",
      "    Rejecting  epoch based on EEG : ['ch1', 'ch2', 'ch3', 'ch4']\n",
      "    Rejecting  epoch based on EEG : ['ch1', 'ch2', 'ch3', 'ch4']\n",
      "    Rejecting  epoch based on EEG : ['ch1', 'ch2', 'ch3', 'ch4']\n",
      "    Rejecting  epoch based on EEG : ['ch1', 'ch2', 'ch3', 'ch4']\n",
      "    Rejecting  epoch based on EEG : ['ch1', 'ch2', 'ch3', 'ch4']\n",
      "    Rejecting  epoch based on EEG : ['ch1', 'ch2', 'ch3', 'ch4']\n",
      "    Rejecting  epoch based on EEG : ['ch1', 'ch2', 'ch3', 'ch4']\n",
      "    Rejecting  epoch based on EEG : ['ch1', 'ch2', 'ch3', 'ch4']\n",
      "    Rejecting  epoch based on EEG : ['ch1', 'ch2', 'ch3', 'ch4']\n",
      "    Rejecting  epoch based on EEG : ['ch1', 'ch2', 'ch3', 'ch4']\n",
      "    Rejecting  epoch based on EEG : ['ch1', 'ch2', 'ch3', 'ch4']\n",
      "    Rejecting  epoch based on EEG : ['ch1', 'ch2', 'ch3', 'ch4']\n",
      "    Rejecting  epoch based on EEG : ['ch1', 'ch2', 'ch3', 'ch4']\n",
      "    Rejecting  epoch based on EEG : ['ch1', 'ch2', 'ch3', 'ch4']\n",
      "    Rejecting  epoch based on EEG : ['ch1', 'ch2', 'ch3', 'ch4']\n",
      "    Rejecting  epoch based on EEG : ['ch1', 'ch2', 'ch3', 'ch4']\n",
      "    Rejecting  epoch based on EEG : ['ch1', 'ch2', 'ch3', 'ch4']\n",
      "    Rejecting  epoch based on EEG : ['ch1', 'ch2', 'ch3', 'ch4']\n",
      "    Rejecting  epoch based on EEG : ['ch1', 'ch2', 'ch3', 'ch4']\n",
      "    Rejecting  epoch based on EEG : ['ch1', 'ch2', 'ch3', 'ch4']\n",
      "    Rejecting  epoch based on EEG : ['ch1', 'ch2', 'ch3', 'ch4']\n",
      "    Rejecting  epoch based on EEG : ['ch1', 'ch2', 'ch3', 'ch4']\n",
      "    Rejecting  epoch based on EEG : ['ch1', 'ch2', 'ch3', 'ch4']\n",
      "    Rejecting  epoch based on EEG : ['ch1', 'ch2', 'ch3', 'ch4']\n",
      "    Rejecting  epoch based on EEG : ['ch1', 'ch2', 'ch3', 'ch4']\n",
      "    Rejecting  epoch based on EEG : ['ch1', 'ch2', 'ch3', 'ch4']\n",
      "    Rejecting  epoch based on EEG : ['ch1', 'ch2', 'ch3', 'ch4']\n",
      "    Rejecting  epoch based on EEG : ['ch1', 'ch2', 'ch3', 'ch4']\n",
      "    Rejecting  epoch based on EEG : ['ch1', 'ch2', 'ch3', 'ch4']\n",
      "    Rejecting  epoch based on EEG : ['ch1', 'ch2', 'ch3', 'ch4']\n",
      "    Rejecting  epoch based on EEG : ['ch1', 'ch2', 'ch3', 'ch4']\n",
      "    Rejecting  epoch based on EEG : ['ch1', 'ch2', 'ch3', 'ch4']\n",
      "    Rejecting  epoch based on EEG : ['ch1', 'ch2', 'ch3', 'ch4']\n",
      "    Rejecting  epoch based on EEG : ['ch1', 'ch2', 'ch3', 'ch4']\n",
      "    Rejecting  epoch based on EEG : ['ch1', 'ch2', 'ch3', 'ch4']\n",
      "    Rejecting  epoch based on EEG : ['ch1', 'ch2', 'ch3', 'ch4']\n",
      "    Rejecting  epoch based on EEG : ['ch1', 'ch2', 'ch3', 'ch4']\n",
      "    Rejecting  epoch based on EEG : ['ch1', 'ch2', 'ch3', 'ch4']\n",
      "    Rejecting  epoch based on EEG : ['ch1', 'ch2', 'ch3', 'ch4']\n",
      "    Rejecting  epoch based on EEG : ['ch1', 'ch2', 'ch3', 'ch4']\n",
      "    Rejecting  epoch based on EEG : ['ch1', 'ch2', 'ch3', 'ch4']\n",
      "    Rejecting  epoch based on EEG : ['ch1', 'ch2', 'ch3', 'ch4']\n",
      "    Rejecting  epoch based on EEG : ['ch1', 'ch2', 'ch3', 'ch4']\n",
      "    Rejecting  epoch based on EEG : ['ch1', 'ch2', 'ch3', 'ch4']\n",
      "    Rejecting  epoch based on EEG : ['ch1', 'ch2', 'ch3', 'ch4']\n",
      "    Rejecting  epoch based on EEG : ['ch1', 'ch2', 'ch3', 'ch4']\n",
      "    Rejecting  epoch based on EEG : ['ch1', 'ch2', 'ch3', 'ch4']\n",
      "    Rejecting  epoch based on EEG : ['ch1', 'ch2', 'ch3', 'ch4']\n",
      "    Rejecting  epoch based on EEG : ['ch1', 'ch2', 'ch3', 'ch4']\n",
      "    Rejecting  epoch based on EEG : ['ch1', 'ch2', 'ch3', 'ch4']\n",
      "    Rejecting  epoch based on EEG : ['ch1', 'ch2', 'ch3', 'ch4']\n",
      "    Rejecting  epoch based on EEG : ['ch1', 'ch2', 'ch3', 'ch4']\n",
      "    Rejecting  epoch based on EEG : ['ch1', 'ch2', 'ch3', 'ch4']\n",
      "    Rejecting  epoch based on EEG : ['ch1', 'ch2', 'ch3', 'ch4']\n",
      "    Rejecting  epoch based on EEG : ['ch1', 'ch2', 'ch3', 'ch4']\n",
      "    Rejecting  epoch based on EEG : ['ch1', 'ch2', 'ch3', 'ch4']\n",
      "    Rejecting  epoch based on EEG : ['ch1', 'ch2', 'ch3', 'ch4']\n",
      "    Rejecting  epoch based on EEG : ['ch1', 'ch2', 'ch3', 'ch4']\n",
      "    Rejecting  epoch based on EEG : ['ch1', 'ch2', 'ch3', 'ch4']\n",
      "    Rejecting  epoch based on EEG : ['ch1', 'ch2', 'ch3', 'ch4']\n",
      "    Rejecting  epoch based on EEG : ['ch1', 'ch2', 'ch3', 'ch4']\n",
      "    Rejecting  epoch based on EEG : ['ch1', 'ch2', 'ch3', 'ch4']\n",
      "    Rejecting  epoch based on EEG : ['ch1', 'ch2', 'ch3', 'ch4']\n",
      "    Rejecting  epoch based on EEG : ['ch1', 'ch2', 'ch3', 'ch4']\n",
      "    Rejecting  epoch based on EEG : ['ch1', 'ch2', 'ch3', 'ch4']\n",
      "    Rejecting  epoch based on EEG : ['ch1', 'ch2', 'ch3', 'ch4']\n",
      "    Rejecting  epoch based on EEG : ['ch1', 'ch2', 'ch3', 'ch4']\n",
      "    Rejecting  epoch based on EEG : ['ch1', 'ch2', 'ch3', 'ch4']\n",
      "    Rejecting  epoch based on EEG : ['ch1', 'ch2', 'ch3', 'ch4']\n",
      "    Rejecting  epoch based on EEG : ['ch1', 'ch2', 'ch3', 'ch4']\n",
      "    Rejecting  epoch based on EEG : ['ch1', 'ch2', 'ch3', 'ch4']\n",
      "    Rejecting  epoch based on EEG : ['ch1', 'ch2', 'ch3', 'ch4']\n",
      "    Rejecting  epoch based on EEG : ['ch1', 'ch2', 'ch3', 'ch4']\n",
      "    Rejecting  epoch based on EEG : ['ch1', 'ch2', 'ch3', 'ch4']\n",
      "    Rejecting  epoch based on EEG : ['ch1', 'ch2', 'ch3', 'ch4']\n",
      "    Rejecting  epoch based on EEG : ['ch1', 'ch2', 'ch3', 'ch4']\n",
      "    Rejecting  epoch based on EEG : ['ch1', 'ch2', 'ch3', 'ch4']\n",
      "    Rejecting  epoch based on EEG : ['ch1', 'ch2', 'ch3', 'ch4']\n",
      "    Rejecting  epoch based on EEG : ['ch1', 'ch2', 'ch3', 'ch4']\n",
      "    Rejecting  epoch based on EEG : ['ch1', 'ch2', 'ch3', 'ch4']\n",
      "    Rejecting  epoch based on EEG : ['ch1', 'ch2', 'ch3', 'ch4']\n",
      "    Rejecting  epoch based on EEG : ['ch1', 'ch2', 'ch3', 'ch4']\n",
      "    Rejecting  epoch based on EEG : ['ch1', 'ch2', 'ch3', 'ch4']\n",
      "    Rejecting  epoch based on EEG : ['ch1', 'ch2', 'ch3', 'ch4']\n",
      "    Rejecting  epoch based on EEG : ['ch1', 'ch2', 'ch3', 'ch4']\n",
      "    Rejecting  epoch based on EEG : ['ch1', 'ch2', 'ch3', 'ch4']\n",
      "    Rejecting  epoch based on EEG : ['ch1', 'ch2', 'ch3', 'ch4']\n",
      "    Rejecting  epoch based on EEG : ['ch1', 'ch2', 'ch3', 'ch4']\n",
      "    Rejecting  epoch based on EEG : ['ch1', 'ch2', 'ch3', 'ch4']\n",
      "    Rejecting  epoch based on EEG : ['ch1', 'ch2', 'ch3', 'ch4']\n",
      "    Rejecting  epoch based on EEG : ['ch1', 'ch2', 'ch3', 'ch4']\n",
      "    Rejecting  epoch based on EEG : ['ch1', 'ch2', 'ch3', 'ch4']\n",
      "    Rejecting  epoch based on EEG : ['ch1', 'ch2', 'ch3', 'ch4']\n",
      "    Rejecting  epoch based on EEG : ['ch1', 'ch2', 'ch3', 'ch4']\n",
      "    Rejecting  epoch based on EEG : ['ch1', 'ch2', 'ch3', 'ch4']\n",
      "    Rejecting  epoch based on EEG : ['ch1', 'ch2', 'ch3', 'ch4']\n",
      "    Rejecting  epoch based on EEG : ['ch1', 'ch2', 'ch3', 'ch4']\n",
      "    Rejecting  epoch based on EEG : ['ch1', 'ch2', 'ch3', 'ch4']\n",
      "    Rejecting  epoch based on EEG : ['ch1', 'ch2', 'ch3', 'ch4']\n",
      "    Rejecting  epoch based on EEG : ['ch1', 'ch2', 'ch3', 'ch4']\n",
      "    Rejecting  epoch based on EEG : ['ch1', 'ch2', 'ch3', 'ch4']\n",
      "    Rejecting  epoch based on EEG : ['ch1', 'ch2', 'ch3', 'ch4']\n",
      "    Rejecting  epoch based on EEG : ['ch1', 'ch2', 'ch3', 'ch4']\n",
      "    Rejecting  epoch based on EEG : ['ch1', 'ch2', 'ch3', 'ch4']\n",
      "    Rejecting  epoch based on EEG : ['ch1', 'ch2', 'ch3', 'ch4']\n",
      "    Rejecting  epoch based on EEG : ['ch1', 'ch2', 'ch3', 'ch4']\n",
      "    Rejecting  epoch based on EEG : ['ch1', 'ch2', 'ch3', 'ch4']\n",
      "    Rejecting  epoch based on EEG : ['ch1', 'ch2', 'ch3', 'ch4']\n",
      "    Rejecting  epoch based on EEG : ['ch1', 'ch2', 'ch3', 'ch4']\n",
      "    Rejecting  epoch based on EEG : ['ch1', 'ch2', 'ch3', 'ch4']\n",
      "    Rejecting  epoch based on EEG : ['ch1', 'ch2', 'ch3', 'ch4']\n",
      "    Rejecting  epoch based on EEG : ['ch1', 'ch2', 'ch3', 'ch4']\n",
      "    Rejecting  epoch based on EEG : ['ch1', 'ch2', 'ch3', 'ch4']\n",
      "    Rejecting  epoch based on EEG : ['ch1', 'ch2', 'ch3', 'ch4']\n",
      "    Rejecting  epoch based on EEG : ['ch1', 'ch2', 'ch3', 'ch4']\n",
      "    Rejecting  epoch based on EEG : ['ch1', 'ch2', 'ch3', 'ch4']\n",
      "    Rejecting  epoch based on EEG : ['ch1', 'ch2', 'ch3', 'ch4']\n",
      "    Rejecting  epoch based on EEG : ['ch1', 'ch2', 'ch3', 'ch4']\n",
      "    Rejecting  epoch based on EEG : ['ch1', 'ch2', 'ch3', 'ch4']\n",
      "    Rejecting  epoch based on EEG : ['ch1', 'ch2', 'ch3', 'ch4']\n",
      "    Rejecting  epoch based on EEG : ['ch1', 'ch2', 'ch3', 'ch4']\n",
      "    Rejecting  epoch based on EEG : ['ch1', 'ch2', 'ch3', 'ch4']\n",
      "    Rejecting  epoch based on EEG : ['ch1', 'ch2', 'ch3', 'ch4']\n",
      "    Rejecting  epoch based on EEG : ['ch1', 'ch2', 'ch3', 'ch4']\n",
      "    Rejecting  epoch based on EEG : ['ch1', 'ch2', 'ch3', 'ch4']\n",
      "    Rejecting  epoch based on EEG : ['ch1', 'ch2', 'ch3', 'ch4']\n",
      "    Rejecting  epoch based on EEG : ['ch1', 'ch2', 'ch3', 'ch4']\n",
      "    Rejecting  epoch based on EEG : ['ch1', 'ch2', 'ch3', 'ch4']\n",
      "    Rejecting  epoch based on EEG : ['ch1', 'ch2', 'ch3', 'ch4']\n",
      "    Rejecting  epoch based on EEG : ['ch1', 'ch2', 'ch3', 'ch4']\n",
      "    Rejecting  epoch based on EEG : ['ch1', 'ch2', 'ch3', 'ch4']\n",
      "    Rejecting  epoch based on EEG : ['ch1', 'ch2', 'ch3', 'ch4']\n",
      "    Rejecting  epoch based on EEG : ['ch1', 'ch2', 'ch3', 'ch4']\n",
      "    Rejecting  epoch based on EEG : ['ch1', 'ch2', 'ch3', 'ch4']\n",
      "    Rejecting  epoch based on EEG : ['ch1', 'ch2', 'ch3', 'ch4']\n",
      "    Rejecting  epoch based on EEG : ['ch1', 'ch2', 'ch3', 'ch4']\n",
      "    Rejecting  epoch based on EEG : ['ch1', 'ch2', 'ch3', 'ch4']\n",
      "    Rejecting  epoch based on EEG : ['ch1', 'ch2', 'ch3', 'ch4']\n",
      "    Rejecting  epoch based on EEG : ['ch1', 'ch2', 'ch3', 'ch4']\n",
      "    Rejecting  epoch based on EEG : ['ch1', 'ch2', 'ch3', 'ch4']\n",
      "    Rejecting  epoch based on EEG : ['ch1', 'ch2', 'ch3', 'ch4']\n",
      "    Rejecting  epoch based on EEG : ['ch1', 'ch3']\n",
      "    Rejecting  epoch based on EEG : ['ch2', 'ch4']\n",
      "    Rejecting  epoch based on EEG : ['ch1', 'ch2', 'ch3', 'ch4']\n",
      "    Rejecting  epoch based on EEG : ['ch1', 'ch2', 'ch3', 'ch4']\n",
      "    Rejecting  epoch based on EEG : ['ch1', 'ch2', 'ch3', 'ch4']\n",
      "    Rejecting  epoch based on EEG : ['ch1', 'ch3']\n",
      "    Rejecting  epoch based on EEG : ['ch1', 'ch3']\n",
      "568 bad epochs dropped\n"
     ]
    }
   ],
   "source": [
    "#del (dict)\n",
    "reject_criteria = dict(eeg=400e-6)       # 400 µV\n",
    "\n",
    "flat_criteria = dict(eeg=1e-6)           # 1 µV\n",
    "\n",
    "epochs = mne.Epochs(raw,new_events, reject=reject_criteria, flat=flat_criteria,\n",
    "                    reject_by_annotation=False, preload=True)"
   ]
  },
  {
   "cell_type": "code",
   "execution_count": 22,
   "metadata": {},
   "outputs": [
    {
     "data": {
      "text/plain": [
       "<Figure size 640x480 with 1 Axes>"
      ]
     },
     "execution_count": 22,
     "metadata": {},
     "output_type": "execute_result"
    }
   ],
   "source": [
    "epochs.plot_drop_log()"
   ]
  },
  {
   "cell_type": "code",
   "execution_count": 23,
   "metadata": {},
   "outputs": [
    {
     "name": "stdout",
     "output_type": "stream",
     "text": [
      "Setting up band-pass filter from 0.5 - 30 Hz\n",
      "\n",
      "FIR filter parameters\n",
      "---------------------\n",
      "Designing a one-pass, zero-phase, non-causal bandpass filter:\n",
      "- Windowed time-domain design (firwin) method\n",
      "- Hamming window with 0.0194 passband ripple and 53 dB stopband attenuation\n",
      "- Lower passband edge: 0.50\n",
      "- Lower transition bandwidth: 0.50 Hz (-6 dB cutoff frequency: 0.25 Hz)\n",
      "- Upper passband edge: 30.00 Hz\n",
      "- Upper transition bandwidth: 7.50 Hz (-6 dB cutoff frequency: 33.75 Hz)\n",
      "- Filter length: 6759 samples (6.601 sec)\n",
      "\n"
     ]
    },
    {
     "name": "stderr",
     "output_type": "stream",
     "text": [
      "C:\\Users\\admin\\AppData\\Local\\Temp/ipykernel_4756/3042057354.py:2: RuntimeWarning: filter_length (6759) is longer than the signal (718), distortion is likely. Reduce filter length or filter a longer signal.\n",
      "  epochs.filter(l_freq=0.5, h_freq=30)\n"
     ]
    },
    {
     "data": {
      "text/html": [
       "\n",
       "<table class=\"table table-hover\">\n",
       "    <tr>\n",
       "        <th>Number of events</th>\n",
       "        <td>70</td>\n",
       "    </tr>\n",
       "    <tr>\n",
       "        <th>Events</th>\n",
       "        <td>1: 70<br></td>\n",
       "    </tr>\n",
       "    <tr>\n",
       "        <th>Time range</th>\n",
       "        <td>-0.200 – 0.500 sec</td>\n",
       "    </tr>\n",
       "    <tr>\n",
       "        <th>Baseline</th>\n",
       "        <td>-0.200 – 0.000 sec</td>\n",
       "    </tr>\n",
       "</table>\n"
      ],
      "text/plain": [
       "<Epochs |  70 events (all good), -0.200195 - 0.5 sec, baseline -0.200195 – 0 sec, ~1.5 MB, data loaded,\n",
       " '1': 70>"
      ]
     },
     "execution_count": 23,
     "metadata": {},
     "output_type": "execute_result"
    }
   ],
   "source": [
    "epochs.load_data()\n",
    "epochs.filter(l_freq=0.5, h_freq=30)"
   ]
  },
  {
   "cell_type": "code",
   "execution_count": 24,
   "metadata": {},
   "outputs": [
    {
     "name": "stdout",
     "output_type": "stream",
     "text": [
      "    Using multitaper spectrum estimation with 7 DPSS windows\n"
     ]
    },
    {
     "name": "stderr",
     "output_type": "stream",
     "text": [
      "C:\\Users\\admin\\AppData\\Local\\Temp/ipykernel_4756/1991489676.py:1: RuntimeWarning: Channel locations not available. Disabling spatial colors.\n",
      "  epochs.plot_psd()\n"
     ]
    },
    {
     "data": {
      "text/plain": [
       "<MNELineFigure size 1000x350 with 1 Axes>"
      ]
     },
     "execution_count": 24,
     "metadata": {},
     "output_type": "execute_result"
    }
   ],
   "source": [
    "epochs.plot_psd()"
   ]
  },
  {
   "cell_type": "code",
   "execution_count": 25,
   "metadata": {},
   "outputs": [
    {
     "data": {
      "text/plain": [
       "<MNEBrowseFigure size 1919x786 with 4 Axes>"
      ]
     },
     "execution_count": 25,
     "metadata": {},
     "output_type": "execute_result"
    },
    {
     "name": "stdout",
     "output_type": "stream",
     "text": [
      "Dropped 0 epochs: \n",
      "Channels marked as bad: none\n"
     ]
    }
   ],
   "source": [
    "epochs.plot()"
   ]
  },
  {
   "cell_type": "code",
   "execution_count": 26,
   "metadata": {},
   "outputs": [
    {
     "name": "stdout",
     "output_type": "stream",
     "text": [
      "Reading 0 ... 1306623  =      0.000 ...  1275.999 secs...\n",
      "Including 0 SSP projectors from raw file\n",
      "Running EOG SSP computation\n",
      "Using EOG channel: ch1\n",
      "EOG channel index for this subject is: [0]\n",
      "Filtering the data to remove DC offset to help distinguish blinks from saccades\n",
      "Setting up band-pass filter from 1 - 10 Hz\n",
      "\n",
      "FIR filter parameters\n",
      "---------------------\n",
      "Designing a two-pass forward and reverse, zero-phase, non-causal bandpass filter:\n",
      "- Windowed frequency-domain design (firwin2) method\n",
      "- Hann window\n",
      "- Lower passband edge: 1.00\n",
      "- Lower transition bandwidth: 0.50 Hz (-12 dB cutoff frequency: 0.75 Hz)\n",
      "- Upper passband edge: 10.00 Hz\n",
      "- Upper transition bandwidth: 0.50 Hz (-12 dB cutoff frequency: 10.25 Hz)\n",
      "- Filter length: 10240 samples (10.000 sec)\n",
      "\n",
      "Now detecting blinks and generating corresponding events\n",
      "Found 89 significant peaks\n",
      "Number of EOG events detected: 89\n",
      "Computing projector\n",
      "Filtering raw data in 1 contiguous segment\n",
      "Setting up band-pass filter from 1 - 35 Hz\n",
      "\n",
      "FIR filter parameters\n",
      "---------------------\n",
      "Designing a two-pass forward and reverse, zero-phase, non-causal bandpass filter:\n",
      "- Windowed frequency-domain design (firwin2) method\n",
      "- Hamming window\n",
      "- Lower passband edge: 1.00\n",
      "- Lower transition bandwidth: 0.50 Hz (-12 dB cutoff frequency: 0.75 Hz)\n",
      "- Upper passband edge: 35.00 Hz\n",
      "- Upper transition bandwidth: 0.50 Hz (-12 dB cutoff frequency: 35.25 Hz)\n",
      "- Filter length: 10240 samples (10.000 sec)\n",
      "\n",
      "Not setting metadata\n",
      "Not setting metadata\n",
      "89 matching events found\n",
      "No baseline correction applied\n",
      "0 projection items activated\n",
      "Loading data for 89 events and 411 original time points ...\n",
      "1 bad epochs dropped\n",
      "Adding projection: eeg--0.200-0.200-PCA-01\n",
      "Done.\n"
     ]
    }
   ],
   "source": [
    "# https://mne.tools/stable/auto_tutorials/preprocessing/50_artifact_correction_ssp.html#tut-artifact-ssp\n",
    "# ecg_projs, ecg_events = mne.preprocessing.compute_proj_ecg(raw, n_grad=0, n_mag=0, n_eeg=4, ch_name='ch1', reject = None)\n",
    "eog_projs, eog_events = mne.preprocessing.compute_proj_eog(raw, n_grad=0, n_mag=0, n_eeg=1, ch_name='ch1', reject = None)\n",
    "\n",
    "# ecg_projs, ecg_events = mne.preprocessing.compute_proj_ecg(raw, n_grad=1, n_mag=1, n_eeg=1)\n",
    "# eog_projs, eog_events = mne.preprocessing.compute_proj_eog(raw, n_grad=1, n_mag=1, n_eeg=1)"
   ]
  },
  {
   "cell_type": "code",
   "execution_count": 27,
   "metadata": {},
   "outputs": [],
   "source": [
    "# projs = ecg_projs\n",
    "projs = eog_projs\n",
    "#projs = eog_projs + ecg_projs"
   ]
  },
  {
   "cell_type": "code",
   "execution_count": 28,
   "metadata": {},
   "outputs": [
    {
     "name": "stdout",
     "output_type": "stream",
     "text": [
      "1 projection items deactivated\n"
     ]
    },
    {
     "data": {
      "text/html": [
       "\n",
       "<table class=\"table table-hover\">\n",
       "    <tr>\n",
       "        <th>Number of events</th>\n",
       "        <td>70</td>\n",
       "    </tr>\n",
       "    <tr>\n",
       "        <th>Events</th>\n",
       "        <td>1: 70<br></td>\n",
       "    </tr>\n",
       "    <tr>\n",
       "        <th>Time range</th>\n",
       "        <td>-0.200 – 0.500 sec</td>\n",
       "    </tr>\n",
       "    <tr>\n",
       "        <th>Baseline</th>\n",
       "        <td>-0.200 – 0.000 sec</td>\n",
       "    </tr>\n",
       "</table>\n"
      ],
      "text/plain": [
       "<Epochs |  70 events (all good), -0.200195 - 0.5 sec, baseline -0.200195 – 0 sec, ~1.5 MB, data loaded,\n",
       " '1': 70>"
      ]
     },
     "execution_count": 28,
     "metadata": {},
     "output_type": "execute_result"
    }
   ],
   "source": [
    "epochs.add_proj(projs)"
   ]
  },
  {
   "cell_type": "code",
   "execution_count": 29,
   "metadata": {},
   "outputs": [
    {
     "name": "stdout",
     "output_type": "stream",
     "text": [
      "Created an SSP operator (subspace dimension = 1)\n",
      "1 projection items activated\n",
      "SSP projectors applied...\n"
     ]
    }
   ],
   "source": [
    "epochs_cleaned = epochs.copy().apply_proj()"
   ]
  },
  {
   "cell_type": "code",
   "execution_count": 30,
   "metadata": {},
   "outputs": [
    {
     "data": {
      "text/plain": [
       "<MNEBrowseFigure size 1919x786 with 4 Axes>"
      ]
     },
     "execution_count": 30,
     "metadata": {},
     "output_type": "execute_result"
    },
    {
     "name": "stdout",
     "output_type": "stream",
     "text": [
      "Dropped 0 epochs: \n",
      "Channels marked as bad: none\n",
      "Dropped 0 epochs: \n",
      "Channels marked as bad: none\n"
     ]
    }
   ],
   "source": [
    "epochs[0:100].plot()\n",
    "epochs_cleaned[0:100].plot()"
   ]
  },
  {
   "cell_type": "code",
   "execution_count": null,
   "metadata": {},
   "outputs": [],
   "source": [
    "epochs.save(out_file_path_fif, overwrite=True)"
   ]
  },
  {
   "cell_type": "code",
   "execution_count": 47,
   "metadata": {},
   "outputs": [
    {
     "data": {
      "text/plain": [
       "<MNEBrowseFigure size 1919x786 with 5 Axes>"
      ]
     },
     "execution_count": 47,
     "metadata": {},
     "output_type": "execute_result"
    }
   ],
   "source": [
    "epochs.plot()"
   ]
  },
  {
   "cell_type": "code",
   "execution_count": 48,
   "metadata": {},
   "outputs": [
    {
     "name": "stdout",
     "output_type": "stream",
     "text": [
      "Opening raw data file ./output_fif/2021-06-29_082127.fif...\n",
      "Isotrak not found\n",
      "    Read a total of 1 projection items:\n",
      "        EOG-eeg--0.200-0.200-PCA-01 (1 x 4)  idle\n"
     ]
    },
    {
     "name": "stderr",
     "output_type": "stream",
     "text": [
      "C:\\Users\\admin\\AppData\\Local\\Temp/ipykernel_4756/1565423483.py:1: RuntimeWarning: This filename (./output_fif/2021-06-29_082127.fif) does not conform to MNE naming conventions. All raw files should end with raw.fif, raw_sss.fif, raw_tsss.fif, _meg.fif, _eeg.fif, _ieeg.fif, raw.fif.gz, raw_sss.fif.gz, raw_tsss.fif.gz, _meg.fif.gz, _eeg.fif.gz or _ieeg.fif.gz\n",
      "  raw_new = mne.io.read_raw(out_file_path_fif)\n"
     ]
    },
    {
     "ename": "ValueError",
     "evalue": "No raw data in C:\\Users\\admin\\Desktop\\work\\my_evaluator\\output_fif\\2021-06-29_082127.fif",
     "output_type": "error",
     "traceback": [
      "\u001b[1;31m---------------------------------------------------------------------------\u001b[0m",
      "\u001b[1;31mValueError\u001b[0m                                Traceback (most recent call last)",
      "\u001b[1;32m~\\AppData\\Local\\Temp/ipykernel_4756/1565423483.py\u001b[0m in \u001b[0;36m<module>\u001b[1;34m\u001b[0m\n\u001b[1;32m----> 1\u001b[1;33m \u001b[0mraw_new\u001b[0m \u001b[1;33m=\u001b[0m \u001b[0mmne\u001b[0m\u001b[1;33m.\u001b[0m\u001b[0mio\u001b[0m\u001b[1;33m.\u001b[0m\u001b[0mread_raw\u001b[0m\u001b[1;33m(\u001b[0m\u001b[0mout_file_path_fif\u001b[0m\u001b[1;33m)\u001b[0m\u001b[1;33m\u001b[0m\u001b[1;33m\u001b[0m\u001b[0m\n\u001b[0m",
      "\u001b[1;32m~\\anaconda3\\envs\\mne\\lib\\site-packages\\mne\\io\\_read_raw.py\u001b[0m in \u001b[0;36mread_raw\u001b[1;34m(fname, preload, verbose, **kwargs)\u001b[0m\n\u001b[0;32m     93\u001b[0m     \u001b[0mext\u001b[0m \u001b[1;33m=\u001b[0m \u001b[1;34m\"\"\u001b[0m\u001b[1;33m.\u001b[0m\u001b[0mjoin\u001b[0m\u001b[1;33m(\u001b[0m\u001b[0mPath\u001b[0m\u001b[1;33m(\u001b[0m\u001b[0mfname\u001b[0m\u001b[1;33m)\u001b[0m\u001b[1;33m.\u001b[0m\u001b[0msuffixes\u001b[0m\u001b[1;33m)\u001b[0m\u001b[1;33m\u001b[0m\u001b[1;33m\u001b[0m\u001b[0m\n\u001b[0;32m     94\u001b[0m     \u001b[1;32mif\u001b[0m \u001b[0mext\u001b[0m \u001b[1;32min\u001b[0m \u001b[0mreaders\u001b[0m\u001b[1;33m:\u001b[0m\u001b[1;33m\u001b[0m\u001b[1;33m\u001b[0m\u001b[0m\n\u001b[1;32m---> 95\u001b[1;33m         \u001b[1;32mreturn\u001b[0m \u001b[0mreaders\u001b[0m\u001b[1;33m[\u001b[0m\u001b[0mext\u001b[0m\u001b[1;33m]\u001b[0m\u001b[1;33m(\u001b[0m\u001b[0mfname\u001b[0m\u001b[1;33m,\u001b[0m \u001b[0mpreload\u001b[0m\u001b[1;33m=\u001b[0m\u001b[0mpreload\u001b[0m\u001b[1;33m,\u001b[0m \u001b[0mverbose\u001b[0m\u001b[1;33m=\u001b[0m\u001b[0mverbose\u001b[0m\u001b[1;33m,\u001b[0m \u001b[1;33m**\u001b[0m\u001b[0mkwargs\u001b[0m\u001b[1;33m)\u001b[0m\u001b[1;33m\u001b[0m\u001b[1;33m\u001b[0m\u001b[0m\n\u001b[0m\u001b[0;32m     96\u001b[0m     \u001b[1;32melse\u001b[0m\u001b[1;33m:\u001b[0m\u001b[1;33m\u001b[0m\u001b[1;33m\u001b[0m\u001b[0m\n\u001b[0;32m     97\u001b[0m         \u001b[0m_read_unsupported\u001b[0m\u001b[1;33m(\u001b[0m\u001b[0mfname\u001b[0m\u001b[1;33m)\u001b[0m\u001b[1;33m\u001b[0m\u001b[1;33m\u001b[0m\u001b[0m\n",
      "\u001b[1;32m~\\anaconda3\\envs\\mne\\lib\\site-packages\\mne\\io\\fiff\\raw.py\u001b[0m in \u001b[0;36mread_raw_fif\u001b[1;34m(fname, allow_maxshield, preload, on_split_missing, verbose)\u001b[0m\n\u001b[0;32m    471\u001b[0m     \u001b[1;33m.\u001b[0m\u001b[1;33m.\u001b[0m \u001b[0mversionadded\u001b[0m\u001b[1;33m:\u001b[0m\u001b[1;33m:\u001b[0m \u001b[1;36m0.9\u001b[0m\u001b[1;36m.0\u001b[0m\u001b[1;33m\u001b[0m\u001b[1;33m\u001b[0m\u001b[0m\n\u001b[0;32m    472\u001b[0m     \"\"\"\n\u001b[1;32m--> 473\u001b[1;33m     return Raw(fname=fname, allow_maxshield=allow_maxshield,\n\u001b[0m\u001b[0;32m    474\u001b[0m                \u001b[0mpreload\u001b[0m\u001b[1;33m=\u001b[0m\u001b[0mpreload\u001b[0m\u001b[1;33m,\u001b[0m \u001b[0mverbose\u001b[0m\u001b[1;33m=\u001b[0m\u001b[0mverbose\u001b[0m\u001b[1;33m,\u001b[0m\u001b[1;33m\u001b[0m\u001b[1;33m\u001b[0m\u001b[0m\n\u001b[0;32m    475\u001b[0m                on_split_missing=on_split_missing)\n",
      "\u001b[1;32m<decorator-gen-210>\u001b[0m in \u001b[0;36m__init__\u001b[1;34m(self, fname, allow_maxshield, preload, on_split_missing, verbose)\u001b[0m\n",
      "\u001b[1;32m~\\anaconda3\\envs\\mne\\lib\\site-packages\\mne\\io\\fiff\\raw.py\u001b[0m in \u001b[0;36m__init__\u001b[1;34m(self, fname, allow_maxshield, preload, on_split_missing, verbose)\u001b[0m\n\u001b[0;32m     80\u001b[0m         \u001b[1;32mwhile\u001b[0m \u001b[0mnext_fname\u001b[0m \u001b[1;32mis\u001b[0m \u001b[1;32mnot\u001b[0m \u001b[1;32mNone\u001b[0m\u001b[1;33m:\u001b[0m\u001b[1;33m\u001b[0m\u001b[1;33m\u001b[0m\u001b[0m\n\u001b[0;32m     81\u001b[0m             \u001b[0mraw\u001b[0m\u001b[1;33m,\u001b[0m \u001b[0mnext_fname\u001b[0m\u001b[1;33m,\u001b[0m \u001b[0mbuffer_size_sec\u001b[0m \u001b[1;33m=\u001b[0m\u001b[0;31m \u001b[0m\u001b[0;31m\\\u001b[0m\u001b[1;33m\u001b[0m\u001b[1;33m\u001b[0m\u001b[0m\n\u001b[1;32m---> 82\u001b[1;33m                 self._read_raw_file(next_fname, allow_maxshield,\n\u001b[0m\u001b[0;32m     83\u001b[0m                                     preload, do_check_ext)\n\u001b[0;32m     84\u001b[0m             \u001b[0mdo_check_ext\u001b[0m \u001b[1;33m=\u001b[0m \u001b[1;32mFalse\u001b[0m\u001b[1;33m\u001b[0m\u001b[1;33m\u001b[0m\u001b[0m\n",
      "\u001b[1;32m<decorator-gen-211>\u001b[0m in \u001b[0;36m_read_raw_file\u001b[1;34m(self, fname, allow_maxshield, preload, do_check_ext, verbose)\u001b[0m\n",
      "\u001b[1;32m~\\anaconda3\\envs\\mne\\lib\\site-packages\\mne\\io\\fiff\\raw.py\u001b[0m in \u001b[0;36m_read_raw_file\u001b[1;34m(self, fname, allow_maxshield, preload, do_check_ext, verbose)\u001b[0m\n\u001b[0;32m    169\u001b[0m                     \u001b[0mraw_node\u001b[0m \u001b[1;33m=\u001b[0m \u001b[0mdir_tree_find\u001b[0m\u001b[1;33m(\u001b[0m\u001b[0mmeas\u001b[0m\u001b[1;33m,\u001b[0m \u001b[0mFIFF\u001b[0m\u001b[1;33m.\u001b[0m\u001b[0mFIFFB_IAS_RAW_DATA\u001b[0m\u001b[1;33m)\u001b[0m\u001b[1;33m\u001b[0m\u001b[1;33m\u001b[0m\u001b[0m\n\u001b[0;32m    170\u001b[0m                     \u001b[1;32mif\u001b[0m \u001b[1;33m(\u001b[0m\u001b[0mlen\u001b[0m\u001b[1;33m(\u001b[0m\u001b[0mraw_node\u001b[0m\u001b[1;33m)\u001b[0m \u001b[1;33m==\u001b[0m \u001b[1;36m0\u001b[0m\u001b[1;33m)\u001b[0m\u001b[1;33m:\u001b[0m\u001b[1;33m\u001b[0m\u001b[1;33m\u001b[0m\u001b[0m\n\u001b[1;32m--> 171\u001b[1;33m                         \u001b[1;32mraise\u001b[0m \u001b[0mValueError\u001b[0m\u001b[1;33m(\u001b[0m\u001b[1;34m'No raw data in %s'\u001b[0m \u001b[1;33m%\u001b[0m \u001b[0mfname_rep\u001b[0m\u001b[1;33m)\u001b[0m\u001b[1;33m\u001b[0m\u001b[1;33m\u001b[0m\u001b[0m\n\u001b[0m\u001b[0;32m    172\u001b[0m                     \u001b[0m_check_maxshield\u001b[0m\u001b[1;33m(\u001b[0m\u001b[0mallow_maxshield\u001b[0m\u001b[1;33m)\u001b[0m\u001b[1;33m\u001b[0m\u001b[1;33m\u001b[0m\u001b[0m\n\u001b[0;32m    173\u001b[0m                     \u001b[0minfo\u001b[0m\u001b[1;33m[\u001b[0m\u001b[1;34m'maxshield'\u001b[0m\u001b[1;33m]\u001b[0m \u001b[1;33m=\u001b[0m \u001b[1;32mTrue\u001b[0m\u001b[1;33m\u001b[0m\u001b[1;33m\u001b[0m\u001b[0m\n",
      "\u001b[1;31mValueError\u001b[0m: No raw data in C:\\Users\\admin\\Desktop\\work\\my_evaluator\\output_fif\\2021-06-29_082127.fif"
     ]
    }
   ],
   "source": [
    "raw_new = mne.io.read_raw(out_file_path_fif)"
   ]
  },
  {
   "cell_type": "code",
   "execution_count": null,
   "metadata": {},
   "outputs": [],
   "source": [
    "# https://github.com/massich/mne-extras\n",
    "write_edf(mne_raw, fname, picks=None, tmin=0, tmax=None, overwrite=False)"
   ]
  },
  {
   "cell_type": "code",
   "execution_count": 34,
   "metadata": {},
   "outputs": [
    {
     "name": "stdout",
     "output_type": "stream",
     "text": [
      "./output_fif/final_2021-06-29_082127.edf\n"
     ]
    },
    {
     "ename": "AssertionError",
     "evalue": "signals and signal_headers must be same length",
     "output_type": "error",
     "traceback": [
      "\u001b[1;31m---------------------------------------------------------------------------\u001b[0m",
      "\u001b[1;31mAssertionError\u001b[0m                            Traceback (most recent call last)",
      "\u001b[1;32m~\\AppData\\Local\\Temp/ipykernel_4756/1733259162.py\u001b[0m in \u001b[0;36m<module>\u001b[1;34m\u001b[0m\n\u001b[0;32m      1\u001b[0m \u001b[1;32mwith\u001b[0m \u001b[0mopen\u001b[0m\u001b[1;33m(\u001b[0m\u001b[0mout_final_edf\u001b[0m\u001b[1;33m,\u001b[0m \u001b[1;34m'w'\u001b[0m\u001b[1;33m)\u001b[0m \u001b[1;32mas\u001b[0m \u001b[0moutput\u001b[0m\u001b[1;33m:\u001b[0m\u001b[1;33m\u001b[0m\u001b[1;33m\u001b[0m\u001b[0m\n\u001b[0;32m      2\u001b[0m     \u001b[0mprint\u001b[0m\u001b[1;33m(\u001b[0m\u001b[0mout_final_edf\u001b[0m\u001b[1;33m)\u001b[0m\u001b[1;33m\u001b[0m\u001b[1;33m\u001b[0m\u001b[0m\n\u001b[1;32m----> 3\u001b[1;33m     \u001b[0mflag\u001b[0m \u001b[1;33m=\u001b[0m \u001b[0mpyedflib\u001b[0m\u001b[1;33m.\u001b[0m\u001b[0mhighlevel\u001b[0m\u001b[1;33m.\u001b[0m\u001b[0mwrite_edf\u001b[0m\u001b[1;33m(\u001b[0m\u001b[0moutput\u001b[0m\u001b[1;33m.\u001b[0m\u001b[0mname\u001b[0m\u001b[1;33m,\u001b[0m \u001b[0mepochs\u001b[0m\u001b[1;33m,\u001b[0m \u001b[0mheaders\u001b[0m\u001b[1;33m,\u001b[0m \u001b[0mheader\u001b[0m\u001b[1;33m=\u001b[0m\u001b[1;32mNone\u001b[0m\u001b[1;33m,\u001b[0m \u001b[0mdigital\u001b[0m\u001b[1;33m=\u001b[0m\u001b[1;32mFalse\u001b[0m\u001b[1;33m,\u001b[0m \u001b[0mfile_type\u001b[0m\u001b[1;33m=\u001b[0m\u001b[1;33m-\u001b[0m\u001b[1;36m1\u001b[0m\u001b[1;33m,\u001b[0m \u001b[0mblock_size\u001b[0m\u001b[1;33m=\u001b[0m\u001b[1;36m1\u001b[0m\u001b[1;33m)\u001b[0m\u001b[1;33m\u001b[0m\u001b[1;33m\u001b[0m\u001b[0m\n\u001b[0m\u001b[0;32m      4\u001b[0m     \u001b[0mprint\u001b[0m\u001b[1;33m(\u001b[0m\u001b[0mflag\u001b[0m\u001b[1;33m)\u001b[0m\u001b[1;33m\u001b[0m\u001b[1;33m\u001b[0m\u001b[0m\n",
      "\u001b[1;32m~\\anaconda3\\envs\\mne\\lib\\site-packages\\pyedflib\\highlevel.py\u001b[0m in \u001b[0;36mwrite_edf\u001b[1;34m(edf_file, signals, signal_headers, header, digital, file_type, block_size)\u001b[0m\n\u001b[0;32m    418\u001b[0m     \u001b[1;32massert\u001b[0m \u001b[0misinstance\u001b[0m\u001b[1;33m(\u001b[0m\u001b[0msignal_headers\u001b[0m\u001b[1;33m,\u001b[0m \u001b[0mlist\u001b[0m\u001b[1;33m)\u001b[0m\u001b[1;33m,\u001b[0m\u001b[0;31m \u001b[0m\u001b[0;31m\\\u001b[0m\u001b[1;33m\u001b[0m\u001b[1;33m\u001b[0m\u001b[0m\n\u001b[0;32m    419\u001b[0m         \u001b[1;34m'signal headers must be list'\u001b[0m\u001b[1;33m\u001b[0m\u001b[1;33m\u001b[0m\u001b[0m\n\u001b[1;32m--> 420\u001b[1;33m     \u001b[1;32massert\u001b[0m \u001b[0mlen\u001b[0m\u001b[1;33m(\u001b[0m\u001b[0msignal_headers\u001b[0m\u001b[1;33m)\u001b[0m\u001b[1;33m==\u001b[0m\u001b[0mlen\u001b[0m\u001b[1;33m(\u001b[0m\u001b[0msignals\u001b[0m\u001b[1;33m)\u001b[0m\u001b[1;33m,\u001b[0m\u001b[0;31m \u001b[0m\u001b[0;31m\\\u001b[0m\u001b[1;33m\u001b[0m\u001b[1;33m\u001b[0m\u001b[0m\n\u001b[0m\u001b[0;32m    421\u001b[0m         \u001b[1;34m'signals and signal_headers must be same length'\u001b[0m\u001b[1;33m\u001b[0m\u001b[1;33m\u001b[0m\u001b[0m\n\u001b[0;32m    422\u001b[0m     \u001b[1;32massert\u001b[0m \u001b[0mfile_type\u001b[0m \u001b[1;32min\u001b[0m \u001b[1;33m[\u001b[0m\u001b[1;33m-\u001b[0m\u001b[1;36m1\u001b[0m\u001b[1;33m,\u001b[0m \u001b[1;36m0\u001b[0m\u001b[1;33m,\u001b[0m \u001b[1;36m1\u001b[0m\u001b[1;33m,\u001b[0m \u001b[1;36m2\u001b[0m\u001b[1;33m,\u001b[0m \u001b[1;36m3\u001b[0m\u001b[1;33m]\u001b[0m\u001b[1;33m,\u001b[0m\u001b[0;31m \u001b[0m\u001b[0;31m\\\u001b[0m\u001b[1;33m\u001b[0m\u001b[1;33m\u001b[0m\u001b[0m\n",
      "\u001b[1;31mAssertionError\u001b[0m: signals and signal_headers must be same length"
     ]
    }
   ],
   "source": [
    "with open(out_final_edf, 'w') as output:\n",
    "    print(out_final_edf)\n",
    "    flag = pyedflib.highlevel.write_edf(output.name, raw_new, headers, header=None, digital=False, file_type=-1, block_size=1)\n",
    "    print(flag)"
   ]
  },
  {
   "cell_type": "code",
   "execution_count": null,
   "metadata": {},
   "outputs": [],
   "source": []
  }
 ],
 "metadata": {
  "kernelspec": {
   "display_name": "Python 3 (ipykernel)",
   "language": "python",
   "name": "python3"
  },
  "language_info": {
   "codemirror_mode": {
    "name": "ipython",
    "version": 3
   },
   "file_extension": ".py",
   "mimetype": "text/x-python",
   "name": "python",
   "nbconvert_exporter": "python",
   "pygments_lexer": "ipython3",
   "version": "3.9.5"
  }
 },
 "nbformat": 4,
 "nbformat_minor": 4
}
